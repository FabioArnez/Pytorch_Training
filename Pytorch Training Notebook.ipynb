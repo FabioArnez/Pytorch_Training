{
  "nbformat": 4,
  "nbformat_minor": 0,
  "metadata": {
    "kernelspec": {
      "name": "python3",
      "display_name": "Python 3"
    },
    "language_info": {
      "codemirror_mode": {
        "name": "ipython",
        "version": 3
      },
      "file_extension": ".py",
      "mimetype": "text/x-python",
      "name": "python",
      "nbconvert_exporter": "python",
      "pygments_lexer": "ipython3",
      "version": "3.7.3"
    },
    "colab": {
      "name": "Pytorch Training Notebook.ipynb",
      "provenance": [],
      "include_colab_link": true
    },
    "accelerator": "GPU"
  },
  "cells": [
    {
      "cell_type": "markdown",
      "metadata": {
        "id": "view-in-github",
        "colab_type": "text"
      },
      "source": [
        "<a href=\"https://colab.research.google.com/github/FabioArnez/Pytorch_Training/blob/master/Pytorch%20Training%20Notebook.ipynb\" target=\"_parent\"><img src=\"https://colab.research.google.com/assets/colab-badge.svg\" alt=\"Open In Colab\"/></a>"
      ]
    },
    {
      "cell_type": "markdown",
      "metadata": {
        "id": "8n_I4QKbSdwR",
        "colab_type": "text"
      },
      "source": [
        "# Pytorch Training Notebook"
      ]
    },
    {
      "cell_type": "markdown",
      "metadata": {
        "id": "XP6wxI_SSdwT",
        "colab_type": "text"
      },
      "source": [
        "## MNIST Example\n",
        "\n",
        "- Image size 28x28 pixels $\\rightarrow$ 784"
      ]
    },
    {
      "cell_type": "markdown",
      "metadata": {
        "id": "eH5yNIrQSdwT",
        "colab_type": "text"
      },
      "source": [
        "### Fully Connected MLP Network"
      ]
    },
    {
      "cell_type": "markdown",
      "metadata": {
        "id": "aU0Us_7HSdwU",
        "colab_type": "text"
      },
      "source": [
        "Import Torch Libraries"
      ]
    },
    {
      "cell_type": "code",
      "metadata": {
        "id": "KYxrRJl1SdwV",
        "colab_type": "code",
        "colab": {}
      },
      "source": [
        "import torch\n",
        "import torch.nn as nn\n",
        "import torchvision\n",
        "import torchvision.transforms as transforms\n",
        "import matplotlib.pyplot as plt"
      ],
      "execution_count": 0,
      "outputs": []
    },
    {
      "cell_type": "markdown",
      "metadata": {
        "id": "RbQ7gxH-SdwX",
        "colab_type": "text"
      },
      "source": [
        "Check if CPU | GPU will be used"
      ]
    },
    {
      "cell_type": "code",
      "metadata": {
        "id": "Uz1QBgSlSdwY",
        "colab_type": "code",
        "colab": {
          "base_uri": "https://localhost:8080/",
          "height": 34
        },
        "outputId": "19f5a59c-890a-499c-9cd5-9020edd672b8"
      },
      "source": [
        "# Device configuration\n",
        "device = torch.device('cuda' if torch.cuda.is_available() else 'cpu')\n",
        "\n",
        "if device == \"cuda\":\n",
        "    device_name = \"CUDA\"\n",
        "else:\n",
        "    device_name = \"CPU\"\n",
        "\n",
        "print(\"% s will be used for training/testing\" % device_name)"
      ],
      "execution_count": 9,
      "outputs": [
        {
          "output_type": "stream",
          "text": [
            "CPU will be used for training/testing\n"
          ],
          "name": "stdout"
        }
      ]
    },
    {
      "cell_type": "markdown",
      "metadata": {
        "id": "2yKV3eAaSdwa",
        "colab_type": "text"
      },
      "source": [
        "Define network Hyperparameters"
      ]
    },
    {
      "cell_type": "code",
      "metadata": {
        "id": "ARCuqbjXSdwb",
        "colab_type": "code",
        "colab": {}
      },
      "source": [
        "# neural net input size\n",
        "input_size = 784\n",
        "hidden_size = 500\n",
        "num_classes = 10\n",
        "num_epochs = 10\n",
        "batch_size = 100\n",
        "learning_rate = 0.001"
      ],
      "execution_count": 0,
      "outputs": []
    },
    {
      "cell_type": "markdown",
      "metadata": {
        "id": "hR9EyEheSdwd",
        "colab_type": "text"
      },
      "source": [
        "Load MNIST Dataset"
      ]
    },
    {
      "cell_type": "code",
      "metadata": {
        "id": "iZR7iXJmSdwd",
        "colab_type": "code",
        "colab": {},
        "outputId": "b8e8c3fd-eb3c-431b-e07a-341b67e827c6"
      },
      "source": [
        "train_dataset = torchvision.datasets.MNIST(root='../data',\n",
        "                                           train=True,\n",
        "                                           transform= transforms.ToTensor(),\n",
        "                                           download=True)\n",
        "\n",
        "\n",
        "test_dataset = torchvision.datasets.MNIST(root='../data',\n",
        "                                          train=False,\n",
        "                                          transform=transforms.ToTensor())"
      ],
      "execution_count": 0,
      "outputs": [
        {
          "output_type": "stream",
          "text": [
            "\r0it [00:00, ?it/s]"
          ],
          "name": "stderr"
        },
        {
          "output_type": "stream",
          "text": [
            "Downloading http://yann.lecun.com/exdb/mnist/train-images-idx3-ubyte.gz to ../data/MNIST/raw/train-images-idx3-ubyte.gz\n"
          ],
          "name": "stdout"
        },
        {
          "output_type": "stream",
          "text": [
            "9920512it [01:53, 117600.48it/s]                             "
          ],
          "name": "stderr"
        },
        {
          "output_type": "stream",
          "text": [
            "Extracting ../data/MNIST/raw/train-images-idx3-ubyte.gz to ../data/MNIST/raw\n"
          ],
          "name": "stdout"
        },
        {
          "output_type": "stream",
          "text": [
            "\n",
            "0it [00:00, ?it/s]\u001b[A"
          ],
          "name": "stderr"
        },
        {
          "output_type": "stream",
          "text": [
            "Downloading http://yann.lecun.com/exdb/mnist/train-labels-idx1-ubyte.gz to ../data/MNIST/raw/train-labels-idx1-ubyte.gz\n"
          ],
          "name": "stdout"
        },
        {
          "output_type": "stream",
          "text": [
            "\n",
            "  0%|          | 0/28881 [00:00<?, ?it/s]\u001b[A\n",
            " 57%|█████▋    | 16384/28881 [00:00<00:00, 121461.00it/s]\u001b[A\n",
            "32768it [00:00, 123658.37it/s]                           \u001b[A\n",
            "0it [00:00, ?it/s]\u001b[A"
          ],
          "name": "stderr"
        },
        {
          "output_type": "stream",
          "text": [
            "Extracting ../data/MNIST/raw/train-labels-idx1-ubyte.gz to ../data/MNIST/raw\n",
            "Downloading http://yann.lecun.com/exdb/mnist/t10k-images-idx3-ubyte.gz to ../data/MNIST/raw/t10k-images-idx3-ubyte.gz\n"
          ],
          "name": "stdout"
        },
        {
          "output_type": "stream",
          "text": [
            "\n",
            "  0%|          | 0/1648877 [00:00<?, ?it/s]\u001b[A\n",
            "  1%|          | 16384/1648877 [00:00<00:17, 91185.36it/s]\u001b[A\n",
            "  2%|▏         | 32768/1648877 [00:00<00:16, 97613.84it/s]\u001b[A\n",
            "  3%|▎         | 49152/1648877 [00:00<00:15, 104556.86it/s]\u001b[A\n",
            "  4%|▍         | 65536/1648877 [00:00<00:14, 110437.51it/s]\u001b[A\n",
            "  5%|▍         | 81920/1648877 [00:00<00:13, 117243.89it/s]\u001b[A\n",
            "  6%|▌         | 98304/1648877 [00:01<00:12, 122281.57it/s]\u001b[A\n",
            "  7%|▋         | 114688/1648877 [00:01<00:12, 121808.08it/s]\u001b[A\n",
            "  8%|▊         | 131072/1648877 [00:01<00:12, 121007.53it/s]\u001b[A\n",
            "  9%|▉         | 147456/1648877 [00:01<00:11, 125252.96it/s]\u001b[A\n",
            " 10%|█         | 172032/1648877 [00:01<00:11, 130689.20it/s]\u001b[A\n",
            " 12%|█▏        | 196608/1648877 [00:01<00:10, 145142.30it/s]\u001b[A\n",
            " 13%|█▎        | 212992/1648877 [00:01<00:09, 149607.05it/s]\u001b[A\n",
            " 14%|█▍        | 237568/1648877 [00:02<00:08, 162512.02it/s]\u001b[A\n",
            " 16%|█▌        | 262144/1648877 [00:02<00:14, 96120.21it/s] \u001b[A\n",
            " 17%|█▋        | 286720/1648877 [00:02<00:12, 106886.37it/s]\u001b[A\n",
            " 18%|█▊        | 303104/1648877 [00:02<00:11, 116533.95it/s]\u001b[A\n",
            " 19%|█▉        | 319488/1648877 [00:03<00:15, 87136.50it/s] \u001b[A\n",
            " 21%|██        | 344064/1648877 [00:03<00:14, 88221.49it/s]\u001b[A\n",
            " 22%|██▏       | 360448/1648877 [00:03<00:15, 84905.16it/s]\u001b[A\n",
            " 23%|██▎       | 376832/1648877 [00:03<00:16, 79159.02it/s]\u001b[A\n",
            " 24%|██▍       | 393216/1648877 [00:03<00:15, 83585.18it/s]\u001b[A\n",
            " 25%|██▍       | 409600/1648877 [00:04<00:13, 91277.08it/s]\u001b[A\n",
            " 26%|██▌       | 425984/1648877 [00:04<00:14, 85002.31it/s]\u001b[A\n",
            " 27%|██▋       | 442368/1648877 [00:04<00:14, 80861.96it/s]\u001b[A\n",
            " 28%|██▊       | 458752/1648877 [00:04<00:15, 78807.36it/s]\u001b[A\n",
            " 29%|██▉       | 475136/1648877 [00:04<00:13, 87338.20it/s]\u001b[A\n",
            " 30%|██▉       | 491520/1648877 [00:05<00:12, 90963.38it/s]\u001b[A\n",
            " 31%|███       | 507904/1648877 [00:05<00:11, 96294.92it/s]\u001b[A\n",
            " 32%|███▏      | 524288/1648877 [00:05<00:11, 101575.28it/s]\u001b[A\n",
            " 33%|███▎      | 540672/1648877 [00:05<00:10, 103883.98it/s]\u001b[A\n",
            " 34%|███▍      | 557056/1648877 [00:05<00:09, 110633.19it/s]\u001b[A\n",
            " 35%|███▍      | 573440/1648877 [00:05<00:09, 118794.51it/s]\u001b[A\n",
            " 36%|███▌      | 589824/1648877 [00:05<00:08, 120681.32it/s]\u001b[A\n",
            " 37%|███▋      | 606208/1648877 [00:06<00:10, 99951.13it/s] \u001b[A\n",
            " 38%|███▊      | 622592/1648877 [00:06<00:10, 97276.05it/s]\u001b[A\n",
            " 39%|███▉      | 638976/1648877 [00:06<00:09, 106235.43it/s]\u001b[A\n",
            " 40%|███▉      | 655360/1648877 [00:06<00:11, 87195.94it/s] \u001b[A\n",
            " 41%|████      | 671744/1648877 [00:06<00:12, 80137.03it/s]\u001b[A\n",
            " 42%|████▏     | 688128/1648877 [00:07<00:12, 79462.49it/s]\u001b[A\n",
            " 43%|████▎     | 704512/1648877 [00:07<00:10, 86601.10it/s]\u001b[A\n",
            " 44%|████▎     | 720896/1648877 [00:07<00:10, 89329.89it/s]\u001b[A\n",
            " 45%|████▍     | 737280/1648877 [00:07<00:10, 88366.21it/s]\u001b[A\n",
            " 46%|████▌     | 753664/1648877 [00:07<00:09, 92354.76it/s]\u001b[A\n",
            " 47%|████▋     | 770048/1648877 [00:07<00:09, 92698.81it/s]\u001b[A\n",
            " 48%|████▊     | 786432/1648877 [00:08<00:08, 101356.41it/s]\u001b[A\n",
            " 49%|████▊     | 802816/1648877 [00:08<00:07, 109977.51it/s]\u001b[A\n",
            " 50%|████▉     | 819200/1648877 [00:08<00:06, 118613.67it/s]\u001b[A\n",
            " 51%|█████     | 835584/1648877 [00:08<00:09, 88045.26it/s] \u001b[A\n",
            " 52%|█████▏    | 860160/1648877 [00:08<00:08, 96413.75it/s]\u001b[A\n",
            " 53%|█████▎    | 876544/1648877 [00:08<00:07, 101405.05it/s]\u001b[A\n",
            " 54%|█████▍    | 892928/1648877 [00:09<00:09, 76266.19it/s] \u001b[A\n",
            " 56%|█████▌    | 917504/1648877 [00:09<00:07, 91834.15it/s]\u001b[A\n",
            " 57%|█████▋    | 933888/1648877 [00:09<00:08, 88306.53it/s]\u001b[A\n",
            " 58%|█████▊    | 950272/1648877 [00:09<00:07, 92462.74it/s]\u001b[A\n",
            " 59%|█████▊    | 966656/1648877 [00:10<00:07, 93510.93it/s]\u001b[A\n",
            " 60%|█████▉    | 983040/1648877 [00:10<00:06, 97979.05it/s]\u001b[A\n",
            " 61%|██████    | 999424/1648877 [00:10<00:08, 76593.36it/s]\u001b[A\n",
            " 62%|██████▏   | 1015808/1648877 [00:10<00:07, 80890.96it/s]\u001b[A\n",
            " 63%|██████▎   | 1032192/1648877 [00:10<00:08, 72084.23it/s]\u001b[A\n",
            " 63%|██████▎   | 1040384/1648877 [00:11<00:23, 26345.27it/s]\u001b[A\n",
            " 64%|██████▎   | 1048576/1648877 [00:11<00:19, 30519.50it/s]\u001b[A\n",
            " 65%|██████▍   | 1064960/1648877 [00:12<00:15, 38010.16it/s]\u001b[A\n",
            " 66%|██████▌   | 1081344/1648877 [00:12<00:12, 46306.73it/s]\u001b[A\n",
            " 66%|██████▌   | 1089536/1648877 [00:12<00:12, 45759.22it/s]\u001b[A\n",
            " 67%|██████▋   | 1105920/1648877 [00:12<00:09, 56266.77it/s]\u001b[A\n",
            " 68%|██████▊   | 1122304/1648877 [00:12<00:08, 63737.02it/s]\u001b[A\n",
            " 69%|██████▉   | 1138688/1648877 [00:12<00:07, 69254.24it/s]\u001b[A\n",
            " 70%|███████   | 1155072/1648877 [00:13<00:06, 75588.74it/s]\u001b[A\n",
            " 71%|███████   | 1171456/1648877 [00:13<00:05, 80037.65it/s]\u001b[A\n",
            " 72%|███████▏  | 1187840/1648877 [00:13<00:05, 83010.26it/s]\u001b[A\n",
            " 73%|███████▎  | 1204224/1648877 [00:13<00:04, 89617.39it/s]\u001b[A\n",
            " 74%|███████▍  | 1220608/1648877 [00:13<00:04, 89030.22it/s]\u001b[A\n",
            " 75%|███████▌  | 1236992/1648877 [00:13<00:04, 90873.62it/s]\u001b[A\n",
            " 76%|███████▌  | 1253376/1648877 [00:14<00:04, 91297.07it/s]\u001b[A\n",
            " 78%|███████▊  | 1277952/1648877 [00:14<00:03, 101590.40it/s]\u001b[A\n",
            " 78%|███████▊  | 1294336/1648877 [00:14<00:03, 98441.11it/s] \u001b[A\n",
            " 79%|███████▉  | 1310720/1648877 [00:14<00:03, 106525.31it/s]\u001b[A\n",
            " 81%|████████  | 1335296/1648877 [00:14<00:02, 120853.88it/s]\u001b[A\n",
            " 82%|████████▏ | 1359872/1648877 [00:14<00:02, 128924.15it/s]\u001b[A\n",
            " 84%|████████▍ | 1384448/1648877 [00:15<00:01, 137743.26it/s]\u001b[A\n",
            " 85%|████████▌ | 1409024/1648877 [00:15<00:01, 149958.98it/s]\u001b[A\n",
            "9920512it [02:10, 117600.48it/s] [00:15<00:01, 160050.65it/s]\u001b[A\n",
            " 88%|████████▊ | 1458176/1648877 [00:15<00:01, 171100.87it/s]\u001b[A\n",
            " 90%|████████▉ | 1482752/1648877 [00:15<00:00, 180098.36it/s]\u001b[A\n",
            " 91%|█████████▏| 1507328/1648877 [00:15<00:01, 120619.64it/s]\u001b[A\n",
            " 92%|█████████▏| 1523712/1648877 [00:16<00:01, 103642.41it/s]\u001b[A\n",
            " 93%|█████████▎| 1540096/1648877 [00:16<00:00, 109645.89it/s]\u001b[A\n",
            " 94%|█████████▍| 1556480/1648877 [00:16<00:00, 101425.65it/s]\u001b[A\n",
            " 95%|█████████▌| 1572864/1648877 [00:16<00:00, 112115.25it/s]\u001b[A\n",
            " 96%|█████████▋| 1589248/1648877 [00:16<00:00, 95606.32it/s] \u001b[A\n",
            " 97%|█████████▋| 1605632/1648877 [00:17<00:00, 89364.80it/s]\u001b[A\n",
            " 98%|█████████▊| 1622016/1648877 [00:17<00:00, 87184.95it/s]\u001b[A\n",
            " 99%|█████████▉| 1638400/1648877 [00:17<00:00, 84802.61it/s]\u001b[A\n",
            "1654784it [00:17, 94928.22it/s]                             \u001b[A\n",
            "\n",
            "0it [00:00, ?it/s]\u001b[A\u001b[A"
          ],
          "name": "stderr"
        },
        {
          "output_type": "stream",
          "text": [
            "Extracting ../data/MNIST/raw/t10k-images-idx3-ubyte.gz to ../data/MNIST/raw\n",
            "Downloading http://yann.lecun.com/exdb/mnist/t10k-labels-idx1-ubyte.gz to ../data/MNIST/raw/t10k-labels-idx1-ubyte.gz\n"
          ],
          "name": "stdout"
        },
        {
          "output_type": "stream",
          "text": [
            "\n",
            "\n",
            "  0%|          | 0/4542 [00:00<?, ?it/s]\u001b[A\u001b[A\n",
            "\n",
            "8192it [00:00, 31450.96it/s]            \u001b[A\u001b[A"
          ],
          "name": "stderr"
        },
        {
          "output_type": "stream",
          "text": [
            "Extracting ../data/MNIST/raw/t10k-labels-idx1-ubyte.gz to ../data/MNIST/raw\n",
            "Processing...\n",
            "Done!\n"
          ],
          "name": "stdout"
        }
      ]
    },
    {
      "cell_type": "markdown",
      "metadata": {
        "id": "TFTiFRYNSdwf",
        "colab_type": "text"
      },
      "source": [
        "Data Loader"
      ]
    },
    {
      "cell_type": "code",
      "metadata": {
        "id": "fjSFMUYhSdwf",
        "colab_type": "code",
        "colab": {}
      },
      "source": [
        "train_loader = torch.utils.data.DataLoader(dataset=train_dataset,\n",
        "                                           batch_size=batch_size,\n",
        "                                           shuffle=True)\n",
        "\n",
        "test_loader = torch.utils.data.DataLoader(dataset=test_dataset,\n",
        "                                          batch_size=batch_size,\n",
        "                                          shuffle=False)"
      ],
      "execution_count": 0,
      "outputs": []
    },
    {
      "cell_type": "markdown",
      "metadata": {
        "id": "ItjB6HpZSdwh",
        "colab_type": "text"
      },
      "source": [
        "Build the nueral network"
      ]
    },
    {
      "cell_type": "code",
      "metadata": {
        "id": "DHIgWbIiSdwi",
        "colab_type": "code",
        "colab": {}
      },
      "source": [
        "class FcnNeuralNet(nn.Module):\n",
        "    def __init__(self, input_size, hidden_size, num_classes):\n",
        "        super().__init__()\n",
        "        self.fc1 = nn.Linear(input_size, hidden_size)\n",
        "        self.relu = nn.ReLU()\n",
        "        self.fc2 = nn.Linear(hidden_size, num_classes)\n",
        "        \n",
        "    def forward(self, x):\n",
        "        out = self.fc1(x)\n",
        "        out = self.relu(out)\n",
        "        out = self.fc2(out)\n",
        "        return out"
      ],
      "execution_count": 0,
      "outputs": []
    },
    {
      "cell_type": "code",
      "metadata": {
        "id": "q9hJh4bRSdwj",
        "colab_type": "code",
        "colab": {}
      },
      "source": [
        "neuralNet_model = FcnNeuralNet(input_size, hidden_size, num_classes).to(device)"
      ],
      "execution_count": 0,
      "outputs": []
    },
    {
      "cell_type": "markdown",
      "metadata": {
        "id": "83T315HDSdwl",
        "colab_type": "text"
      },
      "source": [
        "Loss Optimizer"
      ]
    },
    {
      "cell_type": "code",
      "metadata": {
        "id": "L8iZKFWBSdwm",
        "colab_type": "code",
        "colab": {}
      },
      "source": [
        "criterion = nn.CrossEntropyLoss()\n",
        "optimizer = torch.optim.Adam(neuralNet_model.parameters(), lr=learning_rate)"
      ],
      "execution_count": 0,
      "outputs": []
    },
    {
      "cell_type": "markdown",
      "metadata": {
        "id": "WL1HISSTSdwn",
        "colab_type": "text"
      },
      "source": [
        "Model Training"
      ]
    },
    {
      "cell_type": "code",
      "metadata": {
        "id": "NwNfvWkrSdwo",
        "colab_type": "code",
        "colab": {},
        "outputId": "277d07f9-65c1-4f6c-d7c7-829f843ac382"
      },
      "source": [
        "total_step = len(train_loader)\n",
        "\n",
        "for epoch in range(num_epochs):\n",
        "    for i, (images, labels) in enumerate(train_loader):\n",
        "        # Move tensors to the configured device\n",
        "        images =  images.reshape(-1, 28*28).to(device)\n",
        "        labels = labels.to(device)\n",
        "\n",
        "        # Forward pass\n",
        "        outputs = neuralNet_model(images)\n",
        "        loss = criterion(outputs, labels)\n",
        "\n",
        "        # Backward pass\n",
        "        optimizer.zero_grad()\n",
        "        loss.backward()\n",
        "        optimizer.step()\n",
        "\n",
        "        if (i+1) % 100 == 0:\n",
        "            print('Epoch [{}/{}], Step[{}/{}], Loss:{:.4f}'\n",
        "                  .format(epoch+1, num_epochs, i+1, total_step, loss.item()))\n",
        "        \n"
      ],
      "execution_count": 0,
      "outputs": [
        {
          "output_type": "stream",
          "text": [
            "Epoch [1/10], Step[100/600], Loss:0.0025\n",
            "Epoch [1/10], Step[200/600], Loss:0.0047\n",
            "Epoch [1/10], Step[300/600], Loss:0.0019\n",
            "Epoch [1/10], Step[400/600], Loss:0.0049\n",
            "Epoch [1/10], Step[500/600], Loss:0.0029\n",
            "Epoch [1/10], Step[600/600], Loss:0.0027\n",
            "Epoch [2/10], Step[100/600], Loss:0.0036\n",
            "Epoch [2/10], Step[200/600], Loss:0.0018\n",
            "Epoch [2/10], Step[300/600], Loss:0.0018\n",
            "Epoch [2/10], Step[400/600], Loss:0.0111\n",
            "Epoch [2/10], Step[500/600], Loss:0.0015\n",
            "Epoch [2/10], Step[600/600], Loss:0.0111\n",
            "Epoch [3/10], Step[100/600], Loss:0.0112\n",
            "Epoch [3/10], Step[200/600], Loss:0.0020\n",
            "Epoch [3/10], Step[300/600], Loss:0.0044\n",
            "Epoch [3/10], Step[400/600], Loss:0.0028\n",
            "Epoch [3/10], Step[500/600], Loss:0.0375\n",
            "Epoch [3/10], Step[600/600], Loss:0.0010\n",
            "Epoch [4/10], Step[100/600], Loss:0.0075\n",
            "Epoch [4/10], Step[200/600], Loss:0.0013\n",
            "Epoch [4/10], Step[300/600], Loss:0.0019\n",
            "Epoch [4/10], Step[400/600], Loss:0.0003\n",
            "Epoch [4/10], Step[500/600], Loss:0.0030\n",
            "Epoch [4/10], Step[600/600], Loss:0.0036\n",
            "Epoch [5/10], Step[100/600], Loss:0.0022\n",
            "Epoch [5/10], Step[200/600], Loss:0.0028\n",
            "Epoch [5/10], Step[300/600], Loss:0.0120\n",
            "Epoch [5/10], Step[400/600], Loss:0.0018\n",
            "Epoch [5/10], Step[500/600], Loss:0.0041\n",
            "Epoch [5/10], Step[600/600], Loss:0.0013\n",
            "Epoch [6/10], Step[100/600], Loss:0.0004\n",
            "Epoch [6/10], Step[200/600], Loss:0.0032\n",
            "Epoch [6/10], Step[300/600], Loss:0.0010\n",
            "Epoch [6/10], Step[400/600], Loss:0.0003\n",
            "Epoch [6/10], Step[500/600], Loss:0.0081\n",
            "Epoch [6/10], Step[600/600], Loss:0.0042\n",
            "Epoch [7/10], Step[100/600], Loss:0.0004\n",
            "Epoch [7/10], Step[200/600], Loss:0.0012\n",
            "Epoch [7/10], Step[300/600], Loss:0.0004\n",
            "Epoch [7/10], Step[400/600], Loss:0.0003\n",
            "Epoch [7/10], Step[500/600], Loss:0.0014\n",
            "Epoch [7/10], Step[600/600], Loss:0.0003\n",
            "Epoch [8/10], Step[100/600], Loss:0.0010\n",
            "Epoch [8/10], Step[200/600], Loss:0.0054\n",
            "Epoch [8/10], Step[300/600], Loss:0.0015\n",
            "Epoch [8/10], Step[400/600], Loss:0.0128\n",
            "Epoch [8/10], Step[500/600], Loss:0.0013\n",
            "Epoch [8/10], Step[600/600], Loss:0.0007\n",
            "Epoch [9/10], Step[100/600], Loss:0.0004\n",
            "Epoch [9/10], Step[200/600], Loss:0.0009\n",
            "Epoch [9/10], Step[300/600], Loss:0.0246\n",
            "Epoch [9/10], Step[400/600], Loss:0.0006\n",
            "Epoch [9/10], Step[500/600], Loss:0.0012\n",
            "Epoch [9/10], Step[600/600], Loss:0.0002\n",
            "Epoch [10/10], Step[100/600], Loss:0.0002\n",
            "Epoch [10/10], Step[200/600], Loss:0.0001\n",
            "Epoch [10/10], Step[300/600], Loss:0.0007\n",
            "Epoch [10/10], Step[400/600], Loss:0.0012\n",
            "Epoch [10/10], Step[500/600], Loss:0.0002\n",
            "Epoch [10/10], Step[600/600], Loss:0.0001\n"
          ],
          "name": "stdout"
        }
      ]
    },
    {
      "cell_type": "code",
      "metadata": {
        "id": "p5CUkAokSdwq",
        "colab_type": "code",
        "colab": {},
        "outputId": "c7c7a3b0-306c-4a60-f129-37f044f46011"
      },
      "source": [
        "with torch.no_grad():\n",
        "    correct = 0\n",
        "    total = 0\n",
        "    for images, labels in test_loader:\n",
        "        images = images.reshape(-1, 28*28).to(device)\n",
        "        labels = labels.to(device)\n",
        "        outputs = neuralNet_model(images)\n",
        "        _, predicted = torch.max(outputs.data, 1)\n",
        "        total += labels.size(0)\n",
        "        correct += (predicted == labels).sum().item()\n",
        "\n",
        "    print('Accuracy of the network on the 10000 test images: {} %'.format(100 * correct / total))\n"
      ],
      "execution_count": 0,
      "outputs": [
        {
          "output_type": "stream",
          "text": [
            "Accuracy of the network on the 10000 test images: 98.17 %\n"
          ],
          "name": "stdout"
        }
      ]
    },
    {
      "cell_type": "code",
      "metadata": {
        "id": "TtW3aet7Sdwr",
        "colab_type": "code",
        "colab": {},
        "outputId": "fa7bc28d-681a-4b61-d7cf-11b11cdce1a7"
      },
      "source": [
        "print(FcnNeuralNet)"
      ],
      "execution_count": 0,
      "outputs": [
        {
          "output_type": "stream",
          "text": [
            "<class '__main__.FcnNeuralNet'>\n"
          ],
          "name": "stdout"
        }
      ]
    },
    {
      "cell_type": "markdown",
      "metadata": {
        "id": "KFZhj98gSdwt",
        "colab_type": "text"
      },
      "source": [
        "### Fully Connected MLP with Dropout"
      ]
    },
    {
      "cell_type": "code",
      "metadata": {
        "id": "mfxb6_tBTe_u",
        "colab_type": "code",
        "colab": {
          "base_uri": "https://localhost:8080/",
          "height": 426
        },
        "outputId": "8fbfe5e7-c68a-45a9-ea77-f409d05319d9"
      },
      "source": [
        "!pip3 install torch==1.2.0+cu92 torchvision==0.4.0+cu92 -f https://download.pytorch.org/whl/torch_stable.html"
      ],
      "execution_count": 11,
      "outputs": [
        {
          "output_type": "stream",
          "text": [
            "Looking in links: https://download.pytorch.org/whl/torch_stable.html\n",
            "Collecting torch==1.2.0+cu92\n",
            "\u001b[?25l  Downloading https://download.pytorch.org/whl/cu92/torch-1.2.0%2Bcu92-cp36-cp36m-manylinux1_x86_64.whl (663.1MB)\n",
            "\u001b[K     |████████████████████████████████| 663.1MB 27kB/s \n",
            "\u001b[?25hCollecting torchvision==0.4.0+cu92\n",
            "\u001b[?25l  Downloading https://download.pytorch.org/whl/cu92/torchvision-0.4.0%2Bcu92-cp36-cp36m-manylinux1_x86_64.whl (8.8MB)\n",
            "\u001b[K     |████████████████████████████████| 8.8MB 597kB/s \n",
            "\u001b[?25hRequirement already satisfied: numpy in /usr/local/lib/python3.6/dist-packages (from torch==1.2.0+cu92) (1.17.4)\n",
            "Requirement already satisfied: pillow>=4.1.1 in /usr/local/lib/python3.6/dist-packages (from torchvision==0.4.0+cu92) (4.3.0)\n",
            "Requirement already satisfied: six in /usr/local/lib/python3.6/dist-packages (from torchvision==0.4.0+cu92) (1.12.0)\n",
            "Requirement already satisfied: olefile in /usr/local/lib/python3.6/dist-packages (from pillow>=4.1.1->torchvision==0.4.0+cu92) (0.46)\n",
            "Installing collected packages: torch, torchvision\n",
            "  Found existing installation: torch 1.3.1\n",
            "    Uninstalling torch-1.3.1:\n",
            "      Successfully uninstalled torch-1.3.1\n",
            "  Found existing installation: torchvision 0.4.2\n",
            "    Uninstalling torchvision-0.4.2:\n",
            "      Successfully uninstalled torchvision-0.4.2\n",
            "Successfully installed torch-1.2.0+cu92 torchvision-0.4.0+cu92\n"
          ],
          "name": "stdout"
        },
        {
          "output_type": "display_data",
          "data": {
            "application/vnd.colab-display-data+json": {
              "pip_warning": {
                "packages": [
                  "torch",
                  "torchvision"
                ]
              }
            }
          },
          "metadata": {
            "tags": []
          }
        }
      ]
    },
    {
      "cell_type": "code",
      "metadata": {
        "id": "XmLGWoJaSdwu",
        "colab_type": "code",
        "colab": {}
      },
      "source": [
        "import torch\n",
        "import torch.nn as nn\n",
        "import torch.nn.functional as F\n",
        "import torchvision\n",
        "import torchvision.transforms as transforms\n",
        "import matplotlib.pyplot as plt\n",
        "import numpy as np\n",
        "from torch.utils.data.sampler import SubsetRandomSampler"
      ],
      "execution_count": 0,
      "outputs": []
    },
    {
      "cell_type": "code",
      "metadata": {
        "id": "HS49BoleUXwl",
        "colab_type": "code",
        "colab": {
          "base_uri": "https://localhost:8080/",
          "height": 34
        },
        "outputId": "19ee5dd2-8d21-43cf-a2cb-baf5d0a0a497"
      },
      "source": [
        "torch.cuda.get_device_name(0)"
      ],
      "execution_count": 17,
      "outputs": [
        {
          "output_type": "execute_result",
          "data": {
            "text/plain": [
              "'Tesla P100-PCIE-16GB'"
            ]
          },
          "metadata": {
            "tags": []
          },
          "execution_count": 17
        }
      ]
    },
    {
      "cell_type": "code",
      "metadata": {
        "id": "fXpwQ_MFUdhz",
        "colab_type": "code",
        "colab": {
          "base_uri": "https://localhost:8080/",
          "height": 34
        },
        "outputId": "375c3d62-0cab-426c-aad5-d53220eb5c6e"
      },
      "source": [
        "torch.cuda.is_available()"
      ],
      "execution_count": 18,
      "outputs": [
        {
          "output_type": "execute_result",
          "data": {
            "text/plain": [
              "True"
            ]
          },
          "metadata": {
            "tags": []
          },
          "execution_count": 18
        }
      ]
    },
    {
      "cell_type": "code",
      "metadata": {
        "id": "sUdXPR4STgGP",
        "colab_type": "code",
        "colab": {
          "base_uri": "https://localhost:8080/",
          "height": 34
        },
        "outputId": "67d78162-3d70-49c1-c280-070bf38ad300"
      },
      "source": [
        "# Device configuration\n",
        "device = torch.device('cuda' if torch.cuda.is_available() else 'cpu')\n",
        "\n",
        "print(\"% s will be used for training/testing\" % device)"
      ],
      "execution_count": 24,
      "outputs": [
        {
          "output_type": "stream",
          "text": [
            "cuda will be used for training/testing\n"
          ],
          "name": "stdout"
        }
      ]
    },
    {
      "cell_type": "code",
      "metadata": {
        "id": "poO9-LfKSdww",
        "colab_type": "code",
        "colab": {}
      },
      "source": [
        "# neural net input size\n",
        "input_size = 784\n",
        "hidden_size = 500\n",
        "num_classes = 10\n",
        "num_epochs = 10\n",
        "batch_size = 100\n",
        "learning_rate = 0.001\n",
        "\n",
        "# number of subprocesses to use for data loading\n",
        "num_workers = 0\n",
        "# how many samples per batch to load\n",
        "batch_size = 20\n",
        "# percentage of training set to use as validation\n",
        "valid_size = 0.2\n"
      ],
      "execution_count": 0,
      "outputs": []
    },
    {
      "cell_type": "code",
      "metadata": {
        "id": "gFod3B2HSdwx",
        "colab_type": "code",
        "colab": {}
      },
      "source": [
        "# convert data to torch.FloatTensor\n",
        "transform = transforms.ToTensor()\n",
        "\n",
        "# choose the training and test datasets\n",
        "train_data = torchvision.datasets.MNIST(root='../data', train=True,\n",
        "                                   download=True, transform=transform)\n",
        "test_data = torchvision.datasets.MNIST(root='../data', train=False,\n",
        "                                  download=True, transform=transform)"
      ],
      "execution_count": 0,
      "outputs": []
    },
    {
      "cell_type": "code",
      "metadata": {
        "id": "Kqh_SmLjSdwz",
        "colab_type": "code",
        "colab": {}
      },
      "source": [
        "# obtain training indices that will be used for validation\n",
        "num_train = len(train_data)\n",
        "indices = list(range(num_train))\n",
        "np.random.shuffle(indices)\n",
        "split = int(np.floor(valid_size * num_train))\n",
        "train_idx, valid_idx = indices[split:], indices[:split]\n",
        "\n",
        "# define samplers for obtaining training and validation batches\n",
        "train_sampler = SubsetRandomSampler(train_idx)\n",
        "valid_sampler = SubsetRandomSampler(valid_idx)\n",
        "\n",
        "# prepare data loaders\n",
        "train_loader = torch.utils.data.DataLoader(train_data, batch_size=batch_size,\n",
        "    sampler=train_sampler, num_workers=num_workers)\n",
        "\n",
        "valid_loader = torch.utils.data.DataLoader(train_data, batch_size=batch_size, \n",
        "    sampler=valid_sampler, num_workers=num_workers)\n",
        "\n",
        "test_loader = torch.utils.data.DataLoader(test_data, batch_size=batch_size, \n",
        "    num_workers=num_workers)"
      ],
      "execution_count": 0,
      "outputs": []
    },
    {
      "cell_type": "markdown",
      "metadata": {
        "id": "uEi_eSm_Sdw1",
        "colab_type": "text"
      },
      "source": [
        "Visualize a batch of Training Data"
      ]
    },
    {
      "cell_type": "code",
      "metadata": {
        "id": "FLGObdYaSdw1",
        "colab_type": "code",
        "colab": {
          "base_uri": "https://localhost:8080/",
          "height": 265
        },
        "outputId": "a84102ec-ccde-478d-f695-8b60dfbe0098"
      },
      "source": [
        "import matplotlib.pyplot as plt\n",
        "%matplotlib inline\n",
        "# obtain one batch of training images\n",
        "batch_iter = iter(train_loader)\n",
        "images_batch, labels_batch = batch_iter.next()\n",
        "\n",
        "image = images_batch[0]\n",
        "\n",
        "img = np.array(image, dtype='float')\n",
        "img = img.reshape((28, 28))\n",
        "\n",
        "plt.imshow(img, cmap='gray')\n",
        "plt.show()"
      ],
      "execution_count": 28,
      "outputs": [
        {
          "output_type": "display_data",
          "data": {
            "image/png": "[encoded data removed]",
            "text/plain": [
              "<Figure size 432x288 with 1 Axes>"
            ]
          },
          "metadata": {
            "tags": []
          }
        }
      ]
    },
    {
      "cell_type": "code",
      "metadata": {
        "scrolled": true,
        "id": "ZqerDRapSdw3",
        "colab_type": "code",
        "colab": {
          "base_uri": "https://localhost:8080/",
          "height": 288
        },
        "outputId": "7ba54535-3280-4b99-c437-874023d7f5e2"
      },
      "source": [
        "import matplotlib.pyplot as plt\n",
        "%matplotlib inline\n",
        "batch_iter = iter(train_loader)\n",
        "images_batch, labels_batch = batch_iter.next()\n",
        "\n",
        "plt.figure(figsize=(25, 4))\n",
        "for idx, image in enumerate(images_batch):\n",
        "    img = np.array(image, dtype='float')\n",
        "    img = img.reshape((28, 28))\n",
        "    plt.subplot(2, 10, (idx + 1))\n",
        "    plt.imshow(img, cmap='gray')\n",
        "\n",
        "plt.show()"
      ],
      "execution_count": 29,
      "outputs": [
        {
          "output_type": "display_data",
          "data": {
            "image/png": "[encoded data removed]",
            "text/plain": [
              "<Figure size 1800x288 with 20 Axes>"
            ]
          },
          "metadata": {
            "tags": []
          }
        }
      ]
    },
    {
      "cell_type": "code",
      "metadata": {
        "id": "AFRAH9g0Sdw6",
        "colab_type": "code",
        "colab": {
          "base_uri": "https://localhost:8080/",
          "height": 136
        },
        "outputId": "0a54642a-f8c6-4392-8fc6-61f4029d4398"
      },
      "source": [
        "# define the NN architecture\n",
        "class FcnNeuralNetDropOut(nn.Module):\n",
        "    def __init__(self):\n",
        "        super().__init__()\n",
        "        # number of hidden nodes in each layer (512)\n",
        "        hidden_1 = 512\n",
        "        hidden_2 = 512\n",
        "        # linear layer (784 -> hidden_1)\n",
        "        self.fc1 = nn.Linear(28 * 28, hidden_1)\n",
        "        # linear layer (n_hidden -> hidden_2)\n",
        "        self.fc2 = nn.Linear(hidden_1, hidden_2)\n",
        "        # linear layer (n_hidden -> 10)\n",
        "        self.fc3 = nn.Linear(hidden_2, 10)\n",
        "        # dropout prevents overfitting of data\n",
        "        # dropout layer (p=0.2)\n",
        "        self.dropout_02 = nn.Dropout(0.2)\n",
        "        # dropout layer (p=0.1)        \n",
        "        self.dropout_01 = nn.Dropout(0.1)\n",
        "\n",
        "    def forward(self, x):\n",
        "        # flatten image input\n",
        "        x = x.view(-1, 28 * 28)\n",
        "        # add hidden layer, with relu activation function\n",
        "        x = F.relu(self.fc1(x))\n",
        "        # add dropout layer\n",
        "        x = self.dropout_02(x)\n",
        "        # add hidden layer, with relu activation function\n",
        "        x = F.relu(self.fc2(x))\n",
        "        # add dropout layer\n",
        "        x = self.dropout_01(x)\n",
        "        # add output layer\n",
        "        x = self.fc3(x)\n",
        "        return x\n",
        "\n",
        "# initialize the NN\n",
        "model = FcnNeuralNetDropOut()\n",
        "print(model)"
      ],
      "execution_count": 30,
      "outputs": [
        {
          "output_type": "stream",
          "text": [
            "FcnNeuralNetDropOut(\n",
            "  (fc1): Linear(in_features=784, out_features=512, bias=True)\n",
            "  (fc2): Linear(in_features=512, out_features=512, bias=True)\n",
            "  (fc3): Linear(in_features=512, out_features=10, bias=True)\n",
            "  (dropout_02): Dropout(p=0.2, inplace=False)\n",
            "  (dropout_01): Dropout(p=0.1, inplace=False)\n",
            ")\n"
          ],
          "name": "stdout"
        }
      ]
    },
    {
      "cell_type": "markdown",
      "metadata": {
        "id": "kldmSJzWSdw-",
        "colab_type": "text"
      },
      "source": [
        "__Specify Loss Function and Optimizer__"
      ]
    },
    {
      "cell_type": "code",
      "metadata": {
        "id": "-kmLyNikSdw-",
        "colab_type": "code",
        "colab": {}
      },
      "source": [
        "# specify loss function (categorical cross-entropy)\n",
        "criterion = nn.CrossEntropyLoss()\n",
        "\n",
        "# specify optimizer (stochastic gradient descent) and learning rate = 0.01\n",
        "optimizer = torch.optim.Adam(model.parameters(), lr=0.001)"
      ],
      "execution_count": 0,
      "outputs": []
    },
    {
      "cell_type": "markdown",
      "metadata": {
        "id": "xQSbq6aWSdxA",
        "colab_type": "text"
      },
      "source": [
        "__Train the Network__"
      ]
    },
    {
      "cell_type": "code",
      "metadata": {
        "id": "Mhq0bpxDSdxA",
        "colab_type": "code",
        "colab": {
          "base_uri": "https://localhost:8080/",
          "height": 918
        },
        "outputId": "e40b1bf3-cf15-40ff-9c4e-5e33a3c72a1f"
      },
      "source": [
        "# number of epochs to train the model\n",
        "n_epochs = 50\n",
        "\n",
        "# initialize tracker for minimum validation loss\n",
        "valid_loss_min = np.Inf # set initial \"min\" to infinity\n",
        "\n",
        "for epoch in range(n_epochs):\n",
        "    # monitor training loss\n",
        "    train_loss = 0.0\n",
        "    valid_loss = 0.0\n",
        "    \n",
        "    ###################\n",
        "    # train the model #\n",
        "    ###################\n",
        "    model.to(device)\n",
        "    model.train() # prep model for training\n",
        "    \n",
        "    for data, target in train_loader:\n",
        "        data = data.to(device)\n",
        "        target = target.to(device)\n",
        "        # clear the gradients of all optimized variables\n",
        "        optimizer.zero_grad()\n",
        "        # forward pass: compute predicted outputs by passing inputs to the model\n",
        "        output = model(data)\n",
        "        # calculate the loss\n",
        "        loss = criterion(output, target)\n",
        "        # backward pass: compute gradient of the loss with respect to model parameters\n",
        "        loss.backward()\n",
        "        # perform a single optimization step (parameter update)\n",
        "        optimizer.step()\n",
        "        # update running training loss\n",
        "        train_loss += loss.item()*data.size(0)\n",
        "        \n",
        "    ######################    \n",
        "    # validate the model #\n",
        "    ######################\n",
        "    model.to(device)\n",
        "    model.eval() # prep model for evaluation\n",
        "    for data, target in valid_loader:\n",
        "        data = data.to(device)\n",
        "        target = target.to(device)\n",
        "        # forward pass: compute predicted outputs by passing inputs to the model\n",
        "        output = model(data)\n",
        "        # calculate the loss\n",
        "        loss = criterion(output, target)\n",
        "        # update running validation loss \n",
        "        valid_loss += loss.item()*data.size(0)\n",
        "        \n",
        "    # print training/validation statistics \n",
        "    # calculate average loss over an epoch\n",
        "    train_loss = train_loss/len(train_loader.sampler)\n",
        "    valid_loss = valid_loss/len(valid_loader.sampler)\n",
        "    \n",
        "    print('Epoch: {} \\tTraining Loss: {:.6f} \\tValidation Loss: {:.6f}'.format(\n",
        "        epoch+1, \n",
        "        train_loss,\n",
        "        valid_loss\n",
        "        ))\n",
        "    \n",
        "    # save model if validation loss has decreased\n",
        "    if valid_loss <= valid_loss_min:\n",
        "        print('Validation loss decreased ({:.6f} --> {:.6f}).  Saving model ...'.format(\n",
        "        valid_loss_min,\n",
        "        valid_loss))\n",
        "        torch.save(model.state_dict(), 'model.pt')\n",
        "        valid_loss_min = valid_loss\n"
      ],
      "execution_count": 37,
      "outputs": [
        {
          "output_type": "stream",
          "text": [
            "Epoch: 1 \tTraining Loss: 0.114746 \tValidation Loss: 0.120256\n",
            "Validation loss decreased (inf --> 0.120256).  Saving model ...\n",
            "Epoch: 2 \tTraining Loss: 0.088363 \tValidation Loss: 0.102350\n",
            "Validation loss decreased (0.120256 --> 0.102350).  Saving model ...\n",
            "Epoch: 3 \tTraining Loss: 0.075051 \tValidation Loss: 0.082097\n",
            "Validation loss decreased (0.102350 --> 0.082097).  Saving model ...\n",
            "Epoch: 4 \tTraining Loss: 0.062743 \tValidation Loss: 0.097377\n",
            "Epoch: 5 \tTraining Loss: 0.055259 \tValidation Loss: 0.095763\n",
            "Epoch: 6 \tTraining Loss: 0.049380 \tValidation Loss: 0.097606\n",
            "Epoch: 7 \tTraining Loss: 0.044086 \tValidation Loss: 0.094389\n",
            "Epoch: 8 \tTraining Loss: 0.045200 \tValidation Loss: 0.108816\n",
            "Epoch: 9 \tTraining Loss: 0.041165 \tValidation Loss: 0.133797\n",
            "Epoch: 10 \tTraining Loss: 0.040669 \tValidation Loss: 0.107350\n",
            "Epoch: 11 \tTraining Loss: 0.040243 \tValidation Loss: 0.102755\n",
            "Epoch: 12 \tTraining Loss: 0.037726 \tValidation Loss: 0.102602\n",
            "Epoch: 13 \tTraining Loss: 0.031507 \tValidation Loss: 0.116116\n",
            "Epoch: 14 \tTraining Loss: 0.038289 \tValidation Loss: 0.125344\n",
            "Epoch: 15 \tTraining Loss: 0.032569 \tValidation Loss: 0.120035\n",
            "Epoch: 16 \tTraining Loss: 0.031363 \tValidation Loss: 0.136923\n",
            "Epoch: 17 \tTraining Loss: 0.030982 \tValidation Loss: 0.127461\n",
            "Epoch: 18 \tTraining Loss: 0.032102 \tValidation Loss: 0.113170\n",
            "Epoch: 19 \tTraining Loss: 0.026444 \tValidation Loss: 0.145197\n",
            "Epoch: 20 \tTraining Loss: 0.034655 \tValidation Loss: 0.132939\n",
            "Epoch: 21 \tTraining Loss: 0.027878 \tValidation Loss: 0.134736\n",
            "Epoch: 22 \tTraining Loss: 0.029025 \tValidation Loss: 0.160073\n",
            "Epoch: 23 \tTraining Loss: 0.033527 \tValidation Loss: 0.144946\n",
            "Epoch: 24 \tTraining Loss: 0.026517 \tValidation Loss: 0.137853\n",
            "Epoch: 25 \tTraining Loss: 0.030400 \tValidation Loss: 0.175161\n",
            "Epoch: 26 \tTraining Loss: 0.029877 \tValidation Loss: 0.179475\n",
            "Epoch: 27 \tTraining Loss: 0.028566 \tValidation Loss: 0.173535\n",
            "Epoch: 28 \tTraining Loss: 0.028552 \tValidation Loss: 0.194987\n",
            "Epoch: 29 \tTraining Loss: 0.030468 \tValidation Loss: 0.171975\n",
            "Epoch: 30 \tTraining Loss: 0.028144 \tValidation Loss: 0.189536\n",
            "Epoch: 31 \tTraining Loss: 0.029601 \tValidation Loss: 0.207175\n",
            "Epoch: 32 \tTraining Loss: 0.028537 \tValidation Loss: 0.212599\n",
            "Epoch: 33 \tTraining Loss: 0.028696 \tValidation Loss: 0.218251\n",
            "Epoch: 34 \tTraining Loss: 0.030461 \tValidation Loss: 0.184699\n",
            "Epoch: 35 \tTraining Loss: 0.026973 \tValidation Loss: 0.199290\n",
            "Epoch: 36 \tTraining Loss: 0.029394 \tValidation Loss: 0.175655\n",
            "Epoch: 37 \tTraining Loss: 0.030732 \tValidation Loss: 0.197930\n",
            "Epoch: 38 \tTraining Loss: 0.026236 \tValidation Loss: 0.193600\n",
            "Epoch: 39 \tTraining Loss: 0.027128 \tValidation Loss: 0.203577\n",
            "Epoch: 40 \tTraining Loss: 0.033322 \tValidation Loss: 0.175638\n",
            "Epoch: 41 \tTraining Loss: 0.026286 \tValidation Loss: 0.214125\n",
            "Epoch: 42 \tTraining Loss: 0.026298 \tValidation Loss: 0.218597\n",
            "Epoch: 43 \tTraining Loss: 0.029500 \tValidation Loss: 0.223112\n",
            "Epoch: 44 \tTraining Loss: 0.032981 \tValidation Loss: 0.212010\n",
            "Epoch: 45 \tTraining Loss: 0.023330 \tValidation Loss: 0.219341\n",
            "Epoch: 46 \tTraining Loss: 0.030441 \tValidation Loss: 0.231995\n",
            "Epoch: 47 \tTraining Loss: 0.025183 \tValidation Loss: 0.233391\n",
            "Epoch: 48 \tTraining Loss: 0.029099 \tValidation Loss: 0.205547\n",
            "Epoch: 49 \tTraining Loss: 0.025759 \tValidation Loss: 0.253735\n",
            "Epoch: 50 \tTraining Loss: 0.030990 \tValidation Loss: 0.243220\n"
          ],
          "name": "stdout"
        }
      ]
    },
    {
      "cell_type": "markdown",
      "metadata": {
        "id": "V2R1uEkOSdxC",
        "colab_type": "text"
      },
      "source": [
        "__Test the Model__"
      ]
    },
    {
      "cell_type": "markdown",
      "metadata": {
        "id": "ZjYo_1pQSdxD",
        "colab_type": "text"
      },
      "source": [
        "Test setup"
      ]
    },
    {
      "cell_type": "code",
      "metadata": {
        "id": "XOtKAjn6SdxD",
        "colab_type": "code",
        "colab": {}
      },
      "source": [
        "def apply_dropout(m):\n",
        "    if type(m) == nn.Dropout:\n",
        "        m.train()"
      ],
      "execution_count": 0,
      "outputs": []
    },
    {
      "cell_type": "code",
      "metadata": {
        "id": "gfAwVcgwSdxF",
        "colab_type": "code",
        "colab": {},
        "outputId": "76568f57-1477-4f8a-fea2-12fc632239f2"
      },
      "source": [
        "# initialize lists to monitor test loss and accuracy\n",
        "test_loss = 0.0\n",
        "class_correct = list(0. for i in range(10))\n",
        "class_total = list(0. for i in range(10))\n",
        "\n",
        "# prep model for evaluation\n",
        "model.eval()\n",
        "# Apply dropout on testing\n",
        "model.apply(apply_dropout)"
      ],
      "execution_count": 0,
      "outputs": [
        {
          "output_type": "execute_result",
          "data": {
            "text/plain": [
              "FcnNeuralNetDropOut(\n",
              "  (fc1): Linear(in_features=784, out_features=512, bias=True)\n",
              "  (fc2): Linear(in_features=512, out_features=512, bias=True)\n",
              "  (fc3): Linear(in_features=512, out_features=10, bias=True)\n",
              "  (dropout_02): Dropout(p=0.2, inplace=False)\n",
              "  (dropout_04): Dropout(p=0.4, inplace=False)\n",
              ")"
            ]
          },
          "metadata": {
            "tags": []
          },
          "execution_count": 18
        }
      ]
    },
    {
      "cell_type": "markdown",
      "metadata": {
        "id": "Bdbj6yuvSdxG",
        "colab_type": "text"
      },
      "source": [
        "test loop"
      ]
    },
    {
      "cell_type": "code",
      "metadata": {
        "id": "dHECZZXkSdxH",
        "colab_type": "code",
        "colab": {}
      },
      "source": [
        "for data, target in test_loader:\n",
        "    # forward pass: compute predicted outputs by passing inputs to the model\n",
        "    output = model(data)\n",
        "    # calculate the loss\n",
        "    loss = criterion(output, target)\n",
        "    # update test loss \n",
        "    test_loss += loss.item()*data.size(0)\n",
        "    # convert output probabilities to predicted class\n",
        "    _, pred = torch.max(output, 1)\n",
        "    # compare predictions to true label\n",
        "    correct = np.squeeze(pred.eq(target.data.view_as(pred)))\n",
        "    # calculate test accuracy for each object class\n",
        "    for i in range(len(target)):\n",
        "        label = target.data[i]\n",
        "        class_correct[label] += correct[i].item()\n",
        "        class_total[label] += 1"
      ],
      "execution_count": 0,
      "outputs": []
    },
    {
      "cell_type": "code",
      "metadata": {
        "id": "ff3a65vJSdxI",
        "colab_type": "code",
        "colab": {},
        "outputId": "0520e3ed-3a93-4cdd-81b2-ec7415532ba2"
      },
      "source": [
        "# calculate and print avg test loss\n",
        "test_loss = test_loss/len(test_loader.sampler)\n",
        "print('Test Loss: {:.6f}\\n'.format(test_loss))\n",
        "\n",
        "for i in range(10):\n",
        "    if class_total[i] > 0:\n",
        "        print('Test Accuracy of %5s: %2d%% (%2d/%2d)' % (\n",
        "            str(i), 100 * class_correct[i] / class_total[i],\n",
        "            np.sum(class_correct[i]), np.sum(class_total[i])))\n",
        "    else:\n",
        "        print('Test Accuracy of %5s: N/A (no training examples)' % (classes[i]))\n",
        "\n",
        "print('\\nTest Accuracy (Overall): %2d%% (%2d/%2d)' % (\n",
        "    100. * np.sum(class_correct) / np.sum(class_total),\n",
        "    np.sum(class_correct), np.sum(class_total)))"
      ],
      "execution_count": 0,
      "outputs": [
        {
          "output_type": "stream",
          "text": [
            "Test Loss: 0.133751\n",
            "\n",
            "Test Accuracy of     0: 98% (965/980)\n",
            "Test Accuracy of     1: 98% (1122/1135)\n",
            "Test Accuracy of     2: 96% (1000/1032)\n",
            "Test Accuracy of     3: 96% (976/1010)\n",
            "Test Accuracy of     4: 97% (954/982)\n",
            "Test Accuracy of     5: 97% (868/892)\n",
            "Test Accuracy of     6: 97% (937/958)\n",
            "Test Accuracy of     7: 97% (998/1028)\n",
            "Test Accuracy of     8: 93% (908/974)\n",
            "Test Accuracy of     9: 95% (964/1009)\n",
            "\n",
            "Test Accuracy (Overall): 96% (9692/10000)\n"
          ],
          "name": "stdout"
        }
      ]
    },
    {
      "cell_type": "code",
      "metadata": {
        "id": "Nlr7aFSASdxJ",
        "colab_type": "code",
        "colab": {}
      },
      "source": [
        ""
      ],
      "execution_count": 0,
      "outputs": []
    }
  ]
}