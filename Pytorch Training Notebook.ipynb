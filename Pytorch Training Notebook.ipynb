{
  "nbformat": 4,
  "nbformat_minor": 0,
  "metadata": {
    "kernelspec": {
      "name": "python3",
      "display_name": "Python 3"
    },
    "language_info": {
      "codemirror_mode": {
        "name": "ipython",
        "version": 3
      },
      "file_extension": ".py",
      "mimetype": "text/x-python",
      "name": "python",
      "nbconvert_exporter": "python",
      "pygments_lexer": "ipython3",
      "version": "3.7.3"
    },
    "colab": {
      "name": "Pytorch Training Notebook.ipynb",
      "provenance": [],
      "toc_visible": true,
      "include_colab_link": true
    },
    "accelerator": "GPU"
  },
  "cells": [
    {
      "cell_type": "markdown",
      "metadata": {
        "id": "view-in-github",
        "colab_type": "text"
      },
      "source": [
        "<a href=\"https://colab.research.google.com/github/FabioArnez/Pytorch_Training/blob/master/Pytorch%20Training%20Notebook.ipynb\" target=\"_parent\"><img src=\"https://colab.research.google.com/assets/colab-badge.svg\" alt=\"Open In Colab\"/></a>"
      ]
    },
    {
      "cell_type": "markdown",
      "metadata": {
        "id": "8n_I4QKbSdwR",
        "colab_type": "text"
      },
      "source": [
        "# Pytorch Training Notebook"
      ]
    },
    {
      "cell_type": "markdown",
      "metadata": {
        "id": "XP6wxI_SSdwT",
        "colab_type": "text"
      },
      "source": [
        "## MNIST Example\n",
        "\n",
        "- Image size 28x28 pixels $\\rightarrow$ 784"
      ]
    },
    {
      "cell_type": "markdown",
      "metadata": {
        "id": "eH5yNIrQSdwT",
        "colab_type": "text"
      },
      "source": [
        "### Fully Connected MLP Network"
      ]
    },
    {
      "cell_type": "markdown",
      "metadata": {
        "id": "aU0Us_7HSdwU",
        "colab_type": "text"
      },
      "source": [
        "Import Torch Libraries"
      ]
    },
    {
      "cell_type": "code",
      "metadata": {
        "id": "KYxrRJl1SdwV",
        "colab_type": "code",
        "colab": {}
      },
      "source": [
        "import torch\n",
        "import torch.nn as nn\n",
        "import torchvision\n",
        "import torchvision.transforms as transforms\n",
        "import matplotlib.pyplot as plt"
      ],
      "execution_count": 0,
      "outputs": []
    },
    {
      "cell_type": "markdown",
      "metadata": {
        "id": "RbQ7gxH-SdwX",
        "colab_type": "text"
      },
      "source": [
        "Check if CPU | GPU will be used"
      ]
    },
    {
      "cell_type": "code",
      "metadata": {
        "id": "Uz1QBgSlSdwY",
        "colab_type": "code",
        "outputId": "19f5a59c-890a-499c-9cd5-9020edd672b8",
        "colab": {
          "base_uri": "https://localhost:8080/",
          "height": 34
        }
      },
      "source": [
        "# Device configuration\n",
        "device = torch.device('cuda' if torch.cuda.is_available() else 'cpu')\n",
        "\n",
        "if device == \"cuda\":\n",
        "    device_name = \"CUDA\"\n",
        "else:\n",
        "    device_name = \"CPU\"\n",
        "\n",
        "print(\"% s will be used for training/testing\" % device_name)"
      ],
      "execution_count": 0,
      "outputs": [
        {
          "output_type": "stream",
          "text": [
            "CPU will be used for training/testing\n"
          ],
          "name": "stdout"
        }
      ]
    },
    {
      "cell_type": "markdown",
      "metadata": {
        "id": "2yKV3eAaSdwa",
        "colab_type": "text"
      },
      "source": [
        "Define network Hyperparameters"
      ]
    },
    {
      "cell_type": "code",
      "metadata": {
        "id": "ARCuqbjXSdwb",
        "colab_type": "code",
        "colab": {}
      },
      "source": [
        "# neural net input size\n",
        "input_size = 784\n",
        "hidden_size = 500\n",
        "num_classes = 10\n",
        "num_epochs = 10\n",
        "batch_size = 100\n",
        "learning_rate = 0.001"
      ],
      "execution_count": 0,
      "outputs": []
    },
    {
      "cell_type": "markdown",
      "metadata": {
        "id": "hR9EyEheSdwd",
        "colab_type": "text"
      },
      "source": [
        "Load MNIST Dataset"
      ]
    },
    {
      "cell_type": "code",
      "metadata": {
        "id": "iZR7iXJmSdwd",
        "colab_type": "code",
        "outputId": "b8e8c3fd-eb3c-431b-e07a-341b67e827c6",
        "colab": {}
      },
      "source": [
        "train_dataset = torchvision.datasets.MNIST(root='../data',\n",
        "                                           train=True,\n",
        "                                           transform= transforms.ToTensor(),\n",
        "                                           download=True)\n",
        "\n",
        "\n",
        "test_dataset = torchvision.datasets.MNIST(root='../data',\n",
        "                                          train=False,\n",
        "                                          transform=transforms.ToTensor())"
      ],
      "execution_count": 0,
      "outputs": [
        {
          "output_type": "stream",
          "text": [
            "\r0it [00:00, ?it/s]"
          ],
          "name": "stderr"
        },
        {
          "output_type": "stream",
          "text": [
            "Downloading http://yann.lecun.com/exdb/mnist/train-images-idx3-ubyte.gz to ../data/MNIST/raw/train-images-idx3-ubyte.gz\n"
          ],
          "name": "stdout"
        },
        {
          "output_type": "stream",
          "text": [
            "9920512it [01:53, 117600.48it/s]                             "
          ],
          "name": "stderr"
        },
        {
          "output_type": "stream",
          "text": [
            "Extracting ../data/MNIST/raw/train-images-idx3-ubyte.gz to ../data/MNIST/raw\n"
          ],
          "name": "stdout"
        },
        {
          "output_type": "stream",
          "text": [
            "\n",
            "0it [00:00, ?it/s]\u001b[A"
          ],
          "name": "stderr"
        },
        {
          "output_type": "stream",
          "text": [
            "Downloading http://yann.lecun.com/exdb/mnist/train-labels-idx1-ubyte.gz to ../data/MNIST/raw/train-labels-idx1-ubyte.gz\n"
          ],
          "name": "stdout"
        },
        {
          "output_type": "stream",
          "text": [
            "\n",
            "  0%|          | 0/28881 [00:00<?, ?it/s]\u001b[A\n",
            " 57%|█████▋    | 16384/28881 [00:00<00:00, 121461.00it/s]\u001b[A\n",
            "32768it [00:00, 123658.37it/s]                           \u001b[A\n",
            "0it [00:00, ?it/s]\u001b[A"
          ],
          "name": "stderr"
        },
        {
          "output_type": "stream",
          "text": [
            "Extracting ../data/MNIST/raw/train-labels-idx1-ubyte.gz to ../data/MNIST/raw\n",
            "Downloading http://yann.lecun.com/exdb/mnist/t10k-images-idx3-ubyte.gz to ../data/MNIST/raw/t10k-images-idx3-ubyte.gz\n"
          ],
          "name": "stdout"
        },
        {
          "output_type": "stream",
          "text": [
            "\n",
            "  0%|          | 0/1648877 [00:00<?, ?it/s]\u001b[A\n",
            "  1%|          | 16384/1648877 [00:00<00:17, 91185.36it/s]\u001b[A\n",
            "  2%|▏         | 32768/1648877 [00:00<00:16, 97613.84it/s]\u001b[A\n",
            "  3%|▎         | 49152/1648877 [00:00<00:15, 104556.86it/s]\u001b[A\n",
            "  4%|▍         | 65536/1648877 [00:00<00:14, 110437.51it/s]\u001b[A\n",
            "  5%|▍         | 81920/1648877 [00:00<00:13, 117243.89it/s]\u001b[A\n",
            "  6%|▌         | 98304/1648877 [00:01<00:12, 122281.57it/s]\u001b[A\n",
            "  7%|▋         | 114688/1648877 [00:01<00:12, 121808.08it/s]\u001b[A\n",
            "  8%|▊         | 131072/1648877 [00:01<00:12, 121007.53it/s]\u001b[A\n",
            "  9%|▉         | 147456/1648877 [00:01<00:11, 125252.96it/s]\u001b[A\n",
            " 10%|█         | 172032/1648877 [00:01<00:11, 130689.20it/s]\u001b[A\n",
            " 12%|█▏        | 196608/1648877 [00:01<00:10, 145142.30it/s]\u001b[A\n",
            " 13%|█▎        | 212992/1648877 [00:01<00:09, 149607.05it/s]\u001b[A\n",
            " 14%|█▍        | 237568/1648877 [00:02<00:08, 162512.02it/s]\u001b[A\n",
            " 16%|█▌        | 262144/1648877 [00:02<00:14, 96120.21it/s] \u001b[A\n",
            " 17%|█▋        | 286720/1648877 [00:02<00:12, 106886.37it/s]\u001b[A\n",
            " 18%|█▊        | 303104/1648877 [00:02<00:11, 116533.95it/s]\u001b[A\n",
            " 19%|█▉        | 319488/1648877 [00:03<00:15, 87136.50it/s] \u001b[A\n",
            " 21%|██        | 344064/1648877 [00:03<00:14, 88221.49it/s]\u001b[A\n",
            " 22%|██▏       | 360448/1648877 [00:03<00:15, 84905.16it/s]\u001b[A\n",
            " 23%|██▎       | 376832/1648877 [00:03<00:16, 79159.02it/s]\u001b[A\n",
            " 24%|██▍       | 393216/1648877 [00:03<00:15, 83585.18it/s]\u001b[A\n",
            " 25%|██▍       | 409600/1648877 [00:04<00:13, 91277.08it/s]\u001b[A\n",
            " 26%|██▌       | 425984/1648877 [00:04<00:14, 85002.31it/s]\u001b[A\n",
            " 27%|██▋       | 442368/1648877 [00:04<00:14, 80861.96it/s]\u001b[A\n",
            " 28%|██▊       | 458752/1648877 [00:04<00:15, 78807.36it/s]\u001b[A\n",
            " 29%|██▉       | 475136/1648877 [00:04<00:13, 87338.20it/s]\u001b[A\n",
            " 30%|██▉       | 491520/1648877 [00:05<00:12, 90963.38it/s]\u001b[A\n",
            " 31%|███       | 507904/1648877 [00:05<00:11, 96294.92it/s]\u001b[A\n",
            " 32%|███▏      | 524288/1648877 [00:05<00:11, 101575.28it/s]\u001b[A\n",
            " 33%|███▎      | 540672/1648877 [00:05<00:10, 103883.98it/s]\u001b[A\n",
            " 34%|███▍      | 557056/1648877 [00:05<00:09, 110633.19it/s]\u001b[A\n",
            " 35%|███▍      | 573440/1648877 [00:05<00:09, 118794.51it/s]\u001b[A\n",
            " 36%|███▌      | 589824/1648877 [00:05<00:08, 120681.32it/s]\u001b[A\n",
            " 37%|███▋      | 606208/1648877 [00:06<00:10, 99951.13it/s] \u001b[A\n",
            " 38%|███▊      | 622592/1648877 [00:06<00:10, 97276.05it/s]\u001b[A\n",
            " 39%|███▉      | 638976/1648877 [00:06<00:09, 106235.43it/s]\u001b[A\n",
            " 40%|███▉      | 655360/1648877 [00:06<00:11, 87195.94it/s] \u001b[A\n",
            " 41%|████      | 671744/1648877 [00:06<00:12, 80137.03it/s]\u001b[A\n",
            " 42%|████▏     | 688128/1648877 [00:07<00:12, 79462.49it/s]\u001b[A\n",
            " 43%|████▎     | 704512/1648877 [00:07<00:10, 86601.10it/s]\u001b[A\n",
            " 44%|████▎     | 720896/1648877 [00:07<00:10, 89329.89it/s]\u001b[A\n",
            " 45%|████▍     | 737280/1648877 [00:07<00:10, 88366.21it/s]\u001b[A\n",
            " 46%|████▌     | 753664/1648877 [00:07<00:09, 92354.76it/s]\u001b[A\n",
            " 47%|████▋     | 770048/1648877 [00:07<00:09, 92698.81it/s]\u001b[A\n",
            " 48%|████▊     | 786432/1648877 [00:08<00:08, 101356.41it/s]\u001b[A\n",
            " 49%|████▊     | 802816/1648877 [00:08<00:07, 109977.51it/s]\u001b[A\n",
            " 50%|████▉     | 819200/1648877 [00:08<00:06, 118613.67it/s]\u001b[A\n",
            " 51%|█████     | 835584/1648877 [00:08<00:09, 88045.26it/s] \u001b[A\n",
            " 52%|█████▏    | 860160/1648877 [00:08<00:08, 96413.75it/s]\u001b[A\n",
            " 53%|█████▎    | 876544/1648877 [00:08<00:07, 101405.05it/s]\u001b[A\n",
            " 54%|█████▍    | 892928/1648877 [00:09<00:09, 76266.19it/s] \u001b[A\n",
            " 56%|█████▌    | 917504/1648877 [00:09<00:07, 91834.15it/s]\u001b[A\n",
            " 57%|█████▋    | 933888/1648877 [00:09<00:08, 88306.53it/s]\u001b[A\n",
            " 58%|█████▊    | 950272/1648877 [00:09<00:07, 92462.74it/s]\u001b[A\n",
            " 59%|█████▊    | 966656/1648877 [00:10<00:07, 93510.93it/s]\u001b[A\n",
            " 60%|█████▉    | 983040/1648877 [00:10<00:06, 97979.05it/s]\u001b[A\n",
            " 61%|██████    | 999424/1648877 [00:10<00:08, 76593.36it/s]\u001b[A\n",
            " 62%|██████▏   | 1015808/1648877 [00:10<00:07, 80890.96it/s]\u001b[A\n",
            " 63%|██████▎   | 1032192/1648877 [00:10<00:08, 72084.23it/s]\u001b[A\n",
            " 63%|██████▎   | 1040384/1648877 [00:11<00:23, 26345.27it/s]\u001b[A\n",
            " 64%|██████▎   | 1048576/1648877 [00:11<00:19, 30519.50it/s]\u001b[A\n",
            " 65%|██████▍   | 1064960/1648877 [00:12<00:15, 38010.16it/s]\u001b[A\n",
            " 66%|██████▌   | 1081344/1648877 [00:12<00:12, 46306.73it/s]\u001b[A\n",
            " 66%|██████▌   | 1089536/1648877 [00:12<00:12, 45759.22it/s]\u001b[A\n",
            " 67%|██████▋   | 1105920/1648877 [00:12<00:09, 56266.77it/s]\u001b[A\n",
            " 68%|██████▊   | 1122304/1648877 [00:12<00:08, 63737.02it/s]\u001b[A\n",
            " 69%|██████▉   | 1138688/1648877 [00:12<00:07, 69254.24it/s]\u001b[A\n",
            " 70%|███████   | 1155072/1648877 [00:13<00:06, 75588.74it/s]\u001b[A\n",
            " 71%|███████   | 1171456/1648877 [00:13<00:05, 80037.65it/s]\u001b[A\n",
            " 72%|███████▏  | 1187840/1648877 [00:13<00:05, 83010.26it/s]\u001b[A\n",
            " 73%|███████▎  | 1204224/1648877 [00:13<00:04, 89617.39it/s]\u001b[A\n",
            " 74%|███████▍  | 1220608/1648877 [00:13<00:04, 89030.22it/s]\u001b[A\n",
            " 75%|███████▌  | 1236992/1648877 [00:13<00:04, 90873.62it/s]\u001b[A\n",
            " 76%|███████▌  | 1253376/1648877 [00:14<00:04, 91297.07it/s]\u001b[A\n",
            " 78%|███████▊  | 1277952/1648877 [00:14<00:03, 101590.40it/s]\u001b[A\n",
            " 78%|███████▊  | 1294336/1648877 [00:14<00:03, 98441.11it/s] \u001b[A\n",
            " 79%|███████▉  | 1310720/1648877 [00:14<00:03, 106525.31it/s]\u001b[A\n",
            " 81%|████████  | 1335296/1648877 [00:14<00:02, 120853.88it/s]\u001b[A\n",
            " 82%|████████▏ | 1359872/1648877 [00:14<00:02, 128924.15it/s]\u001b[A\n",
            " 84%|████████▍ | 1384448/1648877 [00:15<00:01, 137743.26it/s]\u001b[A\n",
            " 85%|████████▌ | 1409024/1648877 [00:15<00:01, 149958.98it/s]\u001b[A\n",
            "9920512it [02:10, 117600.48it/s] [00:15<00:01, 160050.65it/s]\u001b[A\n",
            " 88%|████████▊ | 1458176/1648877 [00:15<00:01, 171100.87it/s]\u001b[A\n",
            " 90%|████████▉ | 1482752/1648877 [00:15<00:00, 180098.36it/s]\u001b[A\n",
            " 91%|█████████▏| 1507328/1648877 [00:15<00:01, 120619.64it/s]\u001b[A\n",
            " 92%|█████████▏| 1523712/1648877 [00:16<00:01, 103642.41it/s]\u001b[A\n",
            " 93%|█████████▎| 1540096/1648877 [00:16<00:00, 109645.89it/s]\u001b[A\n",
            " 94%|█████████▍| 1556480/1648877 [00:16<00:00, 101425.65it/s]\u001b[A\n",
            " 95%|█████████▌| 1572864/1648877 [00:16<00:00, 112115.25it/s]\u001b[A\n",
            " 96%|█████████▋| 1589248/1648877 [00:16<00:00, 95606.32it/s] \u001b[A\n",
            " 97%|█████████▋| 1605632/1648877 [00:17<00:00, 89364.80it/s]\u001b[A\n",
            " 98%|█████████▊| 1622016/1648877 [00:17<00:00, 87184.95it/s]\u001b[A\n",
            " 99%|█████████▉| 1638400/1648877 [00:17<00:00, 84802.61it/s]\u001b[A\n",
            "1654784it [00:17, 94928.22it/s]                             \u001b[A\n",
            "\n",
            "0it [00:00, ?it/s]\u001b[A\u001b[A"
          ],
          "name": "stderr"
        },
        {
          "output_type": "stream",
          "text": [
            "Extracting ../data/MNIST/raw/t10k-images-idx3-ubyte.gz to ../data/MNIST/raw\n",
            "Downloading http://yann.lecun.com/exdb/mnist/t10k-labels-idx1-ubyte.gz to ../data/MNIST/raw/t10k-labels-idx1-ubyte.gz\n"
          ],
          "name": "stdout"
        },
        {
          "output_type": "stream",
          "text": [
            "\n",
            "\n",
            "  0%|          | 0/4542 [00:00<?, ?it/s]\u001b[A\u001b[A\n",
            "\n",
            "8192it [00:00, 31450.96it/s]            \u001b[A\u001b[A"
          ],
          "name": "stderr"
        },
        {
          "output_type": "stream",
          "text": [
            "Extracting ../data/MNIST/raw/t10k-labels-idx1-ubyte.gz to ../data/MNIST/raw\n",
            "Processing...\n",
            "Done!\n"
          ],
          "name": "stdout"
        }
      ]
    },
    {
      "cell_type": "markdown",
      "metadata": {
        "id": "TFTiFRYNSdwf",
        "colab_type": "text"
      },
      "source": [
        "Data Loader"
      ]
    },
    {
      "cell_type": "code",
      "metadata": {
        "id": "fjSFMUYhSdwf",
        "colab_type": "code",
        "colab": {}
      },
      "source": [
        "train_loader = torch.utils.data.DataLoader(dataset=train_dataset,\n",
        "                                           batch_size=batch_size,\n",
        "                                           shuffle=True)\n",
        "\n",
        "test_loader = torch.utils.data.DataLoader(dataset=test_dataset,\n",
        "                                          batch_size=batch_size,\n",
        "                                          shuffle=False)"
      ],
      "execution_count": 0,
      "outputs": []
    },
    {
      "cell_type": "markdown",
      "metadata": {
        "id": "ItjB6HpZSdwh",
        "colab_type": "text"
      },
      "source": [
        "Build the nueral network"
      ]
    },
    {
      "cell_type": "code",
      "metadata": {
        "id": "DHIgWbIiSdwi",
        "colab_type": "code",
        "colab": {}
      },
      "source": [
        "class FcnNeuralNet(nn.Module):\n",
        "    def __init__(self, input_size, hidden_size, num_classes):\n",
        "        super().__init__()\n",
        "        self.fc1 = nn.Linear(input_size, hidden_size)\n",
        "        self.relu = nn.ReLU()\n",
        "        self.fc2 = nn.Linear(hidden_size, num_classes)\n",
        "        \n",
        "    def forward(self, x):\n",
        "        out = self.fc1(x)\n",
        "        out = self.relu(out)\n",
        "        out = self.fc2(out)\n",
        "        return out"
      ],
      "execution_count": 0,
      "outputs": []
    },
    {
      "cell_type": "code",
      "metadata": {
        "id": "q9hJh4bRSdwj",
        "colab_type": "code",
        "colab": {}
      },
      "source": [
        "neuralNet_model = FcnNeuralNet(input_size, hidden_size, num_classes).to(device)"
      ],
      "execution_count": 0,
      "outputs": []
    },
    {
      "cell_type": "markdown",
      "metadata": {
        "id": "83T315HDSdwl",
        "colab_type": "text"
      },
      "source": [
        "Loss Optimizer"
      ]
    },
    {
      "cell_type": "code",
      "metadata": {
        "id": "L8iZKFWBSdwm",
        "colab_type": "code",
        "colab": {}
      },
      "source": [
        "criterion = nn.CrossEntropyLoss()\n",
        "optimizer = torch.optim.Adam(neuralNet_model.parameters(), lr=learning_rate)"
      ],
      "execution_count": 0,
      "outputs": []
    },
    {
      "cell_type": "markdown",
      "metadata": {
        "id": "WL1HISSTSdwn",
        "colab_type": "text"
      },
      "source": [
        "Model Training"
      ]
    },
    {
      "cell_type": "code",
      "metadata": {
        "id": "NwNfvWkrSdwo",
        "colab_type": "code",
        "outputId": "277d07f9-65c1-4f6c-d7c7-829f843ac382",
        "colab": {}
      },
      "source": [
        "total_step = len(train_loader)\n",
        "\n",
        "for epoch in range(num_epochs):\n",
        "    for i, (images, labels) in enumerate(train_loader):\n",
        "        # Move tensors to the configured device\n",
        "        images =  images.reshape(-1, 28*28).to(device)\n",
        "        labels = labels.to(device)\n",
        "\n",
        "        # Forward pass\n",
        "        outputs = neuralNet_model(images)\n",
        "        loss = criterion(outputs, labels)\n",
        "\n",
        "        # Backward pass\n",
        "        optimizer.zero_grad()\n",
        "        loss.backward()\n",
        "        optimizer.step()\n",
        "\n",
        "        if (i+1) % 100 == 0:\n",
        "            print('Epoch [{}/{}], Step[{}/{}], Loss:{:.4f}'\n",
        "                  .format(epoch+1, num_epochs, i+1, total_step, loss.item()))\n",
        "        \n"
      ],
      "execution_count": 0,
      "outputs": [
        {
          "output_type": "stream",
          "text": [
            "Epoch [1/10], Step[100/600], Loss:0.0025\n",
            "Epoch [1/10], Step[200/600], Loss:0.0047\n",
            "Epoch [1/10], Step[300/600], Loss:0.0019\n",
            "Epoch [1/10], Step[400/600], Loss:0.0049\n",
            "Epoch [1/10], Step[500/600], Loss:0.0029\n",
            "Epoch [1/10], Step[600/600], Loss:0.0027\n",
            "Epoch [2/10], Step[100/600], Loss:0.0036\n",
            "Epoch [2/10], Step[200/600], Loss:0.0018\n",
            "Epoch [2/10], Step[300/600], Loss:0.0018\n",
            "Epoch [2/10], Step[400/600], Loss:0.0111\n",
            "Epoch [2/10], Step[500/600], Loss:0.0015\n",
            "Epoch [2/10], Step[600/600], Loss:0.0111\n",
            "Epoch [3/10], Step[100/600], Loss:0.0112\n",
            "Epoch [3/10], Step[200/600], Loss:0.0020\n",
            "Epoch [3/10], Step[300/600], Loss:0.0044\n",
            "Epoch [3/10], Step[400/600], Loss:0.0028\n",
            "Epoch [3/10], Step[500/600], Loss:0.0375\n",
            "Epoch [3/10], Step[600/600], Loss:0.0010\n",
            "Epoch [4/10], Step[100/600], Loss:0.0075\n",
            "Epoch [4/10], Step[200/600], Loss:0.0013\n",
            "Epoch [4/10], Step[300/600], Loss:0.0019\n",
            "Epoch [4/10], Step[400/600], Loss:0.0003\n",
            "Epoch [4/10], Step[500/600], Loss:0.0030\n",
            "Epoch [4/10], Step[600/600], Loss:0.0036\n",
            "Epoch [5/10], Step[100/600], Loss:0.0022\n",
            "Epoch [5/10], Step[200/600], Loss:0.0028\n",
            "Epoch [5/10], Step[300/600], Loss:0.0120\n",
            "Epoch [5/10], Step[400/600], Loss:0.0018\n",
            "Epoch [5/10], Step[500/600], Loss:0.0041\n",
            "Epoch [5/10], Step[600/600], Loss:0.0013\n",
            "Epoch [6/10], Step[100/600], Loss:0.0004\n",
            "Epoch [6/10], Step[200/600], Loss:0.0032\n",
            "Epoch [6/10], Step[300/600], Loss:0.0010\n",
            "Epoch [6/10], Step[400/600], Loss:0.0003\n",
            "Epoch [6/10], Step[500/600], Loss:0.0081\n",
            "Epoch [6/10], Step[600/600], Loss:0.0042\n",
            "Epoch [7/10], Step[100/600], Loss:0.0004\n",
            "Epoch [7/10], Step[200/600], Loss:0.0012\n",
            "Epoch [7/10], Step[300/600], Loss:0.0004\n",
            "Epoch [7/10], Step[400/600], Loss:0.0003\n",
            "Epoch [7/10], Step[500/600], Loss:0.0014\n",
            "Epoch [7/10], Step[600/600], Loss:0.0003\n",
            "Epoch [8/10], Step[100/600], Loss:0.0010\n",
            "Epoch [8/10], Step[200/600], Loss:0.0054\n",
            "Epoch [8/10], Step[300/600], Loss:0.0015\n",
            "Epoch [8/10], Step[400/600], Loss:0.0128\n",
            "Epoch [8/10], Step[500/600], Loss:0.0013\n",
            "Epoch [8/10], Step[600/600], Loss:0.0007\n",
            "Epoch [9/10], Step[100/600], Loss:0.0004\n",
            "Epoch [9/10], Step[200/600], Loss:0.0009\n",
            "Epoch [9/10], Step[300/600], Loss:0.0246\n",
            "Epoch [9/10], Step[400/600], Loss:0.0006\n",
            "Epoch [9/10], Step[500/600], Loss:0.0012\n",
            "Epoch [9/10], Step[600/600], Loss:0.0002\n",
            "Epoch [10/10], Step[100/600], Loss:0.0002\n",
            "Epoch [10/10], Step[200/600], Loss:0.0001\n",
            "Epoch [10/10], Step[300/600], Loss:0.0007\n",
            "Epoch [10/10], Step[400/600], Loss:0.0012\n",
            "Epoch [10/10], Step[500/600], Loss:0.0002\n",
            "Epoch [10/10], Step[600/600], Loss:0.0001\n"
          ],
          "name": "stdout"
        }
      ]
    },
    {
      "cell_type": "code",
      "metadata": {
        "id": "p5CUkAokSdwq",
        "colab_type": "code",
        "outputId": "c7c7a3b0-306c-4a60-f129-37f044f46011",
        "colab": {}
      },
      "source": [
        "with torch.no_grad():\n",
        "    correct = 0\n",
        "    total = 0\n",
        "    for images, labels in test_loader:\n",
        "        images = images.reshape(-1, 28*28).to(device)\n",
        "        labels = labels.to(device)\n",
        "        outputs = neuralNet_model(images)\n",
        "        _, predicted = torch.max(outputs.data, 1)\n",
        "        total += labels.size(0)\n",
        "        correct += (predicted == labels).sum().item()\n",
        "\n",
        "    print('Accuracy of the network on the 10000 test images: {} %'.format(100 * correct / total))\n"
      ],
      "execution_count": 0,
      "outputs": [
        {
          "output_type": "stream",
          "text": [
            "Accuracy of the network on the 10000 test images: 98.17 %\n"
          ],
          "name": "stdout"
        }
      ]
    },
    {
      "cell_type": "code",
      "metadata": {
        "id": "TtW3aet7Sdwr",
        "colab_type": "code",
        "outputId": "fa7bc28d-681a-4b61-d7cf-11b11cdce1a7",
        "colab": {}
      },
      "source": [
        "print(FcnNeuralNet)"
      ],
      "execution_count": 0,
      "outputs": [
        {
          "output_type": "stream",
          "text": [
            "<class '__main__.FcnNeuralNet'>\n"
          ],
          "name": "stdout"
        }
      ]
    },
    {
      "cell_type": "markdown",
      "metadata": {
        "id": "KFZhj98gSdwt",
        "colab_type": "text"
      },
      "source": [
        "### Fully Connected MLP with Dropout"
      ]
    },
    {
      "cell_type": "code",
      "metadata": {
        "id": "mfxb6_tBTe_u",
        "colab_type": "code",
        "outputId": "68a2ed76-0fab-4f79-ac73-7deccc5fa77e",
        "colab": {
          "base_uri": "https://localhost:8080/",
          "height": 343
        }
      },
      "source": [
        "!pip3 install torch==1.4.0+cu92 torchvision==0.5.0+cu92 -f https://download.pytorch.org/whl/torch_stable.html"
      ],
      "execution_count": 3,
      "outputs": [
        {
          "output_type": "stream",
          "text": [
            "Looking in links: https://download.pytorch.org/whl/torch_stable.html\n",
            "Collecting torch==1.4.0+cu92\n",
            "\u001b[?25l  Downloading https://download.pytorch.org/whl/cu92/torch-1.4.0%2Bcu92-cp36-cp36m-linux_x86_64.whl (640.5MB)\n",
            "\u001b[K     |████████████████████████████████| 640.6MB 29kB/s \n",
            "\u001b[?25hCollecting torchvision==0.5.0+cu92\n",
            "\u001b[?25l  Downloading https://download.pytorch.org/whl/cu92/torchvision-0.5.0%2Bcu92-cp36-cp36m-linux_x86_64.whl (3.9MB)\n",
            "\u001b[K     |████████████████████████████████| 4.0MB 929kB/s \n",
            "\u001b[?25hRequirement already satisfied: pillow>=4.1.1 in /usr/local/lib/python3.6/dist-packages (from torchvision==0.5.0+cu92) (6.2.2)\n",
            "Requirement already satisfied: six in /usr/local/lib/python3.6/dist-packages (from torchvision==0.5.0+cu92) (1.12.0)\n",
            "Requirement already satisfied: numpy in /usr/local/lib/python3.6/dist-packages (from torchvision==0.5.0+cu92) (1.17.5)\n",
            "Installing collected packages: torch, torchvision\n",
            "  Found existing installation: torch 1.2.0+cu92\n",
            "    Uninstalling torch-1.2.0+cu92:\n",
            "      Successfully uninstalled torch-1.2.0+cu92\n",
            "  Found existing installation: torchvision 0.4.0+cu92\n",
            "    Uninstalling torchvision-0.4.0+cu92:\n",
            "      Successfully uninstalled torchvision-0.4.0+cu92\n",
            "Successfully installed torch-1.4.0+cu92 torchvision-0.5.0+cu92\n"
          ],
          "name": "stdout"
        }
      ]
    },
    {
      "cell_type": "code",
      "metadata": {
        "id": "XmLGWoJaSdwu",
        "colab_type": "code",
        "colab": {}
      },
      "source": [
        "import torch\n",
        "import torch.nn as nn\n",
        "import torch.nn.functional as F\n",
        "import torchvision\n",
        "import torchvision.transforms as transforms\n",
        "import matplotlib.pyplot as plt\n",
        "import numpy as np\n",
        "from torch.utils.data.sampler import SubsetRandomSampler"
      ],
      "execution_count": 0,
      "outputs": []
    },
    {
      "cell_type": "code",
      "metadata": {
        "id": "HS49BoleUXwl",
        "colab_type": "code",
        "outputId": "4bb6041c-ca5c-4665-f47f-7d6b29e5a927",
        "colab": {
          "base_uri": "https://localhost:8080/",
          "height": 34
        }
      },
      "source": [
        "torch.cuda.get_device_name(0)"
      ],
      "execution_count": 5,
      "outputs": [
        {
          "output_type": "execute_result",
          "data": {
            "text/plain": [
              "'Tesla T4'"
            ]
          },
          "metadata": {
            "tags": []
          },
          "execution_count": 5
        }
      ]
    },
    {
      "cell_type": "code",
      "metadata": {
        "id": "fXpwQ_MFUdhz",
        "colab_type": "code",
        "outputId": "6769328e-831d-44b9-c4cc-d1034f3383f9",
        "colab": {
          "base_uri": "https://localhost:8080/",
          "height": 34
        }
      },
      "source": [
        "torch.cuda.is_available()"
      ],
      "execution_count": 6,
      "outputs": [
        {
          "output_type": "execute_result",
          "data": {
            "text/plain": [
              "True"
            ]
          },
          "metadata": {
            "tags": []
          },
          "execution_count": 6
        }
      ]
    },
    {
      "cell_type": "code",
      "metadata": {
        "id": "sUdXPR4STgGP",
        "colab_type": "code",
        "outputId": "4f85b9ba-a56f-425f-e68f-1385690310a1",
        "colab": {
          "base_uri": "https://localhost:8080/",
          "height": 34
        }
      },
      "source": [
        "# Device configuration\n",
        "device = torch.device('cuda' if torch.cuda.is_available() else 'cpu')\n",
        "\n",
        "print(\"% s will be used for training/testing\" % device)"
      ],
      "execution_count": 7,
      "outputs": [
        {
          "output_type": "stream",
          "text": [
            "cuda will be used for training/testing\n"
          ],
          "name": "stdout"
        }
      ]
    },
    {
      "cell_type": "code",
      "metadata": {
        "id": "poO9-LfKSdww",
        "colab_type": "code",
        "colab": {}
      },
      "source": [
        "# neural net input size\n",
        "input_size = 784\n",
        "hidden_size = 500\n",
        "num_classes = 10\n",
        "num_epochs = 10\n",
        "learning_rate = 0.001\n",
        "\n",
        "# number of subprocesses to use for data loading\n",
        "num_workers = 0\n",
        "# how many samples per batch to load\n",
        "batch_size = 20\n",
        "# percentage of training set to use as validation\n",
        "valid_size = 0.2\n"
      ],
      "execution_count": 0,
      "outputs": []
    },
    {
      "cell_type": "code",
      "metadata": {
        "id": "gFod3B2HSdwx",
        "colab_type": "code",
        "colab": {}
      },
      "source": [
        "# convert data to torch.FloatTensor\n",
        "transform = transforms.ToTensor()\n",
        "\n",
        "# choose the training and test datasets\n",
        "train_data = torchvision.datasets.MNIST(root='../data', train=True,\n",
        "                                   download=True, transform=transform)\n",
        "test_data = torchvision.datasets.MNIST(root='../data', train=False,\n",
        "                                  download=True, transform=transform)"
      ],
      "execution_count": 0,
      "outputs": []
    },
    {
      "cell_type": "code",
      "metadata": {
        "id": "Kqh_SmLjSdwz",
        "colab_type": "code",
        "colab": {}
      },
      "source": [
        "# obtain training indices that will be used for validation\n",
        "num_train = len(train_data)\n",
        "indices = list(range(num_train))\n",
        "np.random.shuffle(indices)\n",
        "split = int(np.floor(valid_size * num_train))\n",
        "train_idx, valid_idx = indices[split:], indices[:split]\n",
        "\n",
        "# define samplers for obtaining training and validation batches\n",
        "train_sampler = SubsetRandomSampler(train_idx)\n",
        "valid_sampler = SubsetRandomSampler(valid_idx)\n",
        "\n",
        "# prepare data loaders\n",
        "train_loader = torch.utils.data.DataLoader(train_data, batch_size=batch_size,\n",
        "    sampler=train_sampler, num_workers=num_workers)\n",
        "\n",
        "valid_loader = torch.utils.data.DataLoader(train_data, batch_size=batch_size, \n",
        "    sampler=valid_sampler, num_workers=num_workers)\n",
        "\n",
        "test_loader = torch.utils.data.DataLoader(test_data, batch_size=batch_size, \n",
        "    num_workers=num_workers)"
      ],
      "execution_count": 0,
      "outputs": []
    },
    {
      "cell_type": "markdown",
      "metadata": {
        "id": "uEi_eSm_Sdw1",
        "colab_type": "text"
      },
      "source": [
        "Visualize a batch of Training Data"
      ]
    },
    {
      "cell_type": "code",
      "metadata": {
        "id": "FLGObdYaSdw1",
        "colab_type": "code",
        "outputId": "dd3b534e-b94f-4e49-a875-0350ae7d22d7",
        "colab": {
          "base_uri": "https://localhost:8080/",
          "height": 265
        }
      },
      "source": [
        "import matplotlib.pyplot as plt\n",
        "%matplotlib inline\n",
        "# obtain one batch of training images\n",
        "batch_iter = iter(train_loader)\n",
        "images_batch, labels_batch = batch_iter.next()\n",
        "\n",
        "image = images_batch[0]\n",
        "\n",
        "img = np.array(image, dtype='float')\n",
        "img = img.reshape((28, 28))\n",
        "\n",
        "plt.imshow(img, cmap='gray')\n",
        "plt.show()"
      ],
      "execution_count": 16,
      "outputs": [
        {
          "output_type": "display_data",
          "data": {
            "image/png": "[encoded data removed]",
            "text/plain": [
              "<Figure size 432x288 with 1 Axes>"
            ]
          },
          "metadata": {
            "tags": []
          }
        }
      ]
    },
    {
      "cell_type": "code",
      "metadata": {
        "scrolled": true,
        "id": "ZqerDRapSdw3",
        "colab_type": "code",
        "outputId": "cd36b387-58b5-4dd0-d847-d25458bc265e",
        "colab": {
          "base_uri": "https://localhost:8080/",
          "height": 288
        }
      },
      "source": [
        "import matplotlib.pyplot as plt\n",
        "%matplotlib inline\n",
        "batch_iter = iter(train_loader)\n",
        "images_batch, labels_batch = batch_iter.next()\n",
        "\n",
        "plt.figure(figsize=(25, 4))\n",
        "for idx, image in enumerate(images_batch):\n",
        "    img = np.array(image, dtype='float')\n",
        "    img = img.reshape((28, 28))\n",
        "    plt.subplot(2, 10, (idx + 1))\n",
        "    plt.imshow(img, cmap='gray')\n",
        "\n",
        "plt.show()"
      ],
      "execution_count": 17,
      "outputs": [
        {
          "output_type": "display_data",
          "data": {
            "image/png": "[encoded data removed]",
            "text/plain": [
              "<Figure size 1800x288 with 20 Axes>"
            ]
          },
          "metadata": {
            "tags": []
          }
        }
      ]
    },
    {
      "cell_type": "code",
      "metadata": {
        "id": "AFRAH9g0Sdw6",
        "colab_type": "code",
        "outputId": "de8bf5c6-e15b-4052-e30f-92f1c16cfcef",
        "colab": {
          "base_uri": "https://localhost:8080/",
          "height": 119
        }
      },
      "source": [
        "# define the NN architecture\n",
        "class FcnNeuralNetDropOut(nn.Module):\n",
        "    def __init__(self):\n",
        "        super().__init__()\n",
        "        # number of hidden nodes in each layer (512)\n",
        "        hidden_1 = 512\n",
        "        hidden_2 = 512\n",
        "        # linear layer (784 -> hidden_1)\n",
        "        self.fc1 = nn.Linear(28 * 28, hidden_1)\n",
        "        # linear layer (n_hidden -> hidden_2)\n",
        "        self.fc2 = nn.Linear(hidden_1, hidden_2)\n",
        "        # linear layer (n_hidden -> 10)\n",
        "        self.fc3 = nn.Linear(hidden_2, 10)\n",
        "        # dropout prevents overfitting of data\n",
        "        # dropout layer (p=0.2)\n",
        "        self.dropout_02 = nn.Dropout(0.2)\n",
        "\n",
        "    def forward(self, x):\n",
        "        # flatten image input\n",
        "        x = x.view(-1, 28 * 28)\n",
        "        # add hidden layer, with relu activation function\n",
        "        x = F.relu(self.fc1(x))\n",
        "        # add hidden layer, with relu activation function\n",
        "        x = F.relu(self.fc2(x))\n",
        "        # add dropout layer\n",
        "        x = self.dropout_02(x)\n",
        "        # add output layer\n",
        "        x = self.fc3(x)\n",
        "        return x\n",
        "\n",
        "# initialize the NN\n",
        "model = FcnNeuralNetDropOut()\n",
        "print(model)"
      ],
      "execution_count": 22,
      "outputs": [
        {
          "output_type": "stream",
          "text": [
            "FcnNeuralNetDropOut(\n",
            "  (fc1): Linear(in_features=784, out_features=512, bias=True)\n",
            "  (fc2): Linear(in_features=512, out_features=512, bias=True)\n",
            "  (fc3): Linear(in_features=512, out_features=10, bias=True)\n",
            "  (dropout_02): Dropout(p=0.2, inplace=False)\n",
            ")\n"
          ],
          "name": "stdout"
        }
      ]
    },
    {
      "cell_type": "markdown",
      "metadata": {
        "id": "kldmSJzWSdw-",
        "colab_type": "text"
      },
      "source": [
        "__Specify Loss Function and Optimizer__"
      ]
    },
    {
      "cell_type": "code",
      "metadata": {
        "id": "-kmLyNikSdw-",
        "colab_type": "code",
        "colab": {}
      },
      "source": [
        "# specify loss function (categorical cross-entropy)\n",
        "criterion = nn.CrossEntropyLoss()\n",
        "\n",
        "# specify optimizer (stochastic gradient descent) and learning rate = 0.01\n",
        "optimizer = torch.optim.Adam(model.parameters(), lr=0.001)"
      ],
      "execution_count": 0,
      "outputs": []
    },
    {
      "cell_type": "markdown",
      "metadata": {
        "id": "xQSbq6aWSdxA",
        "colab_type": "text"
      },
      "source": [
        "__Train the Network__"
      ]
    },
    {
      "cell_type": "code",
      "metadata": {
        "id": "Mhq0bpxDSdxA",
        "colab_type": "code",
        "outputId": "b9dc4981-46cc-4acb-e96b-3b76352a7601",
        "colab": {
          "base_uri": "https://localhost:8080/",
          "height": 578
        }
      },
      "source": [
        "# number of epochs to train the model\n",
        "n_epochs = 30\n",
        "\n",
        "# initialize tracker for minimum validation loss\n",
        "valid_loss_min = np.Inf # set initial \"min\" to infinity\n",
        "\n",
        "for epoch in range(n_epochs):\n",
        "    # monitor training loss\n",
        "    train_loss = 0.0\n",
        "    valid_loss = 0.0\n",
        "    \n",
        "    ###################\n",
        "    # train the model #\n",
        "    ###################\n",
        "    model.to(device)\n",
        "    model.train() # prep model for training\n",
        "    \n",
        "    for data, target in train_loader:\n",
        "        data = data.to(device)\n",
        "        target = target.to(device)\n",
        "        # clear the gradients of all optimized variables\n",
        "        optimizer.zero_grad()\n",
        "        # forward pass: compute predicted outputs by passing inputs to the model\n",
        "        output = model(data)\n",
        "        # calculate the loss\n",
        "        loss = criterion(output, target)\n",
        "        # backward pass: compute gradient of the loss with respect to model parameters\n",
        "        loss.backward()\n",
        "        # perform a single optimization step (parameter update)\n",
        "        optimizer.step()\n",
        "        # update running training loss\n",
        "        train_loss += loss.item()*data.size(0)\n",
        "        \n",
        "    ######################    \n",
        "    # validate the model #\n",
        "    ######################\n",
        "    model.to(device)\n",
        "    model.eval() # prep model for evaluation\n",
        "    for data, target in valid_loader:\n",
        "        data = data.to(device)\n",
        "        target = target.to(device)\n",
        "        # forward pass: compute predicted outputs by passing inputs to the model\n",
        "        output = model(data)\n",
        "        # calculate the loss\n",
        "        loss = criterion(output, target)\n",
        "        # update running validation loss \n",
        "        valid_loss += loss.item()*data.size(0)\n",
        "        \n",
        "    # print training/validation statistics \n",
        "    # calculate average loss over an epoch\n",
        "    train_loss = train_loss/len(train_loader.sampler)\n",
        "    valid_loss = valid_loss/len(valid_loader.sampler)\n",
        "    \n",
        "    print('Epoch: {} \\tTraining Loss: {:.6f} \\tValidation Loss: {:.6f}'.format(\n",
        "        epoch+1, \n",
        "        train_loss,\n",
        "        valid_loss\n",
        "        ))\n",
        "    \n",
        "    # save model if validation loss has decreased\n",
        "    if valid_loss <= valid_loss_min:\n",
        "        print('Validation loss decreased ({:.6f} --> {:.6f}).  Saving model ...'.format(\n",
        "        valid_loss_min,\n",
        "        valid_loss))\n",
        "        torch.save(model.state_dict(), 'model.pt')\n",
        "        valid_loss_min = valid_loss\n"
      ],
      "execution_count": 24,
      "outputs": [
        {
          "output_type": "stream",
          "text": [
            "Epoch: 1 \tTraining Loss: 0.220682 \tValidation Loss: 0.141031\n",
            "Validation loss decreased (inf --> 0.141031).  Saving model ...\n",
            "Epoch: 2 \tTraining Loss: 0.096777 \tValidation Loss: 0.095449\n",
            "Validation loss decreased (0.141031 --> 0.095449).  Saving model ...\n",
            "Epoch: 3 \tTraining Loss: 0.068369 \tValidation Loss: 0.090195\n",
            "Validation loss decreased (0.095449 --> 0.090195).  Saving model ...\n",
            "Epoch: 4 \tTraining Loss: 0.053639 \tValidation Loss: 0.100612\n",
            "Epoch: 5 \tTraining Loss: 0.040576 \tValidation Loss: 0.118828\n",
            "Epoch: 6 \tTraining Loss: 0.035812 \tValidation Loss: 0.132658\n",
            "Epoch: 7 \tTraining Loss: 0.034491 \tValidation Loss: 0.114247\n",
            "Epoch: 8 \tTraining Loss: 0.031112 \tValidation Loss: 0.130318\n",
            "Epoch: 9 \tTraining Loss: 0.025821 \tValidation Loss: 0.148652\n",
            "Epoch: 10 \tTraining Loss: 0.028297 \tValidation Loss: 0.124806\n",
            "Epoch: 11 \tTraining Loss: 0.022059 \tValidation Loss: 0.135980\n",
            "Epoch: 12 \tTraining Loss: 0.024755 \tValidation Loss: 0.160717\n",
            "Epoch: 13 \tTraining Loss: 0.019879 \tValidation Loss: 0.150733\n",
            "Epoch: 14 \tTraining Loss: 0.023300 \tValidation Loss: 0.160174\n",
            "Epoch: 15 \tTraining Loss: 0.019933 \tValidation Loss: 0.174969\n",
            "Epoch: 16 \tTraining Loss: 0.018273 \tValidation Loss: 0.161450\n",
            "Epoch: 17 \tTraining Loss: 0.021540 \tValidation Loss: 0.210771\n",
            "Epoch: 18 \tTraining Loss: 0.018711 \tValidation Loss: 0.201590\n",
            "Epoch: 19 \tTraining Loss: 0.016297 \tValidation Loss: 0.273277\n",
            "Epoch: 20 \tTraining Loss: 0.019613 \tValidation Loss: 0.210703\n",
            "Epoch: 21 \tTraining Loss: 0.018027 \tValidation Loss: 0.174193\n",
            "Epoch: 22 \tTraining Loss: 0.014999 \tValidation Loss: 0.254214\n",
            "Epoch: 23 \tTraining Loss: 0.023075 \tValidation Loss: 0.220059\n",
            "Epoch: 24 \tTraining Loss: 0.013016 \tValidation Loss: 0.226503\n",
            "Epoch: 25 \tTraining Loss: 0.017243 \tValidation Loss: 0.268668\n",
            "Epoch: 26 \tTraining Loss: 0.013871 \tValidation Loss: 0.245029\n",
            "Epoch: 27 \tTraining Loss: 0.015645 \tValidation Loss: 0.273445\n",
            "Epoch: 28 \tTraining Loss: 0.016519 \tValidation Loss: 0.249372\n",
            "Epoch: 29 \tTraining Loss: 0.019228 \tValidation Loss: 0.232886\n",
            "Epoch: 30 \tTraining Loss: 0.014312 \tValidation Loss: 0.265598\n"
          ],
          "name": "stdout"
        }
      ]
    },
    {
      "cell_type": "markdown",
      "metadata": {
        "id": "V2R1uEkOSdxC",
        "colab_type": "text"
      },
      "source": [
        "__Test the Model__"
      ]
    },
    {
      "cell_type": "markdown",
      "metadata": {
        "id": "ZjYo_1pQSdxD",
        "colab_type": "text"
      },
      "source": [
        "Test setup"
      ]
    },
    {
      "cell_type": "code",
      "metadata": {
        "id": "gfAwVcgwSdxF",
        "colab_type": "code",
        "outputId": "1288696d-83f1-4f75-bf0d-b4ffaf4874b3",
        "colab": {
          "base_uri": "https://localhost:8080/",
          "height": 119
        }
      },
      "source": [
        "# initialize lists to monitor test loss and accuracy\n",
        "test_loss = 0.0\n",
        "class_correct = list(0. for i in range(10))\n",
        "class_total = list(0. for i in range(10))\n",
        "\n",
        "# prep model for evaluation\n",
        "model.eval()"
      ],
      "execution_count": 31,
      "outputs": [
        {
          "output_type": "execute_result",
          "data": {
            "text/plain": [
              "FcnNeuralNetDropOut(\n",
              "  (fc1): Linear(in_features=784, out_features=512, bias=True)\n",
              "  (fc2): Linear(in_features=512, out_features=512, bias=True)\n",
              "  (fc3): Linear(in_features=512, out_features=10, bias=True)\n",
              "  (dropout_02): Dropout(p=0.2, inplace=False)\n",
              ")"
            ]
          },
          "metadata": {
            "tags": []
          },
          "execution_count": 31
        }
      ]
    },
    {
      "cell_type": "markdown",
      "metadata": {
        "id": "Bdbj6yuvSdxG",
        "colab_type": "text"
      },
      "source": [
        "test loop"
      ]
    },
    {
      "cell_type": "code",
      "metadata": {
        "id": "dHECZZXkSdxH",
        "colab_type": "code",
        "colab": {}
      },
      "source": [
        "for data, target in test_loader:\n",
        "    data = data.to(device)\n",
        "    target = target.to(device)\n",
        "    # forward pass: compute predicted outputs by passing inputs to the model\n",
        "    output = model(data)\n",
        "    # calculate the loss\n",
        "    loss = criterion(output, target)\n",
        "    # update test loss \n",
        "    test_loss += loss.item()*data.size(0)\n",
        "    # convert output probabilities to predicted class\n",
        "    _, pred = torch.max(output, 1)\n",
        "    # compare predictions to true label\n",
        "    correct = np.squeeze(pred.eq(target.data.view_as(pred)))\n",
        "    # calculate test accuracy for each object class\n",
        "    for i in range(len(target)):\n",
        "        label = target.data[i]\n",
        "        class_correct[label] += correct[i].item()\n",
        "        class_total[label] += 1"
      ],
      "execution_count": 0,
      "outputs": []
    },
    {
      "cell_type": "code",
      "metadata": {
        "id": "ff3a65vJSdxI",
        "colab_type": "code",
        "outputId": "700075cf-0ec8-413a-8bfd-15afc3e48a99",
        "colab": {
          "base_uri": "https://localhost:8080/",
          "height": 255
        }
      },
      "source": [
        "# calculate and print avg test loss\n",
        "test_loss = test_loss/len(test_loader.sampler)\n",
        "print('Test Loss: {:.6f}\\n'.format(test_loss))\n",
        "\n",
        "for i in range(10):\n",
        "    if class_total[i] > 0:\n",
        "        print('Test Accuracy of %5s: %2d%% (%2d/%2d)' % (\n",
        "            str(i), 100 * class_correct[i] / class_total[i],\n",
        "            np.sum(class_correct[i]), np.sum(class_total[i])))\n",
        "    else:\n",
        "        print('Test Accuracy of %5s: N/A (no training examples)' % (classes[i]))\n",
        "\n",
        "print('\\nTest Accuracy (Overall): %2d%% (%2d/%2d)' % (\n",
        "    100. * np.sum(class_correct) / np.sum(class_total),\n",
        "    np.sum(class_correct), np.sum(class_total)))"
      ],
      "execution_count": 33,
      "outputs": [
        {
          "output_type": "stream",
          "text": [
            "Test Loss: 0.241320\n",
            "\n",
            "Test Accuracy of     0: 99% (974/980)\n",
            "Test Accuracy of     1: 98% (1121/1135)\n",
            "Test Accuracy of     2: 98% (1020/1032)\n",
            "Test Accuracy of     3: 98% (991/1010)\n",
            "Test Accuracy of     4: 96% (948/982)\n",
            "Test Accuracy of     5: 97% (870/892)\n",
            "Test Accuracy of     6: 99% (949/958)\n",
            "Test Accuracy of     7: 95% (978/1028)\n",
            "Test Accuracy of     8: 97% (945/974)\n",
            "Test Accuracy of     9: 97% (988/1009)\n",
            "\n",
            "Test Accuracy (Overall): 97% (9784/10000)\n"
          ],
          "name": "stdout"
        }
      ]
    },
    {
      "cell_type": "code",
      "metadata": {
        "id": "XOtKAjn6SdxD",
        "colab_type": "code",
        "colab": {}
      },
      "source": [
        "def apply_dropout(m):\n",
        "    if type(m) == nn.Dropout:\n",
        "        m.train()"
      ],
      "execution_count": 0,
      "outputs": []
    },
    {
      "cell_type": "code",
      "metadata": {
        "id": "KGpH9umechK9",
        "colab_type": "code",
        "colab": {
          "base_uri": "https://localhost:8080/",
          "height": 119
        },
        "outputId": "97e5f1da-f855-4912-f9a5-247e7892d69f"
      },
      "source": [
        "# Apply dropout on testing\n",
        "model.apply(apply_dropout)"
      ],
      "execution_count": 47,
      "outputs": [
        {
          "output_type": "execute_result",
          "data": {
            "text/plain": [
              "FcnNeuralNetDropOut(\n",
              "  (fc1): Linear(in_features=784, out_features=512, bias=True)\n",
              "  (fc2): Linear(in_features=512, out_features=512, bias=True)\n",
              "  (fc3): Linear(in_features=512, out_features=10, bias=True)\n",
              "  (dropout_02): Dropout(p=0.2, inplace=False)\n",
              ")"
            ]
          },
          "metadata": {
            "tags": []
          },
          "execution_count": 47
        }
      ]
    },
    {
      "cell_type": "code",
      "metadata": {
        "id": "zs8oenR2b9bJ",
        "colab_type": "code",
        "colab": {
          "base_uri": "https://localhost:8080/",
          "height": 288
        },
        "outputId": "a36de0b2-22f3-407a-bf27-c609f2cf5dc0"
      },
      "source": [
        "dataiter = iter(test_loader)\n",
        "images, labels = dataiter.next()\n",
        "\n",
        "data = images.to(device)\n",
        "target = labels.to(device)\n",
        "\n",
        "# get sample outputs\n",
        "output = model(data)\n",
        "# convert output probabilities to predicted class\n",
        "_, preds = torch.max(output, 1)\n",
        "# prep images for display\n",
        "images = images.numpy()\n",
        "\n",
        "# plot the images in the batch, along with predicted and true labels\n",
        "fig = plt.figure(figsize=(25, 4))\n",
        "for idx in np.arange(20):\n",
        "    ax = fig.add_subplot(2, 20/2, idx+1, xticks=[], yticks=[])\n",
        "    ax.imshow(np.squeeze(images[idx]), cmap='gray')\n",
        "    ax.set_title(\"{} ({})\".format(str(preds[idx].item()), str(labels[idx].item())),\n",
        "                 color=(\"green\" if preds[idx]==labels[idx] else \"red\"))"
      ],
      "execution_count": 39,
      "outputs": [
        {
          "output_type": "display_data",
          "data": {
            "image/png": "[encoded data removed]",
            "text/plain": [
              "<Figure size 1800x288 with 20 Axes>"
            ]
          },
          "metadata": {
            "tags": []
          }
        }
      ]
    },
    {
      "cell_type": "code",
      "metadata": {
        "id": "pTW2tDdHdyt-",
        "colab_type": "code",
        "colab": {}
      },
      "source": [
        "dataiter = iter(test_loader)\n",
        "images, labels = dataiter.next()\n",
        "\n",
        "data = images[0].to(device)\n",
        "target = labels[0].to(device)\n"
      ],
      "execution_count": 0,
      "outputs": []
    },
    {
      "cell_type": "code",
      "metadata": {
        "id": "kqeZtONae4J7",
        "colab_type": "code",
        "colab": {
          "base_uri": "https://localhost:8080/",
          "height": 265
        },
        "outputId": "aa7e1953-0f2e-4cfd-990d-e70d2d167e69"
      },
      "source": [
        "# Plot one sample of the batch\n",
        "img = np.array(images[0], dtype='float')\n",
        "img = img.reshape((28, 28))\n",
        "\n",
        "plt.imshow(img, cmap='gray')\n",
        "plt.show()"
      ],
      "execution_count": 86,
      "outputs": [
        {
          "output_type": "display_data",
          "data": {
            "image/png": "[encoded data removed]",
            "text/plain": [
              "<Figure size 432x288 with 1 Axes>"
            ]
          },
          "metadata": {
            "tags": []
          }
        }
      ]
    },
    {
      "cell_type": "code",
      "metadata": {
        "id": "a1pmmmiJbYYP",
        "colab_type": "code",
        "colab": {}
      },
      "source": [
        "# Nro of Forward passes\n",
        "T = 20\n",
        "predictions = []"
      ],
      "execution_count": 0,
      "outputs": []
    },
    {
      "cell_type": "code",
      "metadata": {
        "id": "Nlr7aFSASdxJ",
        "colab_type": "code",
        "colab": {}
      },
      "source": [
        "for t in range(T):\n",
        "  # forward pass: compute predicted outputs by passing inputs to the model\n",
        "  output = F.softmax(model(data), dim=1)\n",
        "  # append the prediction\n",
        "  predictions.append(output)"
      ],
      "execution_count": 0,
      "outputs": []
    },
    {
      "cell_type": "code",
      "metadata": {
        "id": "GhdyG0b_eqo5",
        "colab_type": "code",
        "colab": {
          "base_uri": "https://localhost:8080/",
          "height": 714
        },
        "outputId": "06f8e7d0-8b70-40da-bf21-ac1cb8336da0"
      },
      "source": [
        "print(predictions)"
      ],
      "execution_count": 89,
      "outputs": [
        {
          "output_type": "stream",
          "text": [
            "[tensor([[1.5454e-25, 9.7129e-18, 4.3032e-20, 4.7898e-15, 1.8550e-20, 1.0207e-27,\n",
            "         7.1888e-33, 1.0000e+00, 1.5001e-21, 4.4345e-14]], device='cuda:0',\n",
            "       grad_fn=<SoftmaxBackward>), tensor([[1.4315e-23, 5.9062e-19, 4.0441e-21, 7.6788e-19, 4.5998e-19, 2.8366e-33,\n",
            "         2.7314e-32, 1.0000e+00, 3.3923e-23, 1.9661e-15]], device='cuda:0',\n",
            "       grad_fn=<SoftmaxBackward>), tensor([[2.9002e-23, 1.7306e-19, 1.3330e-22, 1.1501e-21, 4.8789e-19, 4.4900e-31,\n",
            "         1.2293e-36, 1.0000e+00, 9.9826e-24, 1.9604e-13]], device='cuda:0',\n",
            "       grad_fn=<SoftmaxBackward>), tensor([[6.0741e-26, 3.2763e-23, 2.0999e-22, 1.4857e-20, 3.4929e-23, 1.4325e-31,\n",
            "         5.2185e-38, 1.0000e+00, 3.1358e-28, 1.4436e-16]], device='cuda:0',\n",
            "       grad_fn=<SoftmaxBackward>), tensor([[4.6888e-29, 3.3298e-24, 1.9347e-24, 4.0417e-22, 3.7245e-24, 2.8988e-35,\n",
            "         1.4420e-40, 1.0000e+00, 1.8321e-27, 4.0589e-18]], device='cuda:0',\n",
            "       grad_fn=<SoftmaxBackward>), tensor([[6.0874e-23, 1.0467e-19, 2.7002e-20, 1.2260e-19, 3.2790e-20, 3.4797e-33,\n",
            "         2.4603e-37, 1.0000e+00, 1.0926e-26, 3.0763e-16]], device='cuda:0',\n",
            "       grad_fn=<SoftmaxBackward>), tensor([[2.3144e-30, 1.4361e-22, 1.3047e-23, 2.9689e-21, 1.5147e-22, 2.0451e-31,\n",
            "         3.0982e-38, 1.0000e+00, 2.8143e-26, 8.0159e-14]], device='cuda:0',\n",
            "       grad_fn=<SoftmaxBackward>), tensor([[2.2529e-27, 5.2695e-21, 5.0375e-19, 1.5181e-16, 7.7485e-21, 4.7711e-30,\n",
            "         4.9470e-34, 1.0000e+00, 5.9972e-26, 3.7935e-15]], device='cuda:0',\n",
            "       grad_fn=<SoftmaxBackward>), tensor([[4.7669e-27, 5.3372e-20, 1.1368e-21, 7.8406e-18, 5.3139e-21, 1.6060e-30,\n",
            "         7.7274e-34, 1.0000e+00, 1.9204e-23, 6.4271e-17]], device='cuda:0',\n",
            "       grad_fn=<SoftmaxBackward>), tensor([[7.6279e-28, 1.0792e-22, 5.7941e-22, 1.0365e-17, 6.3847e-23, 1.3467e-30,\n",
            "         3.8301e-38, 1.0000e+00, 1.3353e-26, 4.4228e-17]], device='cuda:0',\n",
            "       grad_fn=<SoftmaxBackward>), tensor([[2.8945e-26, 1.0251e-19, 1.7783e-18, 9.5513e-16, 6.5650e-20, 2.7255e-31,\n",
            "         4.0964e-32, 1.0000e+00, 4.4216e-25, 3.6358e-16]], device='cuda:0',\n",
            "       grad_fn=<SoftmaxBackward>), tensor([[1.9264e-26, 1.3620e-22, 7.6650e-22, 7.1445e-21, 5.6286e-23, 2.2694e-33,\n",
            "         2.7385e-40, 1.0000e+00, 1.0388e-27, 1.6190e-16]], device='cuda:0',\n",
            "       grad_fn=<SoftmaxBackward>), tensor([[1.0162e-21, 1.0176e-17, 3.1289e-20, 4.3101e-17, 6.9817e-17, 1.0830e-26,\n",
            "         9.8485e-31, 1.0000e+00, 6.8021e-22, 3.2338e-13]], device='cuda:0',\n",
            "       grad_fn=<SoftmaxBackward>), tensor([[5.4120e-24, 6.2403e-19, 1.2091e-18, 1.4209e-18, 3.1191e-19, 1.8324e-29,\n",
            "         5.6949e-31, 1.0000e+00, 2.3507e-22, 5.0296e-14]], device='cuda:0',\n",
            "       grad_fn=<SoftmaxBackward>), tensor([[3.3638e-19, 1.1178e-20, 3.3760e-19, 1.5000e-19, 7.0344e-18, 4.7304e-28,\n",
            "         7.4999e-35, 1.0000e+00, 2.3028e-23, 2.8640e-12]], device='cuda:0',\n",
            "       grad_fn=<SoftmaxBackward>), tensor([[6.9767e-28, 1.2342e-21, 1.4117e-22, 3.6029e-17, 2.8187e-22, 3.4589e-30,\n",
            "         3.6876e-35, 1.0000e+00, 4.1598e-25, 1.6525e-13]], device='cuda:0',\n",
            "       grad_fn=<SoftmaxBackward>), tensor([[2.2621e-29, 3.1290e-24, 1.6306e-24, 6.4171e-23, 2.4503e-24, 5.1017e-37,\n",
            "         9.3492e-41, 1.0000e+00, 1.7149e-27, 1.7558e-18]], device='cuda:0',\n",
            "       grad_fn=<SoftmaxBackward>), tensor([[1.9996e-24, 9.7768e-21, 3.2892e-21, 1.1910e-19, 3.7277e-21, 5.1225e-32,\n",
            "         2.5999e-35, 1.0000e+00, 1.5056e-27, 2.1967e-13]], device='cuda:0',\n",
            "       grad_fn=<SoftmaxBackward>), tensor([[5.7994e-22, 2.2037e-19, 8.8676e-23, 6.1459e-18, 2.0219e-20, 3.5201e-30,\n",
            "         1.3815e-34, 1.0000e+00, 3.0246e-23, 1.5216e-12]], device='cuda:0',\n",
            "       grad_fn=<SoftmaxBackward>), tensor([[3.5348e-28, 1.0776e-20, 1.5327e-24, 1.5867e-19, 5.4459e-21, 1.8722e-32,\n",
            "         3.5425e-38, 1.0000e+00, 1.0239e-26, 3.4275e-16]], device='cuda:0',\n",
            "       grad_fn=<SoftmaxBackward>)]\n"
          ],
          "name": "stdout"
        }
      ]
    },
    {
      "cell_type": "code",
      "metadata": {
        "id": "Du5ejEjmks9e",
        "colab_type": "code",
        "colab": {
          "base_uri": "https://localhost:8080/",
          "height": 265
        },
        "outputId": "6c03c78a-024e-43f9-b1b2-c36dbaff1649"
      },
      "source": [
        "# Plot one sample of the batch\n",
        "imageTransposed = images[0].T\n",
        "\n",
        "img = np.array(imageTransposed, dtype='float')\n",
        "img = img.reshape((28, 28))\n",
        "\n",
        "plt.imshow(img, cmap='gray')\n",
        "plt.show()"
      ],
      "execution_count": 99,
      "outputs": [
        {
          "output_type": "display_data",
          "data": {
            "image/png": "[encoded data removed]",
            "text/plain": [
              "<Figure size 432x288 with 1 Axes>"
            ]
          },
          "metadata": {
            "tags": []
          }
        }
      ]
    },
    {
      "cell_type": "code",
      "metadata": {
        "id": "R3g4BiJLnsEb",
        "colab_type": "code",
        "colab": {}
      },
      "source": [
        "# Nro of Forward passes\n",
        "T = 20\n",
        "predictions = []\n"
      ],
      "execution_count": 0,
      "outputs": []
    },
    {
      "cell_type": "code",
      "metadata": {
        "id": "s4fMssKnprA2",
        "colab_type": "code",
        "colab": {}
      },
      "source": [
        "imageTransposed = imageTransposed.to(device)\n",
        "target = labels[0].to(device)"
      ],
      "execution_count": 0,
      "outputs": []
    },
    {
      "cell_type": "code",
      "metadata": {
        "id": "eYPqcza0fpDo",
        "colab_type": "code",
        "colab": {}
      },
      "source": [
        "for t in range(T):\n",
        "  # forward pass: compute predicted outputs by passing inputs to the model\n",
        "  output = F.softmax(model(imageTransposed), dim=1)\n",
        "  # append the prediction\n",
        "  predictions.append(output)"
      ],
      "execution_count": 0,
      "outputs": []
    },
    {
      "cell_type": "code",
      "metadata": {
        "id": "AE5gZGZDn7i1",
        "colab_type": "code",
        "colab": {
          "base_uri": "https://localhost:8080/",
          "height": 714
        },
        "outputId": "ce525002-2732-4faa-b06f-2fb8b8754a03"
      },
      "source": [
        "print(predictions)"
      ],
      "execution_count": 108,
      "outputs": [
        {
          "output_type": "stream",
          "text": [
            "[tensor([[2.7393e-18, 5.9559e-33, 3.8149e-21, 4.4421e-43, 2.8207e-26, 2.9970e-14,\n",
            "         9.9958e-01, 5.0447e-44, 4.2267e-04, 9.6269e-43]], device='cuda:0',\n",
            "       grad_fn=<SoftmaxBackward>), tensor([[1.4447e-19, 2.8026e-45, 8.8914e-28, 0.0000e+00, 4.5092e-41, 2.2313e-21,\n",
            "         1.0000e+00, 0.0000e+00, 1.8111e-08, 0.0000e+00]], device='cuda:0',\n",
            "       grad_fn=<SoftmaxBackward>), tensor([[1.2900e-21, 1.8357e-43, 3.0207e-27, 1.2766e-42, 4.7127e-30, 6.6590e-16,\n",
            "         1.0000e+00, 0.0000e+00, 1.3638e-07, 6.3764e-38]], device='cuda:0',\n",
            "       grad_fn=<SoftmaxBackward>), tensor([[5.3109e-26, 9.4384e-37, 1.1999e-28, 0.0000e+00, 2.4617e-38, 2.2837e-22,\n",
            "         9.9999e-01, 0.0000e+00, 1.1228e-05, 0.0000e+00]], device='cuda:0',\n",
            "       grad_fn=<SoftmaxBackward>), tensor([[9.7064e-23, 1.8906e-35, 1.2260e-26, 0.0000e+00, 3.2968e-32, 3.1077e-15,\n",
            "         3.0856e-02, 0.0000e+00, 9.6914e-01, 0.0000e+00]], device='cuda:0',\n",
            "       grad_fn=<SoftmaxBackward>), tensor([[5.4576e-21, 5.9874e-35, 9.2309e-31, 2.8026e-45, 4.3094e-33, 1.5903e-16,\n",
            "         5.5930e-03, 1.8217e-44, 9.9441e-01, 7.9874e-44]], device='cuda:0',\n",
            "       grad_fn=<SoftmaxBackward>), tensor([[1.0457e-20, 4.4916e-41, 3.1533e-34, 0.0000e+00, 1.3699e-39, 8.8770e-24,\n",
            "         1.0000e+00, 0.0000e+00, 3.0266e-12, 0.0000e+00]], device='cuda:0',\n",
            "       grad_fn=<SoftmaxBackward>), tensor([[4.7526e-29, 3.4752e-43, 1.3880e-29, 0.0000e+00, 1.6513e-39, 8.1222e-19,\n",
            "         1.0000e+00, 0.0000e+00, 3.1089e-06, 0.0000e+00]], device='cuda:0',\n",
            "       grad_fn=<SoftmaxBackward>), tensor([[1.4172e-18, 1.3060e-33, 3.5572e-25, 0.0000e+00, 6.0165e-36, 5.0351e-20,\n",
            "         9.9750e-01, 0.0000e+00, 2.4958e-03, 0.0000e+00]], device='cuda:0',\n",
            "       grad_fn=<SoftmaxBackward>), tensor([[1.7259e-24, 2.2141e-43, 6.8223e-32, 0.0000e+00, 1.5513e-36, 3.2188e-19,\n",
            "         1.0000e+00, 0.0000e+00, 1.7437e-08, 0.0000e+00]], device='cuda:0',\n",
            "       grad_fn=<SoftmaxBackward>), tensor([[1.2567e-21, 9.4442e-37, 2.9188e-28, 0.0000e+00, 1.3467e-36, 2.5477e-19,\n",
            "         9.9907e-01, 0.0000e+00, 9.3395e-04, 0.0000e+00]], device='cuda:0',\n",
            "       grad_fn=<SoftmaxBackward>), tensor([[2.0487e-17, 1.4498e-36, 3.5905e-19, 4.8299e-40, 1.0332e-32, 2.4978e-11,\n",
            "         7.8604e-02, 1.1771e-43, 9.2140e-01, 4.4029e-42]], device='cuda:0',\n",
            "       grad_fn=<SoftmaxBackward>), tensor([[2.2801e-22, 5.8024e-39, 1.3461e-26, 0.0000e+00, 6.1293e-39, 8.3584e-19,\n",
            "         9.9997e-01, 0.0000e+00, 2.5740e-05, 0.0000e+00]], device='cuda:0',\n",
            "       grad_fn=<SoftmaxBackward>), tensor([[1.4461e-27, 8.3541e-41, 3.5036e-30, 0.0000e+00, 2.3784e-36, 5.5172e-27,\n",
            "         1.0000e+00, 0.0000e+00, 2.3656e-12, 0.0000e+00]], device='cuda:0',\n",
            "       grad_fn=<SoftmaxBackward>), tensor([[2.7082e-25, 1.4013e-45, 2.0299e-31, 0.0000e+00, 2.2762e-39, 6.3092e-26,\n",
            "         1.0000e+00, 0.0000e+00, 9.0053e-11, 0.0000e+00]], device='cuda:0',\n",
            "       grad_fn=<SoftmaxBackward>), tensor([[4.8264e-23, 5.5166e-41, 1.0610e-31, 0.0000e+00, 2.2891e-37, 1.3564e-21,\n",
            "         1.0000e+00, 0.0000e+00, 1.9264e-06, 0.0000e+00]], device='cuda:0',\n",
            "       grad_fn=<SoftmaxBackward>), tensor([[7.9525e-20, 8.8213e-40, 1.0562e-27, 7.9874e-44, 1.3086e-37, 4.5830e-20,\n",
            "         1.0000e+00, 0.0000e+00, 2.1977e-08, 0.0000e+00]], device='cuda:0',\n",
            "       grad_fn=<SoftmaxBackward>), tensor([[4.4872e-23, 2.1440e-42, 5.1999e-33, 0.0000e+00, 1.1643e-39, 3.5941e-14,\n",
            "         1.0000e+00, 0.0000e+00, 9.6623e-07, 0.0000e+00]], device='cuda:0',\n",
            "       grad_fn=<SoftmaxBackward>), tensor([[5.3576e-23, 5.6052e-45, 5.4185e-34, 0.0000e+00, 8.4170e-41, 4.3066e-22,\n",
            "         1.0000e+00, 0.0000e+00, 3.2655e-12, 0.0000e+00]], device='cuda:0',\n",
            "       grad_fn=<SoftmaxBackward>), tensor([[1.7299e-16, 1.2330e-30, 5.6690e-22, 3.8676e-42, 4.6102e-29, 1.3766e-18,\n",
            "         9.9980e-01, 6.0213e-40, 2.0017e-04, 4.2039e-45]], device='cuda:0',\n",
            "       grad_fn=<SoftmaxBackward>)]\n"
          ],
          "name": "stdout"
        }
      ]
    },
    {
      "cell_type": "code",
      "metadata": {
        "id": "BezwliH_pzrG",
        "colab_type": "code",
        "colab": {}
      },
      "source": [
        ""
      ],
      "execution_count": 0,
      "outputs": []
    }
  ]
}