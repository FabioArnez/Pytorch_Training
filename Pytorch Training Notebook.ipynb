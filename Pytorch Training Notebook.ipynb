{
 "cells": [
  {
   "cell_type": "markdown",
   "metadata": {
    "colab_type": "text",
    "id": "view-in-github"
   },
   "source": [
    "<a href=\"https://colab.research.google.com/github/FabioArnez/Pytorch_Training/blob/master/Pytorch%20Training%20Notebook.ipynb\" target=\"_parent\"><img src=\"https://colab.research.google.com/assets/colab-badge.svg\" alt=\"Open In Colab\"/></a>"
   ]
  },
  {
   "cell_type": "markdown",
   "metadata": {
    "colab_type": "text",
    "id": "8n_I4QKbSdwR"
   },
   "source": [
    "# Pytorch Training Notebook"
   ]
  },
  {
   "cell_type": "markdown",
   "metadata": {
    "colab_type": "text",
    "id": "XP6wxI_SSdwT"
   },
   "source": [
    "## MNIST Example\n",
    "\n",
    "- Image size 28x28 pixels $\\rightarrow$ 784"
   ]
  },
  {
   "cell_type": "markdown",
   "metadata": {
    "colab_type": "text",
    "id": "eH5yNIrQSdwT"
   },
   "source": [
    "### Fully Connected MLP Network"
   ]
  },
  {
   "cell_type": "markdown",
   "metadata": {
    "colab_type": "text",
    "id": "aU0Us_7HSdwU"
   },
   "source": [
    "Import Torch Libraries"
   ]
  },
  {
   "cell_type": "code",
   "execution_count": 1,
   "metadata": {
    "colab": {},
    "colab_type": "code",
    "id": "KYxrRJl1SdwV"
   },
   "outputs": [],
   "source": [
    "import torch\n",
    "import torch.nn as nn\n",
    "import torchvision\n",
    "import torchvision.transforms as transforms\n",
    "import matplotlib.pyplot as plt"
   ]
  },
  {
   "cell_type": "markdown",
   "metadata": {
    "colab_type": "text",
    "id": "RbQ7gxH-SdwX"
   },
   "source": [
    "Check if CPU | GPU will be used"
   ]
  },
  {
   "cell_type": "code",
   "execution_count": null,
   "metadata": {
    "colab": {
     "base_uri": "https://localhost:8080/",
     "height": 34
    },
    "colab_type": "code",
    "id": "Uz1QBgSlSdwY",
    "outputId": "19f5a59c-890a-499c-9cd5-9020edd672b8"
   },
   "outputs": [
    {
     "name": "stdout",
     "output_type": "stream",
     "text": [
      "CPU will be used for training/testing\n"
     ]
    }
   ],
   "source": [
    "# Device configuration\n",
    "device = torch.device('cuda' if torch.cuda.is_available() else 'cpu')\n",
    "\n",
    "if device == \"cuda\":\n",
    "    device_name = \"CUDA\"\n",
    "else:\n",
    "    device_name = \"CPU\"\n",
    "\n",
    "print(\"% s will be used for training/testing\" % device_name)"
   ]
  },
  {
   "cell_type": "markdown",
   "metadata": {
    "colab_type": "text",
    "id": "2yKV3eAaSdwa"
   },
   "source": [
    "Define network Hyperparameters"
   ]
  },
  {
   "cell_type": "code",
   "execution_count": null,
   "metadata": {
    "colab": {},
    "colab_type": "code",
    "id": "ARCuqbjXSdwb"
   },
   "outputs": [],
   "source": [
    "# neural net input size\n",
    "input_size = 784\n",
    "hidden_size = 500\n",
    "num_classes = 10\n",
    "num_epochs = 10\n",
    "batch_size = 100\n",
    "learning_rate = 0.001"
   ]
  },
  {
   "cell_type": "markdown",
   "metadata": {
    "colab_type": "text",
    "id": "hR9EyEheSdwd"
   },
   "source": [
    "Load MNIST Dataset"
   ]
  },
  {
   "cell_type": "code",
   "execution_count": null,
   "metadata": {
    "colab": {},
    "colab_type": "code",
    "id": "iZR7iXJmSdwd",
    "outputId": "b8e8c3fd-eb3c-431b-e07a-341b67e827c6"
   },
   "outputs": [
    {
     "name": "stderr",
     "output_type": "stream",
     "text": [
      "0it [00:00, ?it/s]"
     ]
    },
    {
     "name": "stdout",
     "output_type": "stream",
     "text": [
      "Downloading http://yann.lecun.com/exdb/mnist/train-images-idx3-ubyte.gz to ../data/MNIST/raw/train-images-idx3-ubyte.gz\n"
     ]
    },
    {
     "name": "stderr",
     "output_type": "stream",
     "text": [
      "9920512it [01:53, 117600.48it/s]                             "
     ]
    },
    {
     "name": "stdout",
     "output_type": "stream",
     "text": [
      "Extracting ../data/MNIST/raw/train-images-idx3-ubyte.gz to ../data/MNIST/raw\n"
     ]
    },
    {
     "name": "stderr",
     "output_type": "stream",
     "text": [
      "\n",
      "0it [00:00, ?it/s]\u001b[A"
     ]
    },
    {
     "name": "stdout",
     "output_type": "stream",
     "text": [
      "Downloading http://yann.lecun.com/exdb/mnist/train-labels-idx1-ubyte.gz to ../data/MNIST/raw/train-labels-idx1-ubyte.gz\n"
     ]
    },
    {
     "name": "stderr",
     "output_type": "stream",
     "text": [
      "\n",
      "  0%|          | 0/28881 [00:00<?, ?it/s]\u001b[A\n",
      " 57%|█████▋    | 16384/28881 [00:00<00:00, 121461.00it/s]\u001b[A\n",
      "32768it [00:00, 123658.37it/s]                           \u001b[A\n",
      "0it [00:00, ?it/s]\u001b[A"
     ]
    },
    {
     "name": "stdout",
     "output_type": "stream",
     "text": [
      "Extracting ../data/MNIST/raw/train-labels-idx1-ubyte.gz to ../data/MNIST/raw\n",
      "Downloading http://yann.lecun.com/exdb/mnist/t10k-images-idx3-ubyte.gz to ../data/MNIST/raw/t10k-images-idx3-ubyte.gz\n"
     ]
    },
    {
     "name": "stderr",
     "output_type": "stream",
     "text": [
      "\n",
      "  0%|          | 0/1648877 [00:00<?, ?it/s]\u001b[A\n",
      "  1%|          | 16384/1648877 [00:00<00:17, 91185.36it/s]\u001b[A\n",
      "  2%|▏         | 32768/1648877 [00:00<00:16, 97613.84it/s]\u001b[A\n",
      "  3%|▎         | 49152/1648877 [00:00<00:15, 104556.86it/s]\u001b[A\n",
      "  4%|▍         | 65536/1648877 [00:00<00:14, 110437.51it/s]\u001b[A\n",
      "  5%|▍         | 81920/1648877 [00:00<00:13, 117243.89it/s]\u001b[A\n",
      "  6%|▌         | 98304/1648877 [00:01<00:12, 122281.57it/s]\u001b[A\n",
      "  7%|▋         | 114688/1648877 [00:01<00:12, 121808.08it/s]\u001b[A\n",
      "  8%|▊         | 131072/1648877 [00:01<00:12, 121007.53it/s]\u001b[A\n",
      "  9%|▉         | 147456/1648877 [00:01<00:11, 125252.96it/s]\u001b[A\n",
      " 10%|█         | 172032/1648877 [00:01<00:11, 130689.20it/s]\u001b[A\n",
      " 12%|█▏        | 196608/1648877 [00:01<00:10, 145142.30it/s]\u001b[A\n",
      " 13%|█▎        | 212992/1648877 [00:01<00:09, 149607.05it/s]\u001b[A\n",
      " 14%|█▍        | 237568/1648877 [00:02<00:08, 162512.02it/s]\u001b[A\n",
      " 16%|█▌        | 262144/1648877 [00:02<00:14, 96120.21it/s] \u001b[A\n",
      " 17%|█▋        | 286720/1648877 [00:02<00:12, 106886.37it/s]\u001b[A\n",
      " 18%|█▊        | 303104/1648877 [00:02<00:11, 116533.95it/s]\u001b[A\n",
      " 19%|█▉        | 319488/1648877 [00:03<00:15, 87136.50it/s] \u001b[A\n",
      " 21%|██        | 344064/1648877 [00:03<00:14, 88221.49it/s]\u001b[A\n",
      " 22%|██▏       | 360448/1648877 [00:03<00:15, 84905.16it/s]\u001b[A\n",
      " 23%|██▎       | 376832/1648877 [00:03<00:16, 79159.02it/s]\u001b[A\n",
      " 24%|██▍       | 393216/1648877 [00:03<00:15, 83585.18it/s]\u001b[A\n",
      " 25%|██▍       | 409600/1648877 [00:04<00:13, 91277.08it/s]\u001b[A\n",
      " 26%|██▌       | 425984/1648877 [00:04<00:14, 85002.31it/s]\u001b[A\n",
      " 27%|██▋       | 442368/1648877 [00:04<00:14, 80861.96it/s]\u001b[A\n",
      " 28%|██▊       | 458752/1648877 [00:04<00:15, 78807.36it/s]\u001b[A\n",
      " 29%|██▉       | 475136/1648877 [00:04<00:13, 87338.20it/s]\u001b[A\n",
      " 30%|██▉       | 491520/1648877 [00:05<00:12, 90963.38it/s]\u001b[A\n",
      " 31%|███       | 507904/1648877 [00:05<00:11, 96294.92it/s]\u001b[A\n",
      " 32%|███▏      | 524288/1648877 [00:05<00:11, 101575.28it/s]\u001b[A\n",
      " 33%|███▎      | 540672/1648877 [00:05<00:10, 103883.98it/s]\u001b[A\n",
      " 34%|███▍      | 557056/1648877 [00:05<00:09, 110633.19it/s]\u001b[A\n",
      " 35%|███▍      | 573440/1648877 [00:05<00:09, 118794.51it/s]\u001b[A\n",
      " 36%|███▌      | 589824/1648877 [00:05<00:08, 120681.32it/s]\u001b[A\n",
      " 37%|███▋      | 606208/1648877 [00:06<00:10, 99951.13it/s] \u001b[A\n",
      " 38%|███▊      | 622592/1648877 [00:06<00:10, 97276.05it/s]\u001b[A\n",
      " 39%|███▉      | 638976/1648877 [00:06<00:09, 106235.43it/s]\u001b[A\n",
      " 40%|███▉      | 655360/1648877 [00:06<00:11, 87195.94it/s] \u001b[A\n",
      " 41%|████      | 671744/1648877 [00:06<00:12, 80137.03it/s]\u001b[A\n",
      " 42%|████▏     | 688128/1648877 [00:07<00:12, 79462.49it/s]\u001b[A\n",
      " 43%|████▎     | 704512/1648877 [00:07<00:10, 86601.10it/s]\u001b[A\n",
      " 44%|████▎     | 720896/1648877 [00:07<00:10, 89329.89it/s]\u001b[A\n",
      " 45%|████▍     | 737280/1648877 [00:07<00:10, 88366.21it/s]\u001b[A\n",
      " 46%|████▌     | 753664/1648877 [00:07<00:09, 92354.76it/s]\u001b[A\n",
      " 47%|████▋     | 770048/1648877 [00:07<00:09, 92698.81it/s]\u001b[A\n",
      " 48%|████▊     | 786432/1648877 [00:08<00:08, 101356.41it/s]\u001b[A\n",
      " 49%|████▊     | 802816/1648877 [00:08<00:07, 109977.51it/s]\u001b[A\n",
      " 50%|████▉     | 819200/1648877 [00:08<00:06, 118613.67it/s]\u001b[A\n",
      " 51%|█████     | 835584/1648877 [00:08<00:09, 88045.26it/s] \u001b[A\n",
      " 52%|█████▏    | 860160/1648877 [00:08<00:08, 96413.75it/s]\u001b[A\n",
      " 53%|█████▎    | 876544/1648877 [00:08<00:07, 101405.05it/s]\u001b[A\n",
      " 54%|█████▍    | 892928/1648877 [00:09<00:09, 76266.19it/s] \u001b[A\n",
      " 56%|█████▌    | 917504/1648877 [00:09<00:07, 91834.15it/s]\u001b[A\n",
      " 57%|█████▋    | 933888/1648877 [00:09<00:08, 88306.53it/s]\u001b[A\n",
      " 58%|█████▊    | 950272/1648877 [00:09<00:07, 92462.74it/s]\u001b[A\n",
      " 59%|█████▊    | 966656/1648877 [00:10<00:07, 93510.93it/s]\u001b[A\n",
      " 60%|█████▉    | 983040/1648877 [00:10<00:06, 97979.05it/s]\u001b[A\n",
      " 61%|██████    | 999424/1648877 [00:10<00:08, 76593.36it/s]\u001b[A\n",
      " 62%|██████▏   | 1015808/1648877 [00:10<00:07, 80890.96it/s]\u001b[A\n",
      " 63%|██████▎   | 1032192/1648877 [00:10<00:08, 72084.23it/s]\u001b[A\n",
      " 63%|██████▎   | 1040384/1648877 [00:11<00:23, 26345.27it/s]\u001b[A\n",
      " 64%|██████▎   | 1048576/1648877 [00:11<00:19, 30519.50it/s]\u001b[A\n",
      " 65%|██████▍   | 1064960/1648877 [00:12<00:15, 38010.16it/s]\u001b[A\n",
      " 66%|██████▌   | 1081344/1648877 [00:12<00:12, 46306.73it/s]\u001b[A\n",
      " 66%|██████▌   | 1089536/1648877 [00:12<00:12, 45759.22it/s]\u001b[A\n",
      " 67%|██████▋   | 1105920/1648877 [00:12<00:09, 56266.77it/s]\u001b[A\n",
      " 68%|██████▊   | 1122304/1648877 [00:12<00:08, 63737.02it/s]\u001b[A\n",
      " 69%|██████▉   | 1138688/1648877 [00:12<00:07, 69254.24it/s]\u001b[A\n",
      " 70%|███████   | 1155072/1648877 [00:13<00:06, 75588.74it/s]\u001b[A\n",
      " 71%|███████   | 1171456/1648877 [00:13<00:05, 80037.65it/s]\u001b[A\n",
      " 72%|███████▏  | 1187840/1648877 [00:13<00:05, 83010.26it/s]\u001b[A\n",
      " 73%|███████▎  | 1204224/1648877 [00:13<00:04, 89617.39it/s]\u001b[A\n",
      " 74%|███████▍  | 1220608/1648877 [00:13<00:04, 89030.22it/s]\u001b[A\n",
      " 75%|███████▌  | 1236992/1648877 [00:13<00:04, 90873.62it/s]\u001b[A\n",
      " 76%|███████▌  | 1253376/1648877 [00:14<00:04, 91297.07it/s]\u001b[A\n",
      " 78%|███████▊  | 1277952/1648877 [00:14<00:03, 101590.40it/s]\u001b[A\n",
      " 78%|███████▊  | 1294336/1648877 [00:14<00:03, 98441.11it/s] \u001b[A\n",
      " 79%|███████▉  | 1310720/1648877 [00:14<00:03, 106525.31it/s]\u001b[A\n",
      " 81%|████████  | 1335296/1648877 [00:14<00:02, 120853.88it/s]\u001b[A\n",
      " 82%|████████▏ | 1359872/1648877 [00:14<00:02, 128924.15it/s]\u001b[A\n",
      " 84%|████████▍ | 1384448/1648877 [00:15<00:01, 137743.26it/s]\u001b[A\n",
      " 85%|████████▌ | 1409024/1648877 [00:15<00:01, 149958.98it/s]\u001b[A\n",
      "9920512it [02:10, 117600.48it/s] [00:15<00:01, 160050.65it/s]\u001b[A\n",
      " 88%|████████▊ | 1458176/1648877 [00:15<00:01, 171100.87it/s]\u001b[A\n",
      " 90%|████████▉ | 1482752/1648877 [00:15<00:00, 180098.36it/s]\u001b[A\n",
      " 91%|█████████▏| 1507328/1648877 [00:15<00:01, 120619.64it/s]\u001b[A\n",
      " 92%|█████████▏| 1523712/1648877 [00:16<00:01, 103642.41it/s]\u001b[A\n",
      " 93%|█████████▎| 1540096/1648877 [00:16<00:00, 109645.89it/s]\u001b[A\n",
      " 94%|█████████▍| 1556480/1648877 [00:16<00:00, 101425.65it/s]\u001b[A\n",
      " 95%|█████████▌| 1572864/1648877 [00:16<00:00, 112115.25it/s]\u001b[A\n",
      " 96%|█████████▋| 1589248/1648877 [00:16<00:00, 95606.32it/s] \u001b[A\n",
      " 97%|█████████▋| 1605632/1648877 [00:17<00:00, 89364.80it/s]\u001b[A\n",
      " 98%|█████████▊| 1622016/1648877 [00:17<00:00, 87184.95it/s]\u001b[A\n",
      " 99%|█████████▉| 1638400/1648877 [00:17<00:00, 84802.61it/s]\u001b[A\n",
      "1654784it [00:17, 94928.22it/s]                             \u001b[A\n",
      "\n",
      "0it [00:00, ?it/s]\u001b[A\u001b[A"
     ]
    },
    {
     "name": "stdout",
     "output_type": "stream",
     "text": [
      "Extracting ../data/MNIST/raw/t10k-images-idx3-ubyte.gz to ../data/MNIST/raw\n",
      "Downloading http://yann.lecun.com/exdb/mnist/t10k-labels-idx1-ubyte.gz to ../data/MNIST/raw/t10k-labels-idx1-ubyte.gz\n"
     ]
    },
    {
     "name": "stderr",
     "output_type": "stream",
     "text": [
      "\n",
      "\n",
      "  0%|          | 0/4542 [00:00<?, ?it/s]\u001b[A\u001b[A\n",
      "\n",
      "8192it [00:00, 31450.96it/s]            \u001b[A\u001b[A"
     ]
    },
    {
     "name": "stdout",
     "output_type": "stream",
     "text": [
      "Extracting ../data/MNIST/raw/t10k-labels-idx1-ubyte.gz to ../data/MNIST/raw\n",
      "Processing...\n",
      "Done!\n"
     ]
    }
   ],
   "source": [
    "train_dataset = torchvision.datasets.MNIST(root='../data',\n",
    "                                           train=True,\n",
    "                                           transform= transforms.ToTensor(),\n",
    "                                           download=True)\n",
    "\n",
    "\n",
    "test_dataset = torchvision.datasets.MNIST(root='../data',\n",
    "                                          train=False,\n",
    "                                          transform=transforms.ToTensor())"
   ]
  },
  {
   "cell_type": "markdown",
   "metadata": {
    "colab_type": "text",
    "id": "TFTiFRYNSdwf"
   },
   "source": [
    "Data Loader"
   ]
  },
  {
   "cell_type": "code",
   "execution_count": null,
   "metadata": {
    "colab": {},
    "colab_type": "code",
    "id": "fjSFMUYhSdwf"
   },
   "outputs": [],
   "source": [
    "train_loader = torch.utils.data.DataLoader(dataset=train_dataset,\n",
    "                                           batch_size=batch_size,\n",
    "                                           shuffle=True)\n",
    "\n",
    "test_loader = torch.utils.data.DataLoader(dataset=test_dataset,\n",
    "                                          batch_size=batch_size,\n",
    "                                          shuffle=False)"
   ]
  },
  {
   "cell_type": "markdown",
   "metadata": {
    "colab_type": "text",
    "id": "ItjB6HpZSdwh"
   },
   "source": [
    "Build the nueral network"
   ]
  },
  {
   "cell_type": "code",
   "execution_count": null,
   "metadata": {
    "colab": {},
    "colab_type": "code",
    "id": "DHIgWbIiSdwi"
   },
   "outputs": [],
   "source": [
    "class FcnNeuralNet(nn.Module):\n",
    "    def __init__(self, input_size, hidden_size, num_classes):\n",
    "        super().__init__()\n",
    "        self.fc1 = nn.Linear(input_size, hidden_size)\n",
    "        self.relu = nn.ReLU()\n",
    "        self.fc2 = nn.Linear(hidden_size, num_classes)\n",
    "        \n",
    "    def forward(self, x):\n",
    "        out = self.fc1(x)\n",
    "        out = self.relu(out)\n",
    "        out = self.fc2(out)\n",
    "        return out"
   ]
  },
  {
   "cell_type": "code",
   "execution_count": null,
   "metadata": {
    "colab": {},
    "colab_type": "code",
    "id": "q9hJh4bRSdwj"
   },
   "outputs": [],
   "source": [
    "neuralNet_model = FcnNeuralNet(input_size, hidden_size, num_classes).to(device)"
   ]
  },
  {
   "cell_type": "markdown",
   "metadata": {
    "colab_type": "text",
    "id": "83T315HDSdwl"
   },
   "source": [
    "Loss Optimizer"
   ]
  },
  {
   "cell_type": "code",
   "execution_count": null,
   "metadata": {
    "colab": {},
    "colab_type": "code",
    "id": "L8iZKFWBSdwm"
   },
   "outputs": [],
   "source": [
    "criterion = nn.CrossEntropyLoss()\n",
    "optimizer = torch.optim.Adam(neuralNet_model.parameters(), lr=learning_rate)"
   ]
  },
  {
   "cell_type": "markdown",
   "metadata": {
    "colab_type": "text",
    "id": "WL1HISSTSdwn"
   },
   "source": [
    "Model Training"
   ]
  },
  {
   "cell_type": "code",
   "execution_count": null,
   "metadata": {
    "colab": {},
    "colab_type": "code",
    "id": "NwNfvWkrSdwo",
    "outputId": "277d07f9-65c1-4f6c-d7c7-829f843ac382"
   },
   "outputs": [
    {
     "name": "stdout",
     "output_type": "stream",
     "text": [
      "Epoch [1/10], Step[100/600], Loss:0.0025\n",
      "Epoch [1/10], Step[200/600], Loss:0.0047\n",
      "Epoch [1/10], Step[300/600], Loss:0.0019\n",
      "Epoch [1/10], Step[400/600], Loss:0.0049\n",
      "Epoch [1/10], Step[500/600], Loss:0.0029\n",
      "Epoch [1/10], Step[600/600], Loss:0.0027\n",
      "Epoch [2/10], Step[100/600], Loss:0.0036\n",
      "Epoch [2/10], Step[200/600], Loss:0.0018\n",
      "Epoch [2/10], Step[300/600], Loss:0.0018\n",
      "Epoch [2/10], Step[400/600], Loss:0.0111\n",
      "Epoch [2/10], Step[500/600], Loss:0.0015\n",
      "Epoch [2/10], Step[600/600], Loss:0.0111\n",
      "Epoch [3/10], Step[100/600], Loss:0.0112\n",
      "Epoch [3/10], Step[200/600], Loss:0.0020\n",
      "Epoch [3/10], Step[300/600], Loss:0.0044\n",
      "Epoch [3/10], Step[400/600], Loss:0.0028\n",
      "Epoch [3/10], Step[500/600], Loss:0.0375\n",
      "Epoch [3/10], Step[600/600], Loss:0.0010\n",
      "Epoch [4/10], Step[100/600], Loss:0.0075\n",
      "Epoch [4/10], Step[200/600], Loss:0.0013\n",
      "Epoch [4/10], Step[300/600], Loss:0.0019\n",
      "Epoch [4/10], Step[400/600], Loss:0.0003\n",
      "Epoch [4/10], Step[500/600], Loss:0.0030\n",
      "Epoch [4/10], Step[600/600], Loss:0.0036\n",
      "Epoch [5/10], Step[100/600], Loss:0.0022\n",
      "Epoch [5/10], Step[200/600], Loss:0.0028\n",
      "Epoch [5/10], Step[300/600], Loss:0.0120\n",
      "Epoch [5/10], Step[400/600], Loss:0.0018\n",
      "Epoch [5/10], Step[500/600], Loss:0.0041\n",
      "Epoch [5/10], Step[600/600], Loss:0.0013\n",
      "Epoch [6/10], Step[100/600], Loss:0.0004\n",
      "Epoch [6/10], Step[200/600], Loss:0.0032\n",
      "Epoch [6/10], Step[300/600], Loss:0.0010\n",
      "Epoch [6/10], Step[400/600], Loss:0.0003\n",
      "Epoch [6/10], Step[500/600], Loss:0.0081\n",
      "Epoch [6/10], Step[600/600], Loss:0.0042\n",
      "Epoch [7/10], Step[100/600], Loss:0.0004\n",
      "Epoch [7/10], Step[200/600], Loss:0.0012\n",
      "Epoch [7/10], Step[300/600], Loss:0.0004\n",
      "Epoch [7/10], Step[400/600], Loss:0.0003\n",
      "Epoch [7/10], Step[500/600], Loss:0.0014\n",
      "Epoch [7/10], Step[600/600], Loss:0.0003\n",
      "Epoch [8/10], Step[100/600], Loss:0.0010\n",
      "Epoch [8/10], Step[200/600], Loss:0.0054\n",
      "Epoch [8/10], Step[300/600], Loss:0.0015\n",
      "Epoch [8/10], Step[400/600], Loss:0.0128\n",
      "Epoch [8/10], Step[500/600], Loss:0.0013\n",
      "Epoch [8/10], Step[600/600], Loss:0.0007\n",
      "Epoch [9/10], Step[100/600], Loss:0.0004\n",
      "Epoch [9/10], Step[200/600], Loss:0.0009\n",
      "Epoch [9/10], Step[300/600], Loss:0.0246\n",
      "Epoch [9/10], Step[400/600], Loss:0.0006\n",
      "Epoch [9/10], Step[500/600], Loss:0.0012\n",
      "Epoch [9/10], Step[600/600], Loss:0.0002\n",
      "Epoch [10/10], Step[100/600], Loss:0.0002\n",
      "Epoch [10/10], Step[200/600], Loss:0.0001\n",
      "Epoch [10/10], Step[300/600], Loss:0.0007\n",
      "Epoch [10/10], Step[400/600], Loss:0.0012\n",
      "Epoch [10/10], Step[500/600], Loss:0.0002\n",
      "Epoch [10/10], Step[600/600], Loss:0.0001\n"
     ]
    }
   ],
   "source": [
    "total_step = len(train_loader)\n",
    "\n",
    "for epoch in range(num_epochs):\n",
    "    for i, (images, labels) in enumerate(train_loader):\n",
    "        # Move tensors to the configured device\n",
    "        images =  images.reshape(-1, 28*28).to(device)\n",
    "        labels = labels.to(device)\n",
    "\n",
    "        # Forward pass\n",
    "        outputs = neuralNet_model(images)\n",
    "        loss = criterion(outputs, labels)\n",
    "\n",
    "        # Backward pass\n",
    "        optimizer.zero_grad()\n",
    "        loss.backward()\n",
    "        optimizer.step()\n",
    "\n",
    "        if (i+1) % 100 == 0:\n",
    "            print('Epoch [{}/{}], Step[{}/{}], Loss:{:.4f}'\n",
    "                  .format(epoch+1, num_epochs, i+1, total_step, loss.item()))\n",
    "        \n"
   ]
  },
  {
   "cell_type": "code",
   "execution_count": null,
   "metadata": {
    "colab": {},
    "colab_type": "code",
    "id": "p5CUkAokSdwq",
    "outputId": "c7c7a3b0-306c-4a60-f129-37f044f46011"
   },
   "outputs": [
    {
     "name": "stdout",
     "output_type": "stream",
     "text": [
      "Accuracy of the network on the 10000 test images: 98.17 %\n"
     ]
    }
   ],
   "source": [
    "with torch.no_grad():\n",
    "    correct = 0\n",
    "    total = 0\n",
    "    for images, labels in test_loader:\n",
    "        images = images.reshape(-1, 28*28).to(device)\n",
    "        labels = labels.to(device)\n",
    "        outputs = neuralNet_model(images)\n",
    "        _, predicted = torch.max(outputs.data, 1)\n",
    "        total += labels.size(0)\n",
    "        correct += (predicted == labels).sum().item()\n",
    "\n",
    "    print('Accuracy of the network on the 10000 test images: {} %'.format(100 * correct / total))\n"
   ]
  },
  {
   "cell_type": "code",
   "execution_count": null,
   "metadata": {
    "colab": {},
    "colab_type": "code",
    "id": "TtW3aet7Sdwr",
    "outputId": "fa7bc28d-681a-4b61-d7cf-11b11cdce1a7"
   },
   "outputs": [
    {
     "name": "stdout",
     "output_type": "stream",
     "text": [
      "<class '__main__.FcnNeuralNet'>\n"
     ]
    }
   ],
   "source": [
    "print(FcnNeuralNet)"
   ]
  },
  {
   "cell_type": "markdown",
   "metadata": {
    "colab_type": "text",
    "id": "KFZhj98gSdwt"
   },
   "source": [
    "### Fully Connected MLP with Dropout"
   ]
  },
  {
   "cell_type": "code",
   "execution_count": 3,
   "metadata": {
    "colab": {
     "base_uri": "https://localhost:8080/",
     "height": 343
    },
    "colab_type": "code",
    "id": "mfxb6_tBTe_u",
    "outputId": "68a2ed76-0fab-4f79-ac73-7deccc5fa77e"
   },
   "outputs": [
    {
     "name": "stdout",
     "output_type": "stream",
     "text": [
      "Looking in links: https://download.pytorch.org/whl/torch_stable.html\n",
      "Collecting torch==1.4.0+cu92\n",
      "\u001b[?25l  Downloading https://download.pytorch.org/whl/cu92/torch-1.4.0%2Bcu92-cp36-cp36m-linux_x86_64.whl (640.5MB)\n",
      "\u001b[K     |████████████████████████████████| 640.6MB 29kB/s \n",
      "\u001b[?25hCollecting torchvision==0.5.0+cu92\n",
      "\u001b[?25l  Downloading https://download.pytorch.org/whl/cu92/torchvision-0.5.0%2Bcu92-cp36-cp36m-linux_x86_64.whl (3.9MB)\n",
      "\u001b[K     |████████████████████████████████| 4.0MB 929kB/s \n",
      "\u001b[?25hRequirement already satisfied: pillow>=4.1.1 in /usr/local/lib/python3.6/dist-packages (from torchvision==0.5.0+cu92) (6.2.2)\n",
      "Requirement already satisfied: six in /usr/local/lib/python3.6/dist-packages (from torchvision==0.5.0+cu92) (1.12.0)\n",
      "Requirement already satisfied: numpy in /usr/local/lib/python3.6/dist-packages (from torchvision==0.5.0+cu92) (1.17.5)\n",
      "Installing collected packages: torch, torchvision\n",
      "  Found existing installation: torch 1.2.0+cu92\n",
      "    Uninstalling torch-1.2.0+cu92:\n",
      "      Successfully uninstalled torch-1.2.0+cu92\n",
      "  Found existing installation: torchvision 0.4.0+cu92\n",
      "    Uninstalling torchvision-0.4.0+cu92:\n",
      "      Successfully uninstalled torchvision-0.4.0+cu92\n",
      "Successfully installed torch-1.4.0+cu92 torchvision-0.5.0+cu92\n"
     ]
    }
   ],
   "source": [
    "!pip3 install torch==1.4.0+cu92 torchvision==0.5.0+cu92 -f https://download.pytorch.org/whl/torch_stable.html"
   ]
  },
  {
   "cell_type": "code",
   "execution_count": 2,
   "metadata": {
    "colab": {},
    "colab_type": "code",
    "id": "XmLGWoJaSdwu"
   },
   "outputs": [],
   "source": [
    "import torch\n",
    "import torch.nn as nn\n",
    "import torch.nn.functional as F\n",
    "import torchvision\n",
    "import torchvision.transforms as transforms\n",
    "import matplotlib.pyplot as plt\n",
    "import numpy as np\n",
    "from torch.utils.data.sampler import SubsetRandomSampler"
   ]
  },
  {
   "cell_type": "code",
   "execution_count": 3,
   "metadata": {
    "colab": {
     "base_uri": "https://localhost:8080/",
     "height": 34
    },
    "colab_type": "code",
    "id": "HS49BoleUXwl",
    "outputId": "4bb6041c-ca5c-4665-f47f-7d6b29e5a927"
   },
   "outputs": [
    {
     "data": {
      "text/plain": [
       "'GeForce RTX 2080'"
      ]
     },
     "execution_count": 3,
     "metadata": {},
     "output_type": "execute_result"
    }
   ],
   "source": [
    "torch.cuda.get_device_name(0)"
   ]
  },
  {
   "cell_type": "code",
   "execution_count": 4,
   "metadata": {
    "colab": {
     "base_uri": "https://localhost:8080/",
     "height": 34
    },
    "colab_type": "code",
    "id": "fXpwQ_MFUdhz",
    "outputId": "6769328e-831d-44b9-c4cc-d1034f3383f9"
   },
   "outputs": [
    {
     "data": {
      "text/plain": [
       "True"
      ]
     },
     "execution_count": 4,
     "metadata": {},
     "output_type": "execute_result"
    }
   ],
   "source": [
    "torch.cuda.is_available()"
   ]
  },
  {
   "cell_type": "code",
   "execution_count": 5,
   "metadata": {
    "colab": {
     "base_uri": "https://localhost:8080/",
     "height": 34
    },
    "colab_type": "code",
    "id": "sUdXPR4STgGP",
    "outputId": "4f85b9ba-a56f-425f-e68f-1385690310a1"
   },
   "outputs": [
    {
     "name": "stdout",
     "output_type": "stream",
     "text": [
      "cuda will be used for training/testing\n"
     ]
    }
   ],
   "source": [
    "# Device configuration\n",
    "device = torch.device('cuda' if torch.cuda.is_available() else 'cpu')\n",
    "\n",
    "print(\"% s will be used for training/testing\" % device)"
   ]
  },
  {
   "cell_type": "code",
   "execution_count": 6,
   "metadata": {
    "colab": {},
    "colab_type": "code",
    "id": "poO9-LfKSdww"
   },
   "outputs": [],
   "source": [
    "# neural net input size\n",
    "input_size = 784\n",
    "hidden_size = 500\n",
    "num_classes = 10\n",
    "num_epochs = 10\n",
    "learning_rate = 0.001\n",
    "\n",
    "# number of subprocesses to use for data loading\n",
    "num_workers = 0\n",
    "# how many samples per batch to load\n",
    "batch_size = 20\n",
    "# percentage of training set to use as validation\n",
    "valid_size = 0.2\n"
   ]
  },
  {
   "cell_type": "code",
   "execution_count": 7,
   "metadata": {
    "colab": {},
    "colab_type": "code",
    "id": "gFod3B2HSdwx"
   },
   "outputs": [
    {
     "name": "stdout",
     "output_type": "stream",
     "text": [
      "Downloading http://yann.lecun.com/exdb/mnist/train-images-idx3-ubyte.gz to ../data/MNIST/raw/train-images-idx3-ubyte.gz\n"
     ]
    },
    {
     "name": "stderr",
     "output_type": "stream",
     "text": [
      "100.1%"
     ]
    },
    {
     "name": "stdout",
     "output_type": "stream",
     "text": [
      "Extracting ../data/MNIST/raw/train-images-idx3-ubyte.gz to ../data/MNIST/raw\n"
     ]
    },
    {
     "name": "stderr",
     "output_type": "stream",
     "text": [
      "0.0%"
     ]
    },
    {
     "name": "stdout",
     "output_type": "stream",
     "text": [
      "Downloading http://yann.lecun.com/exdb/mnist/train-labels-idx1-ubyte.gz to ../data/MNIST/raw/train-labels-idx1-ubyte.gz\n"
     ]
    },
    {
     "name": "stderr",
     "output_type": "stream",
     "text": [
      "0.0%5%"
     ]
    },
    {
     "name": "stdout",
     "output_type": "stream",
     "text": [
      "Extracting ../data/MNIST/raw/train-labels-idx1-ubyte.gz to ../data/MNIST/raw\n",
      "Downloading http://yann.lecun.com/exdb/mnist/t10k-images-idx3-ubyte.gz to ../data/MNIST/raw/t10k-images-idx3-ubyte.gz\n"
     ]
    },
    {
     "name": "stderr",
     "output_type": "stream",
     "text": [
      "0.0%4%"
     ]
    },
    {
     "name": "stdout",
     "output_type": "stream",
     "text": [
      "Extracting ../data/MNIST/raw/t10k-images-idx3-ubyte.gz to ../data/MNIST/raw\n",
      "Downloading http://yann.lecun.com/exdb/mnist/t10k-labels-idx1-ubyte.gz to ../data/MNIST/raw/t10k-labels-idx1-ubyte.gz\n"
     ]
    },
    {
     "name": "stderr",
     "output_type": "stream",
     "text": [
      "180.4%"
     ]
    },
    {
     "name": "stdout",
     "output_type": "stream",
     "text": [
      "Extracting ../data/MNIST/raw/t10k-labels-idx1-ubyte.gz to ../data/MNIST/raw\n",
      "Processing...\n",
      "Done!\n"
     ]
    }
   ],
   "source": [
    "# convert data to torch.FloatTensor\n",
    "transform = transforms.ToTensor()\n",
    "\n",
    "# choose the training and test datasets\n",
    "train_data = torchvision.datasets.MNIST(root='../data', train=True,\n",
    "                                   download=True, transform=transform)\n",
    "test_data = torchvision.datasets.MNIST(root='../data', train=False,\n",
    "                                  download=True, transform=transform)"
   ]
  },
  {
   "cell_type": "code",
   "execution_count": 8,
   "metadata": {
    "colab": {},
    "colab_type": "code",
    "id": "Kqh_SmLjSdwz"
   },
   "outputs": [],
   "source": [
    "# obtain training indices that will be used for validation\n",
    "num_train = len(train_data)\n",
    "indices = list(range(num_train))\n",
    "np.random.shuffle(indices)\n",
    "split = int(np.floor(valid_size * num_train))\n",
    "train_idx, valid_idx = indices[split:], indices[:split]\n",
    "\n",
    "# define samplers for obtaining training and validation batches\n",
    "train_sampler = SubsetRandomSampler(train_idx)\n",
    "valid_sampler = SubsetRandomSampler(valid_idx)\n",
    "\n",
    "# prepare data loaders\n",
    "train_loader = torch.utils.data.DataLoader(train_data, batch_size=batch_size,\n",
    "    sampler=train_sampler, num_workers=num_workers)\n",
    "\n",
    "valid_loader = torch.utils.data.DataLoader(train_data, batch_size=batch_size, \n",
    "    sampler=valid_sampler, num_workers=num_workers)\n",
    "\n",
    "test_loader = torch.utils.data.DataLoader(test_data, batch_size=batch_size, \n",
    "    num_workers=num_workers)"
   ]
  },
  {
   "cell_type": "markdown",
   "metadata": {
    "colab_type": "text",
    "id": "uEi_eSm_Sdw1"
   },
   "source": [
    "Visualize a batch of Training Data"
   ]
  },
  {
   "cell_type": "code",
   "execution_count": 9,
   "metadata": {
    "colab": {
     "base_uri": "https://localhost:8080/",
     "height": 265
    },
    "colab_type": "code",
    "id": "FLGObdYaSdw1",
    "outputId": "dd3b534e-b94f-4e49-a875-0350ae7d22d7"
   },
   "outputs": [
    {
     "data": {
      "image/png": "[encoded data removed]",
      "text/plain": [
       "<Figure size 432x288 with 1 Axes>"
      ]
     },
     "metadata": {
      "needs_background": "light"
     },
     "output_type": "display_data"
    }
   ],
   "source": [
    "import matplotlib.pyplot as plt\n",
    "%matplotlib inline\n",
    "# obtain one batch of training images\n",
    "batch_iter = iter(train_loader)\n",
    "images_batch, labels_batch = batch_iter.next()\n",
    "\n",
    "image = images_batch[0]\n",
    "\n",
    "img = np.array(image, dtype='float')\n",
    "img = img.reshape((28, 28))\n",
    "\n",
    "plt.imshow(img, cmap='gray')\n",
    "plt.show()"
   ]
  },
  {
   "cell_type": "code",
   "execution_count": 10,
   "metadata": {
    "colab": {
     "base_uri": "https://localhost:8080/",
     "height": 288
    },
    "colab_type": "code",
    "id": "ZqerDRapSdw3",
    "outputId": "cd36b387-58b5-4dd0-d847-d25458bc265e",
    "scrolled": true
   },
   "outputs": [
    {
     "data": {
      "image/png": "[encoded data removed]",
      "text/plain": [
       "<Figure size 1800x288 with 20 Axes>"
      ]
     },
     "metadata": {
      "needs_background": "light"
     },
     "output_type": "display_data"
    }
   ],
   "source": [
    "import matplotlib.pyplot as plt\n",
    "%matplotlib inline\n",
    "batch_iter = iter(train_loader)\n",
    "images_batch, labels_batch = batch_iter.next()\n",
    "\n",
    "plt.figure(figsize=(25, 4))\n",
    "for idx, image in enumerate(images_batch):\n",
    "    img = np.array(image, dtype='float')\n",
    "    img = img.reshape((28, 28))\n",
    "    plt.subplot(2, 10, (idx + 1))\n",
    "    plt.imshow(img, cmap='gray')\n",
    "\n",
    "plt.show()"
   ]
  },
  {
   "cell_type": "code",
   "execution_count": 11,
   "metadata": {
    "colab": {
     "base_uri": "https://localhost:8080/",
     "height": 119
    },
    "colab_type": "code",
    "id": "AFRAH9g0Sdw6",
    "outputId": "de8bf5c6-e15b-4052-e30f-92f1c16cfcef"
   },
   "outputs": [
    {
     "name": "stdout",
     "output_type": "stream",
     "text": [
      "FcnNeuralNetDropOut(\n",
      "  (fc1): Linear(in_features=784, out_features=512, bias=True)\n",
      "  (fc2): Linear(in_features=512, out_features=512, bias=True)\n",
      "  (fc3): Linear(in_features=512, out_features=10, bias=True)\n",
      "  (dropout_02): Dropout(p=0.2, inplace=False)\n",
      ")\n"
     ]
    }
   ],
   "source": [
    "# define the NN architecture\n",
    "class FcnNeuralNetDropOut(nn.Module):\n",
    "    def __init__(self):\n",
    "        super().__init__()\n",
    "        # number of hidden nodes in each layer (512)\n",
    "        hidden_1 = 512\n",
    "        hidden_2 = 512\n",
    "        # linear layer (784 -> hidden_1)\n",
    "        self.fc1 = nn.Linear(28 * 28, hidden_1)\n",
    "        # linear layer (n_hidden -> hidden_2)\n",
    "        self.fc2 = nn.Linear(hidden_1, hidden_2)\n",
    "        # linear layer (n_hidden -> 10)\n",
    "        self.fc3 = nn.Linear(hidden_2, 10)\n",
    "        # dropout prevents overfitting of data\n",
    "        # dropout layer (p=0.2)\n",
    "        self.dropout_02 = nn.Dropout(0.2)\n",
    "\n",
    "    def forward(self, x):\n",
    "        # flatten image input\n",
    "        x = x.view(-1, 28 * 28)\n",
    "        # add hidden layer, with relu activation function\n",
    "        x = F.relu(self.fc1(x))\n",
    "        # add hidden layer, with relu activation function\n",
    "        x = F.relu(self.fc2(x))\n",
    "        # add dropout layer\n",
    "        x = self.dropout_02(x)\n",
    "        # add output layer\n",
    "        x = self.fc3(x)\n",
    "        return x\n",
    "\n",
    "# initialize the NN\n",
    "model = FcnNeuralNetDropOut()\n",
    "print(model)"
   ]
  },
  {
   "cell_type": "markdown",
   "metadata": {
    "colab_type": "text",
    "id": "kldmSJzWSdw-"
   },
   "source": [
    "__Specify Loss Function and Optimizer__"
   ]
  },
  {
   "cell_type": "code",
   "execution_count": 12,
   "metadata": {
    "colab": {},
    "colab_type": "code",
    "id": "-kmLyNikSdw-"
   },
   "outputs": [],
   "source": [
    "# specify loss function (categorical cross-entropy)\n",
    "criterion = nn.CrossEntropyLoss()\n",
    "\n",
    "# specify optimizer (stochastic gradient descent) and learning rate = 0.01\n",
    "optimizer = torch.optim.Adam(model.parameters(), lr=0.001)"
   ]
  },
  {
   "cell_type": "markdown",
   "metadata": {
    "colab_type": "text",
    "id": "xQSbq6aWSdxA"
   },
   "source": [
    "__Train the Network__"
   ]
  },
  {
   "cell_type": "code",
   "execution_count": 13,
   "metadata": {
    "colab": {
     "base_uri": "https://localhost:8080/",
     "height": 578
    },
    "colab_type": "code",
    "id": "Mhq0bpxDSdxA",
    "outputId": "b9dc4981-46cc-4acb-e96b-3b76352a7601"
   },
   "outputs": [
    {
     "name": "stdout",
     "output_type": "stream",
     "text": [
      "Epoch: 1 \tTraining Loss: 0.220397 \tValidation Loss: 0.129784\n",
      "Validation loss decreased (inf --> 0.129784).  Saving model ...\n",
      "Epoch: 2 \tTraining Loss: 0.095008 \tValidation Loss: 0.122574\n",
      "Validation loss decreased (0.129784 --> 0.122574).  Saving model ...\n",
      "Epoch: 3 \tTraining Loss: 0.066830 \tValidation Loss: 0.094471\n",
      "Validation loss decreased (0.122574 --> 0.094471).  Saving model ...\n",
      "Epoch: 4 \tTraining Loss: 0.052182 \tValidation Loss: 0.097946\n",
      "Epoch: 5 \tTraining Loss: 0.044359 \tValidation Loss: 0.114644\n",
      "Epoch: 6 \tTraining Loss: 0.037023 \tValidation Loss: 0.094976\n",
      "Epoch: 7 \tTraining Loss: 0.030969 \tValidation Loss: 0.129588\n",
      "Epoch: 8 \tTraining Loss: 0.032044 \tValidation Loss: 0.128357\n",
      "Epoch: 9 \tTraining Loss: 0.026451 \tValidation Loss: 0.124377\n",
      "Epoch: 10 \tTraining Loss: 0.026783 \tValidation Loss: 0.123770\n",
      "Epoch: 11 \tTraining Loss: 0.022827 \tValidation Loss: 0.199682\n",
      "Epoch: 12 \tTraining Loss: 0.026515 \tValidation Loss: 0.200349\n",
      "Epoch: 13 \tTraining Loss: 0.020864 \tValidation Loss: 0.156360\n",
      "Epoch: 14 \tTraining Loss: 0.021281 \tValidation Loss: 0.186022\n",
      "Epoch: 15 \tTraining Loss: 0.019787 \tValidation Loss: 0.196950\n",
      "Epoch: 16 \tTraining Loss: 0.022598 \tValidation Loss: 0.211637\n",
      "Epoch: 17 \tTraining Loss: 0.017409 \tValidation Loss: 0.210415\n",
      "Epoch: 18 \tTraining Loss: 0.022481 \tValidation Loss: 0.202309\n",
      "Epoch: 19 \tTraining Loss: 0.018204 \tValidation Loss: 0.207440\n",
      "Epoch: 20 \tTraining Loss: 0.021032 \tValidation Loss: 0.243984\n",
      "Epoch: 21 \tTraining Loss: 0.017585 \tValidation Loss: 0.219010\n",
      "Epoch: 22 \tTraining Loss: 0.015332 \tValidation Loss: 0.232108\n",
      "Epoch: 23 \tTraining Loss: 0.021626 \tValidation Loss: 0.220176\n",
      "Epoch: 24 \tTraining Loss: 0.018854 \tValidation Loss: 0.252891\n",
      "Epoch: 25 \tTraining Loss: 0.017156 \tValidation Loss: 0.242110\n",
      "Epoch: 26 \tTraining Loss: 0.022226 \tValidation Loss: 0.286045\n",
      "Epoch: 27 \tTraining Loss: 0.017123 \tValidation Loss: 0.249405\n",
      "Epoch: 28 \tTraining Loss: 0.012439 \tValidation Loss: 0.314691\n",
      "Epoch: 29 \tTraining Loss: 0.018252 \tValidation Loss: 0.236386\n",
      "Epoch: 30 \tTraining Loss: 0.017317 \tValidation Loss: 0.323996\n"
     ]
    }
   ],
   "source": [
    "# number of epochs to train the model\n",
    "n_epochs = 30\n",
    "\n",
    "# initialize tracker for minimum validation loss\n",
    "valid_loss_min = np.Inf # set initial \"min\" to infinity\n",
    "\n",
    "for epoch in range(n_epochs):\n",
    "    # monitor training loss\n",
    "    train_loss = 0.0\n",
    "    valid_loss = 0.0\n",
    "    \n",
    "    ###################\n",
    "    # train the model #\n",
    "    ###################\n",
    "    model.to(device)\n",
    "    model.train() # prep model for training\n",
    "    \n",
    "    for data, target in train_loader:\n",
    "        data = data.to(device)\n",
    "        target = target.to(device)\n",
    "        # clear the gradients of all optimized variables\n",
    "        optimizer.zero_grad()\n",
    "        # forward pass: compute predicted outputs by passing inputs to the model\n",
    "        output = model(data)\n",
    "        # calculate the loss\n",
    "        loss = criterion(output, target)\n",
    "        # backward pass: compute gradient of the loss with respect to model parameters\n",
    "        loss.backward()\n",
    "        # perform a single optimization step (parameter update)\n",
    "        optimizer.step()\n",
    "        # update running training loss\n",
    "        train_loss += loss.item()*data.size(0)\n",
    "        \n",
    "    ######################    \n",
    "    # validate the model #\n",
    "    ######################\n",
    "    model.to(device)\n",
    "    model.eval() # prep model for evaluation\n",
    "    for data, target in valid_loader:\n",
    "        data = data.to(device)\n",
    "        target = target.to(device)\n",
    "        # forward pass: compute predicted outputs by passing inputs to the model\n",
    "        output = model(data)\n",
    "        # calculate the loss\n",
    "        loss = criterion(output, target)\n",
    "        # update running validation loss \n",
    "        valid_loss += loss.item()*data.size(0)\n",
    "        \n",
    "    # print training/validation statistics \n",
    "    # calculate average loss over an epoch\n",
    "    train_loss = train_loss/len(train_loader.sampler)\n",
    "    valid_loss = valid_loss/len(valid_loader.sampler)\n",
    "    \n",
    "    print('Epoch: {} \\tTraining Loss: {:.6f} \\tValidation Loss: {:.6f}'.format(\n",
    "        epoch+1, \n",
    "        train_loss,\n",
    "        valid_loss\n",
    "        ))\n",
    "    \n",
    "    # save model if validation loss has decreased\n",
    "    if valid_loss <= valid_loss_min:\n",
    "        print('Validation loss decreased ({:.6f} --> {:.6f}).  Saving model ...'.format(\n",
    "        valid_loss_min,\n",
    "        valid_loss))\n",
    "        torch.save(model.state_dict(), 'model.pt')\n",
    "        valid_loss_min = valid_loss\n"
   ]
  },
  {
   "cell_type": "markdown",
   "metadata": {
    "colab_type": "text",
    "id": "V2R1uEkOSdxC"
   },
   "source": [
    "__Test the Model__"
   ]
  },
  {
   "cell_type": "markdown",
   "metadata": {
    "colab_type": "text",
    "id": "ZjYo_1pQSdxD"
   },
   "source": [
    "Test setup"
   ]
  },
  {
   "cell_type": "code",
   "execution_count": 14,
   "metadata": {
    "colab": {
     "base_uri": "https://localhost:8080/",
     "height": 119
    },
    "colab_type": "code",
    "id": "gfAwVcgwSdxF",
    "outputId": "1288696d-83f1-4f75-bf0d-b4ffaf4874b3"
   },
   "outputs": [
    {
     "data": {
      "text/plain": [
       "FcnNeuralNetDropOut(\n",
       "  (fc1): Linear(in_features=784, out_features=512, bias=True)\n",
       "  (fc2): Linear(in_features=512, out_features=512, bias=True)\n",
       "  (fc3): Linear(in_features=512, out_features=10, bias=True)\n",
       "  (dropout_02): Dropout(p=0.2, inplace=False)\n",
       ")"
      ]
     },
     "execution_count": 14,
     "metadata": {},
     "output_type": "execute_result"
    }
   ],
   "source": [
    "# initialize lists to monitor test loss and accuracy\n",
    "test_loss = 0.0\n",
    "class_correct = list(0. for i in range(10))\n",
    "class_total = list(0. for i in range(10))\n",
    "\n",
    "# prep model for evaluation\n",
    "model.eval()"
   ]
  },
  {
   "cell_type": "markdown",
   "metadata": {
    "colab_type": "text",
    "id": "Bdbj6yuvSdxG"
   },
   "source": [
    "test loop"
   ]
  },
  {
   "cell_type": "code",
   "execution_count": 15,
   "metadata": {
    "colab": {},
    "colab_type": "code",
    "id": "dHECZZXkSdxH"
   },
   "outputs": [],
   "source": [
    "for data, target in test_loader:\n",
    "    data = data.to(device)\n",
    "    target = target.to(device)\n",
    "    # forward pass: compute predicted outputs by passing inputs to the model\n",
    "    output = model(data)\n",
    "    # calculate the loss\n",
    "    loss = criterion(output, target)\n",
    "    # update test loss \n",
    "    test_loss += loss.item()*data.size(0)\n",
    "    # convert output probabilities to predicted class\n",
    "    _, pred = torch.max(output, 1)\n",
    "    # compare predictions to true label\n",
    "    correct = np.squeeze(pred.eq(target.data.view_as(pred)))\n",
    "    # calculate test accuracy for each object class\n",
    "    for i in range(len(target)):\n",
    "        label = target.data[i]\n",
    "        class_correct[label] += correct[i].item()\n",
    "        class_total[label] += 1"
   ]
  },
  {
   "cell_type": "code",
   "execution_count": 16,
   "metadata": {
    "colab": {
     "base_uri": "https://localhost:8080/",
     "height": 255
    },
    "colab_type": "code",
    "id": "ff3a65vJSdxI",
    "outputId": "700075cf-0ec8-413a-8bfd-15afc3e48a99"
   },
   "outputs": [
    {
     "name": "stdout",
     "output_type": "stream",
     "text": [
      "Test Loss: 0.287760\n",
      "\n",
      "Test Accuracy of     0: 99% (972/980)\n",
      "Test Accuracy of     1: 98% (1120/1135)\n",
      "Test Accuracy of     2: 95% (986/1032)\n",
      "Test Accuracy of     3: 97% (980/1010)\n",
      "Test Accuracy of     4: 98% (967/982)\n",
      "Test Accuracy of     5: 98% (876/892)\n",
      "Test Accuracy of     6: 96% (927/958)\n",
      "Test Accuracy of     7: 98% (1014/1028)\n",
      "Test Accuracy of     8: 98% (961/974)\n",
      "Test Accuracy of     9: 97% (980/1009)\n",
      "\n",
      "Test Accuracy (Overall): 97% (9783/10000)\n"
     ]
    }
   ],
   "source": [
    "# calculate and print avg test loss\n",
    "test_loss = test_loss/len(test_loader.sampler)\n",
    "print('Test Loss: {:.6f}\\n'.format(test_loss))\n",
    "\n",
    "for i in range(10):\n",
    "    if class_total[i] > 0:\n",
    "        print('Test Accuracy of %5s: %2d%% (%2d/%2d)' % (\n",
    "            str(i), 100 * class_correct[i] / class_total[i],\n",
    "            np.sum(class_correct[i]), np.sum(class_total[i])))\n",
    "    else:\n",
    "        print('Test Accuracy of %5s: N/A (no training examples)' % (classes[i]))\n",
    "\n",
    "print('\\nTest Accuracy (Overall): %2d%% (%2d/%2d)' % (\n",
    "    100. * np.sum(class_correct) / np.sum(class_total),\n",
    "    np.sum(class_correct), np.sum(class_total)))"
   ]
  },
  {
   "cell_type": "code",
   "execution_count": 17,
   "metadata": {
    "colab": {},
    "colab_type": "code",
    "id": "XOtKAjn6SdxD"
   },
   "outputs": [],
   "source": [
    "def apply_dropout(m):\n",
    "    if type(m) == nn.Dropout:\n",
    "        m.train()"
   ]
  },
  {
   "cell_type": "code",
   "execution_count": 18,
   "metadata": {
    "colab": {
     "base_uri": "https://localhost:8080/",
     "height": 119
    },
    "colab_type": "code",
    "id": "KGpH9umechK9",
    "outputId": "97e5f1da-f855-4912-f9a5-247e7892d69f"
   },
   "outputs": [
    {
     "data": {
      "text/plain": [
       "FcnNeuralNetDropOut(\n",
       "  (fc1): Linear(in_features=784, out_features=512, bias=True)\n",
       "  (fc2): Linear(in_features=512, out_features=512, bias=True)\n",
       "  (fc3): Linear(in_features=512, out_features=10, bias=True)\n",
       "  (dropout_02): Dropout(p=0.2, inplace=False)\n",
       ")"
      ]
     },
     "execution_count": 18,
     "metadata": {},
     "output_type": "execute_result"
    }
   ],
   "source": [
    "# Apply dropout on testing\n",
    "model.apply(apply_dropout)"
   ]
  },
  {
   "cell_type": "code",
   "execution_count": 19,
   "metadata": {
    "colab": {
     "base_uri": "https://localhost:8080/",
     "height": 288
    },
    "colab_type": "code",
    "id": "zs8oenR2b9bJ",
    "outputId": "a36de0b2-22f3-407a-bf27-c609f2cf5dc0"
   },
   "outputs": [
    {
     "data": {
      "image/png": "[encoded data removed]",
      "text/plain": [
       "<Figure size 1800x288 with 20 Axes>"
      ]
     },
     "metadata": {},
     "output_type": "display_data"
    }
   ],
   "source": [
    "dataiter = iter(test_loader)\n",
    "images, labels = dataiter.next()\n",
    "\n",
    "data = images.to(device)\n",
    "target = labels.to(device)\n",
    "\n",
    "# get sample outputs\n",
    "output = model(data)\n",
    "# convert output probabilities to predicted class\n",
    "_, preds = torch.max(output, 1)\n",
    "# prep images for display\n",
    "images = images.numpy()\n",
    "\n",
    "# plot the images in the batch, along with predicted and true labels\n",
    "fig = plt.figure(figsize=(25, 4))\n",
    "for idx in np.arange(20):\n",
    "    ax = fig.add_subplot(2, 20/2, idx+1, xticks=[], yticks=[])\n",
    "    ax.imshow(np.squeeze(images[idx]), cmap='gray')\n",
    "    ax.set_title(\"{} ({})\".format(str(preds[idx].item()), str(labels[idx].item())),\n",
    "                 color=(\"green\" if preds[idx]==labels[idx] else \"red\"))"
   ]
  },
  {
   "cell_type": "code",
   "execution_count": 20,
   "metadata": {
    "colab": {},
    "colab_type": "code",
    "id": "pTW2tDdHdyt-"
   },
   "outputs": [],
   "source": [
    "dataiter = iter(test_loader)\n",
    "images, labels = dataiter.next()\n",
    "\n",
    "data = images[0].to(device)\n",
    "target = labels[0].to(device)\n"
   ]
  },
  {
   "cell_type": "code",
   "execution_count": 21,
   "metadata": {
    "colab": {
     "base_uri": "https://localhost:8080/",
     "height": 265
    },
    "colab_type": "code",
    "id": "kqeZtONae4J7",
    "outputId": "aa7e1953-0f2e-4cfd-990d-e70d2d167e69"
   },
   "outputs": [
    {
     "data": {
      "image/png": "[encoded data removed]",
      "text/plain": [
       "<Figure size 432x288 with 1 Axes>"
      ]
     },
     "metadata": {
      "needs_background": "light"
     },
     "output_type": "display_data"
    }
   ],
   "source": [
    "# Plot one sample of the batch\n",
    "img = np.array(images[0], dtype='float')\n",
    "img = img.reshape((28, 28))\n",
    "\n",
    "plt.imshow(img, cmap='gray')\n",
    "plt.show()"
   ]
  },
  {
   "cell_type": "code",
   "execution_count": 22,
   "metadata": {
    "colab": {},
    "colab_type": "code",
    "id": "a1pmmmiJbYYP"
   },
   "outputs": [],
   "source": [
    "# Nro of Forward passes\n",
    "T = 20\n",
    "predictions = []"
   ]
  },
  {
   "cell_type": "code",
   "execution_count": 23,
   "metadata": {
    "colab": {},
    "colab_type": "code",
    "id": "Nlr7aFSASdxJ"
   },
   "outputs": [],
   "source": [
    "for t in range(T):\n",
    "  # forward pass: compute predicted outputs by passing inputs to the model\n",
    "  output = F.softmax(model(data), dim=1)\n",
    "  # append the prediction\n",
    "  predictions.append(output)"
   ]
  },
  {
   "cell_type": "code",
   "execution_count": 24,
   "metadata": {
    "colab": {
     "base_uri": "https://localhost:8080/",
     "height": 714
    },
    "colab_type": "code",
    "id": "GhdyG0b_eqo5",
    "outputId": "06f8e7d0-8b70-40da-bf21-ac1cb8336da0"
   },
   "outputs": [
    {
     "name": "stdout",
     "output_type": "stream",
     "text": [
      "[tensor([[0.0000e+00, 0.0000e+00, 0.0000e+00, 0.0000e+00, 1.7297e-38, 0.0000e+00,\n",
      "         0.0000e+00, 1.0000e+00, 0.0000e+00, 1.0789e-38]], device='cuda:0',\n",
      "       grad_fn=<SoftmaxBackward>), tensor([[0.0000e+00, 1.1210e-44, 0.0000e+00, 0.0000e+00, 6.2049e-35, 0.0000e+00,\n",
      "         0.0000e+00, 1.0000e+00, 0.0000e+00, 4.3158e-40]], device='cuda:0',\n",
      "       grad_fn=<SoftmaxBackward>), tensor([[0.0000e+00, 0.0000e+00, 0.0000e+00, 0.0000e+00, 1.2078e-38, 0.0000e+00,\n",
      "         0.0000e+00, 1.0000e+00, 0.0000e+00, 1.4237e-42]], device='cuda:0',\n",
      "       grad_fn=<SoftmaxBackward>), tensor([[0.0000e+00, 0.0000e+00, 0.0000e+00, 0.0000e+00, 4.9186e-43, 0.0000e+00,\n",
      "         0.0000e+00, 1.0000e+00, 0.0000e+00, 0.0000e+00]], device='cuda:0',\n",
      "       grad_fn=<SoftmaxBackward>), tensor([[0.0000e+00, 0.0000e+00, 0.0000e+00, 0.0000e+00, 7.1205e-40, 0.0000e+00,\n",
      "         0.0000e+00, 1.0000e+00, 0.0000e+00, 2.6625e-44]], device='cuda:0',\n",
      "       grad_fn=<SoftmaxBackward>), tensor([[0.0000e+00, 0.0000e+00, 0.0000e+00, 0.0000e+00, 9.8091e-45, 0.0000e+00,\n",
      "         0.0000e+00, 1.0000e+00, 0.0000e+00, 1.3340e-42]], device='cuda:0',\n",
      "       grad_fn=<SoftmaxBackward>), tensor([[0.0000e+00, 0.0000e+00, 0.0000e+00, 0.0000e+00, 2.8026e-44, 0.0000e+00,\n",
      "         0.0000e+00, 1.0000e+00, 0.0000e+00, 7.0065e-45]], device='cuda:0',\n",
      "       grad_fn=<SoftmaxBackward>), tensor([[0.0000e+00, 0.0000e+00, 0.0000e+00, 0.0000e+00, 2.2141e-43, 0.0000e+00,\n",
      "         0.0000e+00, 1.0000e+00, 0.0000e+00, 0.0000e+00]], device='cuda:0',\n",
      "       grad_fn=<SoftmaxBackward>), tensor([[0.0000e+00, 1.4013e-45, 0.0000e+00, 0.0000e+00, 2.5223e-44, 0.0000e+00,\n",
      "         0.0000e+00, 1.0000e+00, 0.0000e+00, 4.2039e-45]], device='cuda:0',\n",
      "       grad_fn=<SoftmaxBackward>), tensor([[0.0000e+00, 0.0000e+00, 0.0000e+00, 0.0000e+00, 2.0347e-42, 0.0000e+00,\n",
      "         0.0000e+00, 1.0000e+00, 0.0000e+00, 1.3733e-43]], device='cuda:0',\n",
      "       grad_fn=<SoftmaxBackward>), tensor([[0.0000e+00, 3.8312e-42, 0.0000e+00, 0.0000e+00, 1.4896e-42, 0.0000e+00,\n",
      "         0.0000e+00, 1.0000e+00, 0.0000e+00, 0.0000e+00]], device='cuda:0',\n",
      "       grad_fn=<SoftmaxBackward>), tensor([[0.0000e+00, 0.0000e+00, 0.0000e+00, 0.0000e+00, 1.4686e-42, 0.0000e+00,\n",
      "         0.0000e+00, 1.0000e+00, 0.0000e+00, 4.2039e-45]], device='cuda:0',\n",
      "       grad_fn=<SoftmaxBackward>), tensor([[0.0000e+00, 8.7541e-40, 0.0000e+00, 0.0000e+00, 2.0698e-35, 0.0000e+00,\n",
      "         0.0000e+00, 1.0000e+00, 9.6690e-44, 1.2487e-37]], device='cuda:0',\n",
      "       grad_fn=<SoftmaxBackward>), tensor([[0.0000e+00, 0.0000e+00, 0.0000e+00, 0.0000e+00, 3.8501e-37, 0.0000e+00,\n",
      "         0.0000e+00, 1.0000e+00, 0.0000e+00, 5.2871e-42]], device='cuda:0',\n",
      "       grad_fn=<SoftmaxBackward>), tensor([[0.0000e+00, 0.0000e+00, 0.0000e+00, 0.0000e+00, 1.8455e-42, 0.0000e+00,\n",
      "         0.0000e+00, 1.0000e+00, 0.0000e+00, 1.4013e-45]], device='cuda:0',\n",
      "       grad_fn=<SoftmaxBackward>), tensor([[0.0000e+00, 1.6816e-44, 0.0000e+00, 0.0000e+00, 6.0676e-43, 0.0000e+00,\n",
      "         0.0000e+00, 1.0000e+00, 0.0000e+00, 1.8665e-42]], device='cuda:0',\n",
      "       grad_fn=<SoftmaxBackward>), tensor([[0.0000e+00, 0.0000e+00, 0.0000e+00, 0.0000e+00, 2.8026e-45, 0.0000e+00,\n",
      "         0.0000e+00, 1.0000e+00, 0.0000e+00, 0.0000e+00]], device='cuda:0',\n",
      "       grad_fn=<SoftmaxBackward>), tensor([[0., 0., 0., 0., 0., 0., 0., 1., 0., 0.]], device='cuda:0',\n",
      "       grad_fn=<SoftmaxBackward>), tensor([[0.0000e+00, 1.4013e-45, 0.0000e+00, 1.1991e-40, 2.0264e-38, 0.0000e+00,\n",
      "         0.0000e+00, 1.0000e+00, 0.0000e+00, 1.4013e-45]], device='cuda:0',\n",
      "       grad_fn=<SoftmaxBackward>), tensor([[0.0000e+00, 9.8792e-43, 2.1019e-44, 0.0000e+00, 9.3196e-35, 0.0000e+00,\n",
      "         0.0000e+00, 1.0000e+00, 0.0000e+00, 4.6813e-36]], device='cuda:0',\n",
      "       grad_fn=<SoftmaxBackward>)]\n"
     ]
    }
   ],
   "source": [
    "print(predictions)"
   ]
  },
  {
   "cell_type": "code",
   "execution_count": 25,
   "metadata": {
    "colab": {
     "base_uri": "https://localhost:8080/",
     "height": 265
    },
    "colab_type": "code",
    "id": "Du5ejEjmks9e",
    "outputId": "6c03c78a-024e-43f9-b1b2-c36dbaff1649"
   },
   "outputs": [
    {
     "data": {
      "image/png": "[encoded data removed]",
      "text/plain": [
       "<Figure size 432x288 with 1 Axes>"
      ]
     },
     "metadata": {
      "needs_background": "light"
     },
     "output_type": "display_data"
    }
   ],
   "source": [
    "# Plot one sample of the batch\n",
    "imageTransposed = images[0].T\n",
    "\n",
    "img = np.array(imageTransposed, dtype='float')\n",
    "img = img.reshape((28, 28))\n",
    "\n",
    "plt.imshow(img, cmap='gray')\n",
    "plt.show()"
   ]
  },
  {
   "cell_type": "code",
   "execution_count": 26,
   "metadata": {
    "colab": {},
    "colab_type": "code",
    "id": "R3g4BiJLnsEb"
   },
   "outputs": [],
   "source": [
    "# Nro of Forward passes\n",
    "T = 20\n",
    "predictions = []\n"
   ]
  },
  {
   "cell_type": "code",
   "execution_count": 27,
   "metadata": {
    "colab": {},
    "colab_type": "code",
    "id": "s4fMssKnprA2"
   },
   "outputs": [],
   "source": [
    "imageTransposed = imageTransposed.to(device)\n",
    "target = labels[0].to(device)"
   ]
  },
  {
   "cell_type": "code",
   "execution_count": 28,
   "metadata": {
    "colab": {},
    "colab_type": "code",
    "id": "eYPqcza0fpDo"
   },
   "outputs": [],
   "source": [
    "for t in range(T):\n",
    "  # forward pass: compute predicted outputs by passing inputs to the model\n",
    "  output = F.softmax(model(imageTransposed), dim=1)\n",
    "  # append the prediction\n",
    "  predictions.append(output)"
   ]
  },
  {
   "cell_type": "code",
   "execution_count": 29,
   "metadata": {
    "colab": {
     "base_uri": "https://localhost:8080/",
     "height": 714
    },
    "colab_type": "code",
    "id": "AE5gZGZDn7i1",
    "outputId": "ce525002-2732-4faa-b06f-2fb8b8754a03"
   },
   "outputs": [
    {
     "name": "stdout",
     "output_type": "stream",
     "text": [
      "[tensor([[2.4550e-25, 0.0000e+00, 3.4819e-33, 0.0000e+00, 3.2790e-43, 2.0658e-24,\n",
      "         1.0000e+00, 0.0000e+00, 1.6337e-17, 0.0000e+00]], device='cuda:0',\n",
      "       grad_fn=<SoftmaxBackward>), tensor([[1.0376e-25, 0.0000e+00, 1.1329e-31, 0.0000e+00, 3.1178e-34, 5.6624e-15,\n",
      "         1.0000e+00, 0.0000e+00, 4.5278e-13, 5.7621e-42]], device='cuda:0',\n",
      "       grad_fn=<SoftmaxBackward>), tensor([[3.7269e-24, 0.0000e+00, 2.7237e-36, 0.0000e+00, 8.4493e-35, 2.9664e-21,\n",
      "         1.0000e+00, 0.0000e+00, 6.5045e-13, 7.8889e-41]], device='cuda:0',\n",
      "       grad_fn=<SoftmaxBackward>), tensor([[4.6614e-23, 0.0000e+00, 8.6302e-34, 0.0000e+00, 2.4884e-35, 7.1569e-19,\n",
      "         1.0000e+00, 0.0000e+00, 9.7984e-15, 8.7355e-39]], device='cuda:0',\n",
      "       grad_fn=<SoftmaxBackward>), tensor([[5.4548e-26, 0.0000e+00, 4.0995e-27, 0.0000e+00, 6.9220e-34, 1.2224e-14,\n",
      "         1.0000e+00, 0.0000e+00, 8.1623e-10, 9.4307e-33]], device='cuda:0',\n",
      "       grad_fn=<SoftmaxBackward>), tensor([[4.9378e-28, 0.0000e+00, 4.1359e-41, 0.0000e+00, 3.1417e-42, 1.7130e-16,\n",
      "         1.0000e+00, 0.0000e+00, 5.9053e-17, 5.2829e-43]], device='cuda:0',\n",
      "       grad_fn=<SoftmaxBackward>), tensor([[9.7414e-32, 0.0000e+00, 2.2947e-37, 0.0000e+00, 2.2531e-40, 2.1231e-18,\n",
      "         1.0000e+00, 0.0000e+00, 1.2450e-11, 5.4651e-44]], device='cuda:0',\n",
      "       grad_fn=<SoftmaxBackward>), tensor([[1.4819e-27, 0.0000e+00, 1.7444e-40, 0.0000e+00, 1.4013e-45, 2.4605e-21,\n",
      "         1.0000e+00, 0.0000e+00, 6.6630e-15, 9.8091e-45]], device='cuda:0',\n",
      "       grad_fn=<SoftmaxBackward>), tensor([[6.5852e-19, 0.0000e+00, 1.2731e-35, 0.0000e+00, 5.7393e-38, 5.8055e-19,\n",
      "         1.0000e+00, 0.0000e+00, 6.4430e-13, 7.7811e-38]], device='cuda:0',\n",
      "       grad_fn=<SoftmaxBackward>), tensor([[3.7737e-27, 0.0000e+00, 8.3957e-35, 0.0000e+00, 1.8397e-40, 2.8113e-19,\n",
      "         1.0000e+00, 0.0000e+00, 5.8398e-12, 2.0599e-43]], device='cuda:0',\n",
      "       grad_fn=<SoftmaxBackward>), tensor([[3.2655e-22, 0.0000e+00, 2.2883e-37, 0.0000e+00, 2.3132e-40, 1.0723e-16,\n",
      "         1.0000e+00, 0.0000e+00, 2.3755e-17, 0.0000e+00]], device='cuda:0',\n",
      "       grad_fn=<SoftmaxBackward>), tensor([[7.0941e-23, 0.0000e+00, 4.2391e-33, 0.0000e+00, 3.5750e-36, 2.3251e-13,\n",
      "         1.0000e+00, 0.0000e+00, 7.0578e-11, 2.0385e-36]], device='cuda:0',\n",
      "       grad_fn=<SoftmaxBackward>), tensor([[3.2723e-30, 0.0000e+00, 3.2632e-41, 0.0000e+00, 6.8678e-42, 6.8827e-21,\n",
      "         1.0000e+00, 0.0000e+00, 1.8673e-17, 2.8026e-45]], device='cuda:0',\n",
      "       grad_fn=<SoftmaxBackward>), tensor([[5.6337e-24, 0.0000e+00, 4.6717e-38, 0.0000e+00, 1.5702e-39, 2.6012e-17,\n",
      "         1.0000e+00, 0.0000e+00, 2.2489e-11, 1.2940e-39]], device='cuda:0',\n",
      "       grad_fn=<SoftmaxBackward>), tensor([[2.7502e-21, 0.0000e+00, 1.0841e-32, 0.0000e+00, 1.1210e-43, 3.0826e-21,\n",
      "         1.0000e+00, 0.0000e+00, 1.5638e-11, 1.3722e-41]], device='cuda:0',\n",
      "       grad_fn=<SoftmaxBackward>), tensor([[9.1742e-22, 0.0000e+00, 1.4632e-39, 0.0000e+00, 5.3307e-41, 4.2111e-23,\n",
      "         1.0000e+00, 0.0000e+00, 9.9612e-18, 1.4013e-45]], device='cuda:0',\n",
      "       grad_fn=<SoftmaxBackward>), tensor([[4.7418e-33, 0.0000e+00, 4.3948e-41, 0.0000e+00, 2.2446e-37, 2.2714e-18,\n",
      "         1.0000e+00, 0.0000e+00, 2.7447e-20, 1.2612e-44]], device='cuda:0',\n",
      "       grad_fn=<SoftmaxBackward>), tensor([[1.4034e-18, 0.0000e+00, 1.5341e-24, 0.0000e+00, 1.1650e-35, 1.5649e-17,\n",
      "         1.0000e+00, 0.0000e+00, 1.3285e-06, 4.4881e-34]], device='cuda:0',\n",
      "       grad_fn=<SoftmaxBackward>), tensor([[2.9499e-27, 0.0000e+00, 4.2533e-39, 0.0000e+00, 4.8384e-35, 3.3970e-18,\n",
      "         1.0000e+00, 0.0000e+00, 9.1521e-16, 1.4475e-35]], device='cuda:0',\n",
      "       grad_fn=<SoftmaxBackward>), tensor([[4.4327e-29, 0.0000e+00, 2.4943e-42, 0.0000e+00, 1.4013e-45, 1.2451e-20,\n",
      "         1.0000e+00, 0.0000e+00, 4.0359e-19, 1.1491e-43]], device='cuda:0',\n",
      "       grad_fn=<SoftmaxBackward>)]\n"
     ]
    }
   ],
   "source": [
    "print(predictions)"
   ]
  },
  {
   "cell_type": "code",
   "execution_count": 30,
   "metadata": {
    "colab": {},
    "colab_type": "code",
    "id": "BezwliH_pzrG"
   },
   "outputs": [],
   "source": [
    "import numpy as np"
   ]
  },
  {
   "cell_type": "code",
   "execution_count": 31,
   "metadata": {},
   "outputs": [],
   "source": [
    "import matplotlib"
   ]
  },
  {
   "cell_type": "code",
   "execution_count": 32,
   "metadata": {},
   "outputs": [],
   "source": [
    "import pandas as pd"
   ]
  },
  {
   "cell_type": "code",
   "execution_count": 56,
   "metadata": {},
   "outputs": [
    {
     "data": {
      "text/plain": [
       "torch.Tensor"
      ]
     },
     "execution_count": 56,
     "metadata": {},
     "output_type": "execute_result"
    }
   ],
   "source": [
    "type(output)"
   ]
  },
  {
   "cell_type": "code",
   "execution_count": 57,
   "metadata": {},
   "outputs": [
    {
     "data": {
      "text/plain": [
       "torch.Size([1, 10])"
      ]
     },
     "execution_count": 57,
     "metadata": {},
     "output_type": "execute_result"
    }
   ],
   "source": [
    "output.shape"
   ]
  },
  {
   "cell_type": "code",
   "execution_count": 58,
   "metadata": {},
   "outputs": [
    {
     "data": {
      "text/plain": [
       "tensor([[4.4327e-29, 0.0000e+00, 2.4943e-42, 0.0000e+00, 1.4013e-45, 1.2451e-20,\n",
       "         1.0000e+00, 0.0000e+00, 4.0359e-19, 1.1491e-43]], device='cuda:0',\n",
       "       grad_fn=<SoftmaxBackward>)"
      ]
     },
     "execution_count": 58,
     "metadata": {},
     "output_type": "execute_result"
    }
   ],
   "source": [
    "output"
   ]
  },
  {
   "cell_type": "code",
   "execution_count": 59,
   "metadata": {},
   "outputs": [],
   "source": [
    "outputValues = output.tolist()"
   ]
  },
  {
   "cell_type": "code",
   "execution_count": 66,
   "metadata": {},
   "outputs": [
    {
     "data": {
      "text/plain": [
       "[[4.432706517380187e-29,\n",
       "  0.0,\n",
       "  2.4943112664981744e-42,\n",
       "  0.0,\n",
       "  1.401298464324817e-45,\n",
       "  1.2451199986146238e-20,\n",
       "  1.0,\n",
       "  0.0,\n",
       "  4.0358609960496196e-19,\n",
       "  1.14906474074635e-43]]"
      ]
     },
     "execution_count": 66,
     "metadata": {},
     "output_type": "execute_result"
    }
   ],
   "source": [
    "outputValues"
   ]
  },
  {
   "cell_type": "code",
   "execution_count": 61,
   "metadata": {},
   "outputs": [],
   "source": [
    "outputCPU = output.cpu()"
   ]
  },
  {
   "cell_type": "code",
   "execution_count": 62,
   "metadata": {},
   "outputs": [
    {
     "data": {
      "text/plain": [
       "array([[4.4327065e-29, 0.0000000e+00, 2.4943113e-42, 0.0000000e+00,\n",
       "        1.4012985e-45, 1.2451200e-20, 1.0000000e+00, 0.0000000e+00,\n",
       "        4.0358610e-19, 1.1490647e-43]], dtype=float32)"
      ]
     },
     "execution_count": 62,
     "metadata": {},
     "output_type": "execute_result"
    }
   ],
   "source": [
    "outputCPU.detach().numpy()"
   ]
  },
  {
   "cell_type": "code",
   "execution_count": null,
   "metadata": {},
   "outputs": [],
   "source": []
  }
 ],
 "metadata": {
  "accelerator": "GPU",
  "colab": {
   "include_colab_link": true,
   "name": "Pytorch Training Notebook.ipynb",
   "provenance": [],
   "toc_visible": true
  },
  "kernelspec": {
   "display_name": "UncertaintyDNN",
   "language": "python",
   "name": "uncertaintydnn"
  },
  "language_info": {
   "codemirror_mode": {
    "name": "ipython",
    "version": 3
   },
   "file_extension": ".py",
   "mimetype": "text/x-python",
   "name": "python",
   "nbconvert_exporter": "python",
   "pygments_lexer": "ipython3",
   "version": "3.6.9"
  }
 },
 "nbformat": 4,
 "nbformat_minor": 4
}
